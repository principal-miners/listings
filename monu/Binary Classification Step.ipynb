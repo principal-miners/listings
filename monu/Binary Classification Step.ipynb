{
 "cells": [
  {
   "cell_type": "code",
   "execution_count": 284,
   "metadata": {},
   "outputs": [],
   "source": [
    "import pandas as pd\n",
    "import numpy as np\n",
    "import matplotlib.pyplot as plt\n",
    "import seaborn as sns \n",
    "\n",
    "import warnings\n",
    "warnings.filterwarnings('ignore')\n",
    "\n",
    "from sklearn.preprocessing import StandardScaler\n",
    "from sklearn.model_selection import train_test_split\n",
    "from sklearn.decomposition import PCA\n",
    "from sklearn.ensemble import RandomForestRegressor\n",
    "\n",
    "from sklearn.metrics import mean_squared_error as MSE\n",
    "\n",
    "from imblearn.over_sampling import SMOTE"
   ]
  },
  {
   "cell_type": "code",
   "execution_count": 285,
   "metadata": {},
   "outputs": [],
   "source": [
    "def class_accuracy(actual,pred):\n",
    "    print(\"Accuracy:\",metrics.accuracy_score(actual, pred))\n",
    "    print(\"F1 Score:\",metrics.f1_score(actual, pred))\n",
    "    print(\"ROC AUC Score:\",metrics.roc_auc_score(actual, pred))\n",
    "    print(\"Confusion Matrix \\n\",metrics.confusion_matrix(actual, pred))\n",
    "    import pandas as pd\n",
    "    y_true = pd.Series(actual)\n",
    "    y_pred = pd.Series(pred)\n",
    "    return pd.crosstab(y_true, y_pred, rownames=['True'], colnames=['Predicted'], margins=True)"
   ]
  },
  {
   "cell_type": "code",
   "execution_count": 286,
   "metadata": {},
   "outputs": [],
   "source": [
    "listings = pd.read_csv('/Users/Monu/Desktop/Data Mining Project/cleaned_with_nlp_listings.csv')"
   ]
  },
  {
   "cell_type": "code",
   "execution_count": 287,
   "metadata": {},
   "outputs": [
    {
     "data": {
      "text/html": [
       "<div>\n",
       "<style scoped>\n",
       "    .dataframe tbody tr th:only-of-type {\n",
       "        vertical-align: middle;\n",
       "    }\n",
       "\n",
       "    .dataframe tbody tr th {\n",
       "        vertical-align: top;\n",
       "    }\n",
       "\n",
       "    .dataframe thead th {\n",
       "        text-align: right;\n",
       "    }\n",
       "</style>\n",
       "<table border=\"1\" class=\"dataframe\">\n",
       "  <thead>\n",
       "    <tr style=\"text-align: right;\">\n",
       "      <th></th>\n",
       "      <th>id</th>\n",
       "      <th>host_response_rate</th>\n",
       "      <th>host_is_superhost</th>\n",
       "      <th>host_listings_count</th>\n",
       "      <th>host_total_listings_count</th>\n",
       "      <th>host_has_profile_pic</th>\n",
       "      <th>host_identity_verified</th>\n",
       "      <th>is_location_exact</th>\n",
       "      <th>accommodates</th>\n",
       "      <th>bathrooms</th>\n",
       "      <th>...</th>\n",
       "      <th>bed_type_Pull-out Sofa</th>\n",
       "      <th>bed_type_Real Bed</th>\n",
       "      <th>cancellation_policy_moderate</th>\n",
       "      <th>cancellation_policy_strict</th>\n",
       "      <th>topic_0</th>\n",
       "      <th>topic_1</th>\n",
       "      <th>topic_2</th>\n",
       "      <th>topic_3</th>\n",
       "      <th>topic_4</th>\n",
       "      <th>topic_5</th>\n",
       "    </tr>\n",
       "  </thead>\n",
       "  <tbody>\n",
       "    <tr>\n",
       "      <th>0</th>\n",
       "      <td>2454</td>\n",
       "      <td>60</td>\n",
       "      <td>0</td>\n",
       "      <td>1.0</td>\n",
       "      <td>1.0</td>\n",
       "      <td>1</td>\n",
       "      <td>0</td>\n",
       "      <td>1</td>\n",
       "      <td>2</td>\n",
       "      <td>1.0</td>\n",
       "      <td>...</td>\n",
       "      <td>0</td>\n",
       "      <td>1</td>\n",
       "      <td>0</td>\n",
       "      <td>0</td>\n",
       "      <td>1.000000</td>\n",
       "      <td>0.000000</td>\n",
       "      <td>0.000000</td>\n",
       "      <td>0.000000</td>\n",
       "      <td>0.000000</td>\n",
       "      <td>0.000000</td>\n",
       "    </tr>\n",
       "    <tr>\n",
       "      <th>1</th>\n",
       "      <td>2539</td>\n",
       "      <td>100</td>\n",
       "      <td>0</td>\n",
       "      <td>8.0</td>\n",
       "      <td>8.0</td>\n",
       "      <td>1</td>\n",
       "      <td>1</td>\n",
       "      <td>0</td>\n",
       "      <td>4</td>\n",
       "      <td>1.0</td>\n",
       "      <td>...</td>\n",
       "      <td>0</td>\n",
       "      <td>1</td>\n",
       "      <td>1</td>\n",
       "      <td>0</td>\n",
       "      <td>0.000000</td>\n",
       "      <td>0.222222</td>\n",
       "      <td>0.777778</td>\n",
       "      <td>0.000000</td>\n",
       "      <td>0.000000</td>\n",
       "      <td>0.000000</td>\n",
       "    </tr>\n",
       "    <tr>\n",
       "      <th>2</th>\n",
       "      <td>2595</td>\n",
       "      <td>60</td>\n",
       "      <td>0</td>\n",
       "      <td>5.0</td>\n",
       "      <td>5.0</td>\n",
       "      <td>1</td>\n",
       "      <td>1</td>\n",
       "      <td>0</td>\n",
       "      <td>2</td>\n",
       "      <td>1.0</td>\n",
       "      <td>...</td>\n",
       "      <td>0</td>\n",
       "      <td>1</td>\n",
       "      <td>0</td>\n",
       "      <td>1</td>\n",
       "      <td>0.000000</td>\n",
       "      <td>0.232558</td>\n",
       "      <td>0.302326</td>\n",
       "      <td>0.093023</td>\n",
       "      <td>0.046512</td>\n",
       "      <td>0.325581</td>\n",
       "    </tr>\n",
       "    <tr>\n",
       "      <th>3</th>\n",
       "      <td>3330</td>\n",
       "      <td>100</td>\n",
       "      <td>0</td>\n",
       "      <td>4.0</td>\n",
       "      <td>4.0</td>\n",
       "      <td>1</td>\n",
       "      <td>1</td>\n",
       "      <td>1</td>\n",
       "      <td>2</td>\n",
       "      <td>1.0</td>\n",
       "      <td>...</td>\n",
       "      <td>0</td>\n",
       "      <td>1</td>\n",
       "      <td>0</td>\n",
       "      <td>1</td>\n",
       "      <td>0.051282</td>\n",
       "      <td>0.102564</td>\n",
       "      <td>0.435897</td>\n",
       "      <td>0.051282</td>\n",
       "      <td>0.051282</td>\n",
       "      <td>0.307692</td>\n",
       "    </tr>\n",
       "    <tr>\n",
       "      <th>4</th>\n",
       "      <td>3831</td>\n",
       "      <td>96</td>\n",
       "      <td>0</td>\n",
       "      <td>1.0</td>\n",
       "      <td>1.0</td>\n",
       "      <td>1</td>\n",
       "      <td>1</td>\n",
       "      <td>1</td>\n",
       "      <td>3</td>\n",
       "      <td>1.0</td>\n",
       "      <td>...</td>\n",
       "      <td>0</td>\n",
       "      <td>1</td>\n",
       "      <td>1</td>\n",
       "      <td>0</td>\n",
       "      <td>0.004329</td>\n",
       "      <td>0.134199</td>\n",
       "      <td>0.571429</td>\n",
       "      <td>0.121212</td>\n",
       "      <td>0.086580</td>\n",
       "      <td>0.082251</td>\n",
       "    </tr>\n",
       "  </tbody>\n",
       "</table>\n",
       "<p>5 rows × 87 columns</p>\n",
       "</div>"
      ],
      "text/plain": [
       "     id  host_response_rate  host_is_superhost  host_listings_count  \\\n",
       "0  2454                  60                  0                  1.0   \n",
       "1  2539                 100                  0                  8.0   \n",
       "2  2595                  60                  0                  5.0   \n",
       "3  3330                 100                  0                  4.0   \n",
       "4  3831                  96                  0                  1.0   \n",
       "\n",
       "   host_total_listings_count  host_has_profile_pic  host_identity_verified  \\\n",
       "0                        1.0                     1                       0   \n",
       "1                        8.0                     1                       1   \n",
       "2                        5.0                     1                       1   \n",
       "3                        4.0                     1                       1   \n",
       "4                        1.0                     1                       1   \n",
       "\n",
       "   is_location_exact  accommodates  bathrooms    ...     \\\n",
       "0                  1             2        1.0    ...      \n",
       "1                  0             4        1.0    ...      \n",
       "2                  0             2        1.0    ...      \n",
       "3                  1             2        1.0    ...      \n",
       "4                  1             3        1.0    ...      \n",
       "\n",
       "   bed_type_Pull-out Sofa  bed_type_Real Bed  cancellation_policy_moderate  \\\n",
       "0                       0                  1                             0   \n",
       "1                       0                  1                             1   \n",
       "2                       0                  1                             0   \n",
       "3                       0                  1                             0   \n",
       "4                       0                  1                             1   \n",
       "\n",
       "   cancellation_policy_strict   topic_0   topic_1   topic_2   topic_3  \\\n",
       "0                           0  1.000000  0.000000  0.000000  0.000000   \n",
       "1                           0  0.000000  0.222222  0.777778  0.000000   \n",
       "2                           1  0.000000  0.232558  0.302326  0.093023   \n",
       "3                           1  0.051282  0.102564  0.435897  0.051282   \n",
       "4                           0  0.004329  0.134199  0.571429  0.121212   \n",
       "\n",
       "    topic_4   topic_5  \n",
       "0  0.000000  0.000000  \n",
       "1  0.000000  0.000000  \n",
       "2  0.046512  0.325581  \n",
       "3  0.051282  0.307692  \n",
       "4  0.086580  0.082251  \n",
       "\n",
       "[5 rows x 87 columns]"
      ]
     },
     "execution_count": 287,
     "metadata": {},
     "output_type": "execute_result"
    }
   ],
   "source": [
    "listings.head()"
   ]
  },
  {
   "cell_type": "code",
   "execution_count": 288,
   "metadata": {},
   "outputs": [
    {
     "data": {
      "text/plain": [
       "Index(['id', 'host_response_rate', 'host_is_superhost', 'host_listings_count',\n",
       "       'host_total_listings_count', 'host_has_profile_pic',\n",
       "       'host_identity_verified', 'is_location_exact', 'accommodates',\n",
       "       'bathrooms', 'bedrooms', 'beds', 'price', 'security_deposit',\n",
       "       'cleaning_fee', 'guests_included', 'extra_people', 'minimum_nights',\n",
       "       'maximum_nights', 'minimum_minimum_nights', 'maximum_minimum_nights',\n",
       "       'minimum_maximum_nights', 'maximum_maximum_nights',\n",
       "       'minimum_nights_avg_ntm', 'maximum_nights_avg_ntm', 'availability_30',\n",
       "       'availability_60', 'availability_90', 'availability_365',\n",
       "       'number_of_reviews', 'number_of_reviews_ltm', 'review_scores_rating',\n",
       "       'review_scores_accuracy', 'review_scores_cleanliness',\n",
       "       'review_scores_checkin', 'review_scores_communication',\n",
       "       'review_scores_location', 'review_scores_value', 'instant_bookable',\n",
       "       'require_guest_profile_picture', 'require_guest_phone_verification',\n",
       "       'calculated_host_listings_count',\n",
       "       'calculated_host_listings_count_entire_homes',\n",
       "       'calculated_host_listings_count_private_rooms',\n",
       "       'calculated_host_listings_count_shared_rooms', 'reviews_per_month',\n",
       "       'host_verifications_count', 'desc_len', 'host_about_len',\n",
       "       'lreview_year', 'lreview_month', 'lreview_day', 'freview_year',\n",
       "       'freview_month', 'freview_day', 'ndays_between_f_l_reviews',\n",
       "       'ndays_host', 'ndays_last_review', 'num_amenities',\n",
       "       'host_response_time_na', 'host_response_time_within a day',\n",
       "       'host_response_time_within a few hours',\n",
       "       'host_response_time_within an hour',\n",
       "       'neighbourhood_group_cleansed_Brooklyn',\n",
       "       'neighbourhood_group_cleansed_Manhattan',\n",
       "       'neighbourhood_group_cleansed_Queens',\n",
       "       'neighbourhood_group_cleansed_Staten Island',\n",
       "       'property_type_Condominium', 'property_type_House',\n",
       "       'property_type_Loft', 'property_type_Other',\n",
       "       'property_type_Serviced apartment', 'property_type_Townhouse',\n",
       "       'room_type_Private room', 'room_type_Shared room', 'bed_type_Couch',\n",
       "       'bed_type_Futon', 'bed_type_Pull-out Sofa', 'bed_type_Real Bed',\n",
       "       'cancellation_policy_moderate', 'cancellation_policy_strict', 'topic_0',\n",
       "       'topic_1', 'topic_2', 'topic_3', 'topic_4', 'topic_5'],\n",
       "      dtype='object')"
      ]
     },
     "execution_count": 288,
     "metadata": {},
     "output_type": "execute_result"
    }
   ],
   "source": [
    "listings.columns"
   ]
  },
  {
   "cell_type": "code",
   "execution_count": 289,
   "metadata": {},
   "outputs": [],
   "source": [
    "listings.drop(['id'],axis=1,inplace=True)"
   ]
  },
  {
   "cell_type": "code",
   "execution_count": 290,
   "metadata": {},
   "outputs": [
    {
     "data": {
      "text/html": [
       "<div>\n",
       "<style scoped>\n",
       "    .dataframe tbody tr th:only-of-type {\n",
       "        vertical-align: middle;\n",
       "    }\n",
       "\n",
       "    .dataframe tbody tr th {\n",
       "        vertical-align: top;\n",
       "    }\n",
       "\n",
       "    .dataframe thead th {\n",
       "        text-align: right;\n",
       "    }\n",
       "</style>\n",
       "<table border=\"1\" class=\"dataframe\">\n",
       "  <thead>\n",
       "    <tr style=\"text-align: right;\">\n",
       "      <th></th>\n",
       "      <th>host_response_rate</th>\n",
       "      <th>host_is_superhost</th>\n",
       "      <th>host_listings_count</th>\n",
       "      <th>host_total_listings_count</th>\n",
       "      <th>host_has_profile_pic</th>\n",
       "      <th>host_identity_verified</th>\n",
       "      <th>is_location_exact</th>\n",
       "      <th>accommodates</th>\n",
       "      <th>bathrooms</th>\n",
       "      <th>bedrooms</th>\n",
       "      <th>...</th>\n",
       "      <th>bed_type_Pull-out Sofa</th>\n",
       "      <th>bed_type_Real Bed</th>\n",
       "      <th>cancellation_policy_moderate</th>\n",
       "      <th>cancellation_policy_strict</th>\n",
       "      <th>topic_0</th>\n",
       "      <th>topic_1</th>\n",
       "      <th>topic_2</th>\n",
       "      <th>topic_3</th>\n",
       "      <th>topic_4</th>\n",
       "      <th>topic_5</th>\n",
       "    </tr>\n",
       "  </thead>\n",
       "  <tbody>\n",
       "    <tr>\n",
       "      <th>count</th>\n",
       "      <td>39926.000000</td>\n",
       "      <td>39926.000000</td>\n",
       "      <td>39926.000000</td>\n",
       "      <td>39926.000000</td>\n",
       "      <td>39926.000000</td>\n",
       "      <td>39926.000000</td>\n",
       "      <td>39926.000000</td>\n",
       "      <td>39926.000000</td>\n",
       "      <td>39926.000000</td>\n",
       "      <td>39926.000000</td>\n",
       "      <td>...</td>\n",
       "      <td>39926.000000</td>\n",
       "      <td>39926.000000</td>\n",
       "      <td>39926.000000</td>\n",
       "      <td>39926.000000</td>\n",
       "      <td>39926.000000</td>\n",
       "      <td>39926.000000</td>\n",
       "      <td>39926.000000</td>\n",
       "      <td>39926.000000</td>\n",
       "      <td>39926.000000</td>\n",
       "      <td>39926.000000</td>\n",
       "    </tr>\n",
       "    <tr>\n",
       "      <th>mean</th>\n",
       "      <td>96.315884</td>\n",
       "      <td>0.210590</td>\n",
       "      <td>5.662826</td>\n",
       "      <td>5.662826</td>\n",
       "      <td>0.998422</td>\n",
       "      <td>0.528553</td>\n",
       "      <td>0.828608</td>\n",
       "      <td>2.950058</td>\n",
       "      <td>1.138306</td>\n",
       "      <td>1.184642</td>\n",
       "      <td>...</td>\n",
       "      <td>0.006061</td>\n",
       "      <td>0.981691</td>\n",
       "      <td>0.259781</td>\n",
       "      <td>0.491660</td>\n",
       "      <td>0.062247</td>\n",
       "      <td>0.164064</td>\n",
       "      <td>0.430393</td>\n",
       "      <td>0.055104</td>\n",
       "      <td>0.079159</td>\n",
       "      <td>0.209033</td>\n",
       "    </tr>\n",
       "    <tr>\n",
       "      <th>std</th>\n",
       "      <td>12.673573</td>\n",
       "      <td>0.407732</td>\n",
       "      <td>45.784125</td>\n",
       "      <td>45.784125</td>\n",
       "      <td>0.039692</td>\n",
       "      <td>0.499190</td>\n",
       "      <td>0.376856</td>\n",
       "      <td>1.916729</td>\n",
       "      <td>0.422823</td>\n",
       "      <td>0.749081</td>\n",
       "      <td>...</td>\n",
       "      <td>0.077618</td>\n",
       "      <td>0.134068</td>\n",
       "      <td>0.438520</td>\n",
       "      <td>0.499937</td>\n",
       "      <td>0.181705</td>\n",
       "      <td>0.191245</td>\n",
       "      <td>0.275933</td>\n",
       "      <td>0.115318</td>\n",
       "      <td>0.141098</td>\n",
       "      <td>0.234078</td>\n",
       "    </tr>\n",
       "    <tr>\n",
       "      <th>min</th>\n",
       "      <td>0.000000</td>\n",
       "      <td>0.000000</td>\n",
       "      <td>0.000000</td>\n",
       "      <td>0.000000</td>\n",
       "      <td>0.000000</td>\n",
       "      <td>0.000000</td>\n",
       "      <td>0.000000</td>\n",
       "      <td>1.000000</td>\n",
       "      <td>0.000000</td>\n",
       "      <td>0.000000</td>\n",
       "      <td>...</td>\n",
       "      <td>0.000000</td>\n",
       "      <td>0.000000</td>\n",
       "      <td>0.000000</td>\n",
       "      <td>0.000000</td>\n",
       "      <td>0.000000</td>\n",
       "      <td>0.000000</td>\n",
       "      <td>0.000000</td>\n",
       "      <td>0.000000</td>\n",
       "      <td>0.000000</td>\n",
       "      <td>0.000000</td>\n",
       "    </tr>\n",
       "    <tr>\n",
       "      <th>25%</th>\n",
       "      <td>100.000000</td>\n",
       "      <td>0.000000</td>\n",
       "      <td>1.000000</td>\n",
       "      <td>1.000000</td>\n",
       "      <td>1.000000</td>\n",
       "      <td>0.000000</td>\n",
       "      <td>1.000000</td>\n",
       "      <td>2.000000</td>\n",
       "      <td>1.000000</td>\n",
       "      <td>1.000000</td>\n",
       "      <td>...</td>\n",
       "      <td>0.000000</td>\n",
       "      <td>1.000000</td>\n",
       "      <td>0.000000</td>\n",
       "      <td>0.000000</td>\n",
       "      <td>0.000000</td>\n",
       "      <td>0.000000</td>\n",
       "      <td>0.250000</td>\n",
       "      <td>0.000000</td>\n",
       "      <td>0.000000</td>\n",
       "      <td>0.000000</td>\n",
       "    </tr>\n",
       "    <tr>\n",
       "      <th>50%</th>\n",
       "      <td>100.000000</td>\n",
       "      <td>0.000000</td>\n",
       "      <td>1.000000</td>\n",
       "      <td>1.000000</td>\n",
       "      <td>1.000000</td>\n",
       "      <td>1.000000</td>\n",
       "      <td>1.000000</td>\n",
       "      <td>2.000000</td>\n",
       "      <td>1.000000</td>\n",
       "      <td>1.000000</td>\n",
       "      <td>...</td>\n",
       "      <td>0.000000</td>\n",
       "      <td>1.000000</td>\n",
       "      <td>0.000000</td>\n",
       "      <td>0.000000</td>\n",
       "      <td>0.000000</td>\n",
       "      <td>0.129750</td>\n",
       "      <td>0.430000</td>\n",
       "      <td>0.000000</td>\n",
       "      <td>0.031250</td>\n",
       "      <td>0.159420</td>\n",
       "    </tr>\n",
       "    <tr>\n",
       "      <th>75%</th>\n",
       "      <td>100.000000</td>\n",
       "      <td>0.000000</td>\n",
       "      <td>2.000000</td>\n",
       "      <td>2.000000</td>\n",
       "      <td>1.000000</td>\n",
       "      <td>1.000000</td>\n",
       "      <td>1.000000</td>\n",
       "      <td>4.000000</td>\n",
       "      <td>1.000000</td>\n",
       "      <td>1.000000</td>\n",
       "      <td>...</td>\n",
       "      <td>0.000000</td>\n",
       "      <td>1.000000</td>\n",
       "      <td>1.000000</td>\n",
       "      <td>1.000000</td>\n",
       "      <td>0.014493</td>\n",
       "      <td>0.235941</td>\n",
       "      <td>0.600000</td>\n",
       "      <td>0.072581</td>\n",
       "      <td>0.105263</td>\n",
       "      <td>0.333333</td>\n",
       "    </tr>\n",
       "    <tr>\n",
       "      <th>max</th>\n",
       "      <td>100.000000</td>\n",
       "      <td>1.000000</td>\n",
       "      <td>1481.000000</td>\n",
       "      <td>1481.000000</td>\n",
       "      <td>1.000000</td>\n",
       "      <td>1.000000</td>\n",
       "      <td>1.000000</td>\n",
       "      <td>16.000000</td>\n",
       "      <td>15.500000</td>\n",
       "      <td>14.000000</td>\n",
       "      <td>...</td>\n",
       "      <td>1.000000</td>\n",
       "      <td>1.000000</td>\n",
       "      <td>1.000000</td>\n",
       "      <td>1.000000</td>\n",
       "      <td>1.000000</td>\n",
       "      <td>1.000000</td>\n",
       "      <td>1.000000</td>\n",
       "      <td>1.000000</td>\n",
       "      <td>1.000000</td>\n",
       "      <td>1.000000</td>\n",
       "    </tr>\n",
       "  </tbody>\n",
       "</table>\n",
       "<p>8 rows × 86 columns</p>\n",
       "</div>"
      ],
      "text/plain": [
       "       host_response_rate  host_is_superhost  host_listings_count  \\\n",
       "count        39926.000000       39926.000000         39926.000000   \n",
       "mean            96.315884           0.210590             5.662826   \n",
       "std             12.673573           0.407732            45.784125   \n",
       "min              0.000000           0.000000             0.000000   \n",
       "25%            100.000000           0.000000             1.000000   \n",
       "50%            100.000000           0.000000             1.000000   \n",
       "75%            100.000000           0.000000             2.000000   \n",
       "max            100.000000           1.000000          1481.000000   \n",
       "\n",
       "       host_total_listings_count  host_has_profile_pic  \\\n",
       "count               39926.000000          39926.000000   \n",
       "mean                    5.662826              0.998422   \n",
       "std                    45.784125              0.039692   \n",
       "min                     0.000000              0.000000   \n",
       "25%                     1.000000              1.000000   \n",
       "50%                     1.000000              1.000000   \n",
       "75%                     2.000000              1.000000   \n",
       "max                  1481.000000              1.000000   \n",
       "\n",
       "       host_identity_verified  is_location_exact  accommodates     bathrooms  \\\n",
       "count            39926.000000       39926.000000  39926.000000  39926.000000   \n",
       "mean                 0.528553           0.828608      2.950058      1.138306   \n",
       "std                  0.499190           0.376856      1.916729      0.422823   \n",
       "min                  0.000000           0.000000      1.000000      0.000000   \n",
       "25%                  0.000000           1.000000      2.000000      1.000000   \n",
       "50%                  1.000000           1.000000      2.000000      1.000000   \n",
       "75%                  1.000000           1.000000      4.000000      1.000000   \n",
       "max                  1.000000           1.000000     16.000000     15.500000   \n",
       "\n",
       "           bedrooms      ...       bed_type_Pull-out Sofa  bed_type_Real Bed  \\\n",
       "count  39926.000000      ...                 39926.000000       39926.000000   \n",
       "mean       1.184642      ...                     0.006061           0.981691   \n",
       "std        0.749081      ...                     0.077618           0.134068   \n",
       "min        0.000000      ...                     0.000000           0.000000   \n",
       "25%        1.000000      ...                     0.000000           1.000000   \n",
       "50%        1.000000      ...                     0.000000           1.000000   \n",
       "75%        1.000000      ...                     0.000000           1.000000   \n",
       "max       14.000000      ...                     1.000000           1.000000   \n",
       "\n",
       "       cancellation_policy_moderate  cancellation_policy_strict       topic_0  \\\n",
       "count                  39926.000000                39926.000000  39926.000000   \n",
       "mean                       0.259781                    0.491660      0.062247   \n",
       "std                        0.438520                    0.499937      0.181705   \n",
       "min                        0.000000                    0.000000      0.000000   \n",
       "25%                        0.000000                    0.000000      0.000000   \n",
       "50%                        0.000000                    0.000000      0.000000   \n",
       "75%                        1.000000                    1.000000      0.014493   \n",
       "max                        1.000000                    1.000000      1.000000   \n",
       "\n",
       "            topic_1       topic_2       topic_3       topic_4       topic_5  \n",
       "count  39926.000000  39926.000000  39926.000000  39926.000000  39926.000000  \n",
       "mean       0.164064      0.430393      0.055104      0.079159      0.209033  \n",
       "std        0.191245      0.275933      0.115318      0.141098      0.234078  \n",
       "min        0.000000      0.000000      0.000000      0.000000      0.000000  \n",
       "25%        0.000000      0.250000      0.000000      0.000000      0.000000  \n",
       "50%        0.129750      0.430000      0.000000      0.031250      0.159420  \n",
       "75%        0.235941      0.600000      0.072581      0.105263      0.333333  \n",
       "max        1.000000      1.000000      1.000000      1.000000      1.000000  \n",
       "\n",
       "[8 rows x 86 columns]"
      ]
     },
     "execution_count": 290,
     "metadata": {},
     "output_type": "execute_result"
    }
   ],
   "source": [
    "listings.describe()"
   ]
  },
  {
   "cell_type": "code",
   "execution_count": 291,
   "metadata": {},
   "outputs": [
    {
     "data": {
      "text/plain": [
       "<matplotlib.axes._subplots.AxesSubplot at 0x1a3b789978>"
      ]
     },
     "execution_count": 291,
     "metadata": {},
     "output_type": "execute_result"
    },
    {
     "data": {
      "image/png": "[encoded data removed]",
      "text/plain": [
       "<Figure size 1800x648 with 1 Axes>"
      ]
     },
     "metadata": {
      "needs_background": "light"
     },
     "output_type": "display_data"
    }
   ],
   "source": [
    "percentiles = list(range(0,101))\n",
    "price_percentile = {}\n",
    "for p in percentiles:\n",
    "    price_percentile[p] = np.percentile(listings['price'].values, p)\n",
    "\n",
    "price_percentile = pd.DataFrame.from_dict(price_percentile, orient='index')\n",
    "price_percentile.plot(kind='bar', figsize=(25,9), grid=True)"
   ]
  },
  {
   "cell_type": "code",
   "execution_count": 292,
   "metadata": {
    "scrolled": true
   },
   "outputs": [
    {
     "data": {
      "text/plain": [
       "count    39187.000000\n",
       "mean       132.477684\n",
       "std         91.465661\n",
       "min         30.000000\n",
       "25%         70.000000\n",
       "50%        105.000000\n",
       "75%        169.000000\n",
       "max        650.000000\n",
       "Name: price, dtype: float64"
      ]
     },
     "execution_count": 292,
     "metadata": {},
     "output_type": "execute_result"
    }
   ],
   "source": [
    "listings_filtered = listings[listings[\"price\"] <= price_percentile.iloc[99,:].values[0]]\n",
    "listings_filtered = listings_filtered[listings_filtered[\"price\"] >= price_percentile.iloc[1,:].values[0]]\n",
    "listings_filtered[\"price\"].describe()"
   ]
  },
  {
   "cell_type": "code",
   "execution_count": 293,
   "metadata": {},
   "outputs": [
    {
     "name": "stdout",
     "output_type": "stream",
     "text": [
      "185.0\n"
     ]
    }
   ],
   "source": [
    "percentile_val = np.percentile(listings_filtered['price'].values, 80)\n",
    "print(percentile_val)"
   ]
  },
  {
   "cell_type": "code",
   "execution_count": 294,
   "metadata": {},
   "outputs": [],
   "source": [
    "listings_filtered['price_binary'] = listings_filtered['price'].apply(lambda x: 1 if x <= percentile_val else 0)"
   ]
  },
  {
   "cell_type": "code",
   "execution_count": 295,
   "metadata": {},
   "outputs": [
    {
     "data": {
      "text/plain": [
       "1    31357\n",
       "0     7830\n",
       "Name: price_binary, dtype: int64"
      ]
     },
     "execution_count": 295,
     "metadata": {},
     "output_type": "execute_result"
    }
   ],
   "source": [
    "listings_filtered['price_binary'].value_counts()"
   ]
  },
  {
   "cell_type": "code",
   "execution_count": 296,
   "metadata": {},
   "outputs": [
    {
     "data": {
      "text/plain": [
       "Index(['host_response_rate', 'host_is_superhost', 'host_listings_count',\n",
       "       'host_total_listings_count', 'host_has_profile_pic',\n",
       "       'host_identity_verified', 'is_location_exact', 'accommodates',\n",
       "       'bathrooms', 'bedrooms', 'beds', 'price', 'security_deposit',\n",
       "       'cleaning_fee', 'guests_included', 'extra_people', 'minimum_nights',\n",
       "       'maximum_nights', 'minimum_minimum_nights', 'maximum_minimum_nights',\n",
       "       'minimum_maximum_nights', 'maximum_maximum_nights',\n",
       "       'minimum_nights_avg_ntm', 'maximum_nights_avg_ntm', 'availability_30',\n",
       "       'availability_60', 'availability_90', 'availability_365',\n",
       "       'number_of_reviews', 'number_of_reviews_ltm', 'review_scores_rating',\n",
       "       'review_scores_accuracy', 'review_scores_cleanliness',\n",
       "       'review_scores_checkin', 'review_scores_communication',\n",
       "       'review_scores_location', 'review_scores_value', 'instant_bookable',\n",
       "       'require_guest_profile_picture', 'require_guest_phone_verification',\n",
       "       'calculated_host_listings_count',\n",
       "       'calculated_host_listings_count_entire_homes',\n",
       "       'calculated_host_listings_count_private_rooms',\n",
       "       'calculated_host_listings_count_shared_rooms', 'reviews_per_month',\n",
       "       'host_verifications_count', 'desc_len', 'host_about_len',\n",
       "       'lreview_year', 'lreview_month', 'lreview_day', 'freview_year',\n",
       "       'freview_month', 'freview_day', 'ndays_between_f_l_reviews',\n",
       "       'ndays_host', 'ndays_last_review', 'num_amenities',\n",
       "       'host_response_time_na', 'host_response_time_within a day',\n",
       "       'host_response_time_within a few hours',\n",
       "       'host_response_time_within an hour',\n",
       "       'neighbourhood_group_cleansed_Brooklyn',\n",
       "       'neighbourhood_group_cleansed_Manhattan',\n",
       "       'neighbourhood_group_cleansed_Queens',\n",
       "       'neighbourhood_group_cleansed_Staten Island',\n",
       "       'property_type_Condominium', 'property_type_House',\n",
       "       'property_type_Loft', 'property_type_Other',\n",
       "       'property_type_Serviced apartment', 'property_type_Townhouse',\n",
       "       'room_type_Private room', 'room_type_Shared room', 'bed_type_Couch',\n",
       "       'bed_type_Futon', 'bed_type_Pull-out Sofa', 'bed_type_Real Bed',\n",
       "       'cancellation_policy_moderate', 'cancellation_policy_strict', 'topic_0',\n",
       "       'topic_1', 'topic_2', 'topic_3', 'topic_4', 'topic_5', 'price_binary'],\n",
       "      dtype='object')"
      ]
     },
     "execution_count": 296,
     "metadata": {},
     "output_type": "execute_result"
    }
   ],
   "source": [
    "listings_filtered.columns"
   ]
  },
  {
   "cell_type": "markdown",
   "metadata": {},
   "source": [
    "### Preprocessing"
   ]
  },
  {
   "cell_type": "code",
   "execution_count": 421,
   "metadata": {},
   "outputs": [
    {
     "name": "stdout",
     "output_type": "stream",
     "text": [
      "(39187, 85)\n",
      "(39187, 2)\n"
     ]
    }
   ],
   "source": [
    "ycol = ['price','price_binary']\n",
    "xcol = [i for i in listings_filtered.columns if i not in ycol]\n",
    "x = listings_filtered[xcol].values\n",
    "y = listings_filtered[ycol].values\n",
    "print(x.shape)\n",
    "print(y.shape)"
   ]
  },
  {
   "cell_type": "code",
   "execution_count": 422,
   "metadata": {},
   "outputs": [],
   "source": [
    "standard_scaler = StandardScaler()\n",
    "x = standard_scaler.fit_transform(x)"
   ]
  },
  {
   "cell_type": "markdown",
   "metadata": {},
   "source": [
    "### Classification Models"
   ]
  },
  {
   "cell_type": "code",
   "execution_count": 423,
   "metadata": {},
   "outputs": [],
   "source": [
    "from sklearn.model_selection import train_test_split\n",
    "from sklearn.linear_model import LogisticRegression\n",
    "from sklearn.svm import SVC, LinearSVC\n",
    "from sklearn.neighbors import KNeighborsClassifier\n",
    "from sklearn.tree import DecisionTreeClassifier\n",
    "from sklearn.ensemble import RandomForestClassifier\n",
    "from sklearn.ensemble import GradientBoostingClassifier\n",
    "from sklearn import metrics"
   ]
  },
  {
   "cell_type": "code",
   "execution_count": 424,
   "metadata": {},
   "outputs": [],
   "source": [
    "def class_accuracy(actual,pred):\n",
    "    from sklearn import metrics\n",
    "    print(\"Accuracy:\",metrics.accuracy_score(actual, pred))\n",
    "    print(\"F1 Score:\",metrics.f1_score(actual, pred))\n",
    "    print(\"ROC AUC Score:\",metrics.roc_auc_score(actual, pred))\n",
    "    print(\"Confusion Matrix \\n\",metrics.confusion_matrix(actual, pred))\n",
    "    import pandas as pd\n",
    "    y_true = pd.Series(actual)\n",
    "    y_pred = pd.Series(pred)\n",
    "    return pd.crosstab(y_true, y_pred, rownames=['True'], colnames=['Predicted'], margins=True)"
   ]
  },
  {
   "cell_type": "code",
   "execution_count": 425,
   "metadata": {},
   "outputs": [
    {
     "name": "stdout",
     "output_type": "stream",
     "text": [
      "(29390, 85)\n",
      "(29390, 2)\n",
      "(9797, 85)\n",
      "(9797, 2)\n"
     ]
    }
   ],
   "source": [
    "seed = 2018\n",
    "x_train_bs,x_test,y_train_bs,y_test=train_test_split(x,y,test_size=0.25,random_state=seed)\n",
    "\n",
    "print(x_train_bs.shape)\n",
    "print(y_train_bs.shape)\n",
    "print(x_test.shape)\n",
    "print(y_test.shape)"
   ]
  },
  {
   "cell_type": "code",
   "execution_count": 426,
   "metadata": {},
   "outputs": [],
   "source": [
    "actual_test_prices = y_test[:,0]\n",
    "actual_train_prices = y_train_bs[:,0]\n",
    "y_test = y_test[:,1]\n",
    "y_train_bs = y_train_bs[:,1]"
   ]
  },
  {
   "cell_type": "code",
   "execution_count": 427,
   "metadata": {},
   "outputs": [
    {
     "name": "stdout",
     "output_type": "stream",
     "text": [
      "[[0.0000e+00 1.0000e+00]\n",
      " [5.9080e+03 2.3482e+04]] 0\n"
     ]
    }
   ],
   "source": [
    "unique, counts = np.unique(y_train_bs, return_counts=True)\n",
    "\n",
    "print(np.asarray((unique, counts)),0)\n"
   ]
  },
  {
   "cell_type": "code",
   "execution_count": 446,
   "metadata": {},
   "outputs": [],
   "source": [
    "rfc = RandomForestClassifier(n_jobs=-1)\n",
    "rfc.fit(X=x_train_bs, y=y_train_bs)\n",
    "y_pred_train = rfc.predict(X=x_train_bs)\n",
    "y_pred_test = rfc.predict(X=x_test)"
   ]
  },
  {
   "cell_type": "code",
   "execution_count": 447,
   "metadata": {},
   "outputs": [
    {
     "name": "stdout",
     "output_type": "stream",
     "text": [
      "Accuracy: 0.9955427015991833\n",
      "F1 Score: 0.9972114013240522\n",
      "ROC AUC Score: 0.9926502859592479\n",
      "Confusion Matrix \n",
      " [[ 5836    72]\n",
      " [   59 23423]]\n"
     ]
    },
    {
     "data": {
      "text/html": [
       "<div>\n",
       "<style scoped>\n",
       "    .dataframe tbody tr th:only-of-type {\n",
       "        vertical-align: middle;\n",
       "    }\n",
       "\n",
       "    .dataframe tbody tr th {\n",
       "        vertical-align: top;\n",
       "    }\n",
       "\n",
       "    .dataframe thead th {\n",
       "        text-align: right;\n",
       "    }\n",
       "</style>\n",
       "<table border=\"1\" class=\"dataframe\">\n",
       "  <thead>\n",
       "    <tr style=\"text-align: right;\">\n",
       "      <th>Predicted</th>\n",
       "      <th>0.0</th>\n",
       "      <th>1.0</th>\n",
       "      <th>All</th>\n",
       "    </tr>\n",
       "    <tr>\n",
       "      <th>True</th>\n",
       "      <th></th>\n",
       "      <th></th>\n",
       "      <th></th>\n",
       "    </tr>\n",
       "  </thead>\n",
       "  <tbody>\n",
       "    <tr>\n",
       "      <th>0.0</th>\n",
       "      <td>5836</td>\n",
       "      <td>72</td>\n",
       "      <td>5908</td>\n",
       "    </tr>\n",
       "    <tr>\n",
       "      <th>1.0</th>\n",
       "      <td>59</td>\n",
       "      <td>23423</td>\n",
       "      <td>23482</td>\n",
       "    </tr>\n",
       "    <tr>\n",
       "      <th>All</th>\n",
       "      <td>5895</td>\n",
       "      <td>23495</td>\n",
       "      <td>29390</td>\n",
       "    </tr>\n",
       "  </tbody>\n",
       "</table>\n",
       "</div>"
      ],
      "text/plain": [
       "Predicted   0.0    1.0    All\n",
       "True                         \n",
       "0.0        5836     72   5908\n",
       "1.0          59  23423  23482\n",
       "All        5895  23495  29390"
      ]
     },
     "execution_count": 447,
     "metadata": {},
     "output_type": "execute_result"
    }
   ],
   "source": [
    "class_accuracy(y_train_bs, y_pred_train)"
   ]
  },
  {
   "cell_type": "code",
   "execution_count": 448,
   "metadata": {},
   "outputs": [
    {
     "name": "stdout",
     "output_type": "stream",
     "text": [
      "Accuracy: 0.8597529856078391\n",
      "F1 Score: 0.9140390390390389\n",
      "ROC AUC Score: 0.7546523958178484\n",
      "Confusion Matrix \n",
      " [[1118  804]\n",
      " [ 570 7305]]\n"
     ]
    },
    {
     "data": {
      "text/html": [
       "<div>\n",
       "<style scoped>\n",
       "    .dataframe tbody tr th:only-of-type {\n",
       "        vertical-align: middle;\n",
       "    }\n",
       "\n",
       "    .dataframe tbody tr th {\n",
       "        vertical-align: top;\n",
       "    }\n",
       "\n",
       "    .dataframe thead th {\n",
       "        text-align: right;\n",
       "    }\n",
       "</style>\n",
       "<table border=\"1\" class=\"dataframe\">\n",
       "  <thead>\n",
       "    <tr style=\"text-align: right;\">\n",
       "      <th>Predicted</th>\n",
       "      <th>0.0</th>\n",
       "      <th>1.0</th>\n",
       "      <th>All</th>\n",
       "    </tr>\n",
       "    <tr>\n",
       "      <th>True</th>\n",
       "      <th></th>\n",
       "      <th></th>\n",
       "      <th></th>\n",
       "    </tr>\n",
       "  </thead>\n",
       "  <tbody>\n",
       "    <tr>\n",
       "      <th>0.0</th>\n",
       "      <td>1118</td>\n",
       "      <td>804</td>\n",
       "      <td>1922</td>\n",
       "    </tr>\n",
       "    <tr>\n",
       "      <th>1.0</th>\n",
       "      <td>570</td>\n",
       "      <td>7305</td>\n",
       "      <td>7875</td>\n",
       "    </tr>\n",
       "    <tr>\n",
       "      <th>All</th>\n",
       "      <td>1688</td>\n",
       "      <td>8109</td>\n",
       "      <td>9797</td>\n",
       "    </tr>\n",
       "  </tbody>\n",
       "</table>\n",
       "</div>"
      ],
      "text/plain": [
       "Predicted   0.0   1.0   All\n",
       "True                       \n",
       "0.0        1118   804  1922\n",
       "1.0         570  7305  7875\n",
       "All        1688  8109  9797"
      ]
     },
     "execution_count": 448,
     "metadata": {},
     "output_type": "execute_result"
    }
   ],
   "source": [
    "class_accuracy(y_test, y_pred_test)"
   ]
  },
  {
   "cell_type": "code",
   "execution_count": 450,
   "metadata": {},
   "outputs": [
    {
     "name": "stdout",
     "output_type": "stream",
     "text": [
      "{'n_estimators': [200, 400, 600, 800, 1000, 1200, 1400, 1600, 1800, 2000], 'max_features': ['auto', 'sqrt'], 'max_depth': [10, 20, 30, 40, 50, 60, 70, 80, 90, 100, 110, None], 'min_samples_split': [2, 5, 10], 'min_samples_leaf': [1, 2, 4], 'bootstrap': [True, False]}\n"
     ]
    }
   ],
   "source": [
    "from sklearn.model_selection import RandomizedSearchCV\n",
    "# Number of trees in random forest\n",
    "n_estimators = [int(x) for x in np.linspace(start = 200, stop = 2000, num = 10)]\n",
    "# Number of features to consider at every split\n",
    "max_features = ['auto', 'sqrt']\n",
    "# Maximum number of levels in tree\n",
    "max_depth = [int(x) for x in np.linspace(10, 110, num = 11)]\n",
    "max_depth.append(None)\n",
    "# Minimum number of samples required to split a node\n",
    "min_samples_split = [2, 5, 10]\n",
    "# Minimum number of samples required at each leaf node\n",
    "min_samples_leaf = [1, 2, 4]\n",
    "# Method of selecting samples for training each tree\n",
    "bootstrap = [True, False]\n",
    "# Create the random grid\n",
    "random_grid = {'n_estimators': n_estimators,\n",
    "               'max_features': max_features,\n",
    "               'max_depth': max_depth,\n",
    "               'min_samples_split': min_samples_split,\n",
    "               'min_samples_leaf': min_samples_leaf,\n",
    "               'bootstrap': bootstrap}\n",
    "print(random_grid)"
   ]
  },
  {
   "cell_type": "code",
   "execution_count": null,
   "metadata": {},
   "outputs": [],
   "source": [
    "# Use the random grid to search for best hyperparameters\n",
    "# First create the base model to tune\n",
    "rf = RandomForestRegressor()\n",
    "# Random search of parameters, using 3 fold cross validation, \n",
    "# search across 100 different combinations, and use all available cores\n",
    "rf_random = RandomizedSearchCV(estimator = rf, param_distributions = random_grid, n_iter = 100, cv = 3, verbose=2, random_state=42, n_jobs = -1)\n",
    "# Fit the random search model\n",
    "rf_random.fit(x_train_bs, train_labels)"
   ]
  },
  {
   "cell_type": "code",
   "execution_count": 435,
   "metadata": {},
   "outputs": [],
   "source": [
    "y_to_graph = y_pred_test+0.10"
   ]
  },
  {
   "cell_type": "code",
   "execution_count": 436,
   "metadata": {},
   "outputs": [
    {
     "data": {
      "image/png": "[encoded data removed]",
      "text/plain": [
       "<Figure size 2160x648 with 1 Axes>"
      ]
     },
     "metadata": {
      "needs_background": "light"
     },
     "output_type": "display_data"
    }
   ],
   "source": [
    "f, ax = plt.subplots(1,1, figsize=(30, 9))\n",
    "\n",
    "g = sns.scatterplot(x=actual_test_prices, y=y_test, ax=ax, color=\"red\")\n",
    "g = sns.scatterplot(x=actual_test_prices, y=y_to_graph, ax=ax, color=\"blue\")\n",
    "#g = sns.scatter(x=y_train, y=y_pred_train, ax=ax)\n",
    "\n",
    "t = g.set_xlabel(\"prices\")\n",
    "t = g.set_ylabel(\"actual vs.predicted\")\n",
    "t = g.set_xticklabels(g.get_xticklabels(), rotation=90)\n",
    "t = g.set_title(\"actual vs. predicted\")"
   ]
  },
  {
   "cell_type": "code",
   "execution_count": 314,
   "metadata": {},
   "outputs": [
    {
     "data": {
      "text/plain": [
       "<matplotlib.axes._subplots.AxesSubplot at 0x1a2b6440b8>"
      ]
     },
     "execution_count": 314,
     "metadata": {},
     "output_type": "execute_result"
    },
    {
     "data": {
      "image/png": "[encoded data removed]",
      "text/plain": [
       "<Figure size 432x288 with 1 Axes>"
      ]
     },
     "metadata": {
      "needs_background": "light"
     },
     "output_type": "display_data"
    }
   ],
   "source": [
    "feat_importances = pd.Series(gbc.feature_importances_, index=xcol)\n",
    "feat_importances.nlargest(20).plot(kind='barh')\n"
   ]
  },
  {
   "cell_type": "markdown",
   "metadata": {},
   "source": [
    "### After SMOTE"
   ]
  },
  {
   "cell_type": "code",
   "execution_count": 380,
   "metadata": {},
   "outputs": [
    {
     "data": {
      "text/plain": [
       "1    31357\n",
       "0     7830\n",
       "Name: price_binary, dtype: int64"
      ]
     },
     "execution_count": 380,
     "metadata": {},
     "output_type": "execute_result"
    }
   ],
   "source": [
    "vcs = listings_filtered[\"price_binary\"].value_counts()\n",
    "vcs"
   ]
  },
  {
   "cell_type": "code",
   "execution_count": 381,
   "metadata": {},
   "outputs": [],
   "source": [
    "ycol = [\"price_binary\",'price']\n",
    "xcol = [i for i in listings_filtered.columns if i not in ycol]\n",
    "\n",
    "x_smote = listings_filtered[xcol].values\n",
    "y_smote = listings_filtered[ycol].values\n",
    "y_smote = y_smote[:,0]"
   ]
  },
  {
   "cell_type": "code",
   "execution_count": 406,
   "metadata": {},
   "outputs": [],
   "source": [
    "smote_sampling_strategy = {\n",
    "    0: int(vcs[0]*2)\n",
    "}\n",
    "sm = SMOTE(random_state=0, sampling_strategy=smote_sampling_strategy, n_jobs=-1)\n",
    "\n",
    "x_after_smote, y_after_smote = sm.fit_sample(x_smote, y_smote)\n",
    "\n",
    "# x_train_rare, x_test_rare, y_train_rare, y_test_rare = train_test_split(x, y, test_size=0.25, random_state=RANDOM_SEED)\n",
    "# x_new, y_new = sm.fit_sample(x_train_rare, y_train_rare)"
   ]
  },
  {
   "cell_type": "code",
   "execution_count": 407,
   "metadata": {},
   "outputs": [
    {
     "data": {
      "text/plain": [
       "(47017, 85)"
      ]
     },
     "execution_count": 407,
     "metadata": {},
     "output_type": "execute_result"
    }
   ],
   "source": [
    "x_after_smote.shape"
   ]
  },
  {
   "cell_type": "code",
   "execution_count": 408,
   "metadata": {},
   "outputs": [
    {
     "data": {
      "text/plain": [
       "(47017,)"
      ]
     },
     "execution_count": 408,
     "metadata": {},
     "output_type": "execute_result"
    }
   ],
   "source": [
    "y_after_smote.shape"
   ]
  },
  {
   "cell_type": "code",
   "execution_count": 409,
   "metadata": {},
   "outputs": [
    {
     "name": "stdout",
     "output_type": "stream",
     "text": [
      "[[0.0000e+00 1.0000e+00]\n",
      " [1.5660e+04 3.1357e+04]] 0\n"
     ]
    }
   ],
   "source": [
    "unique, counts = np.unique(y_after_smote, return_counts=True)\n",
    "\n",
    "print(np.asarray((unique, counts)),0)"
   ]
  },
  {
   "cell_type": "code",
   "execution_count": 410,
   "metadata": {},
   "outputs": [],
   "source": [
    "standard_scaler = StandardScaler()\n",
    "x_after_smote = standard_scaler.fit_transform(x_after_smote)"
   ]
  },
  {
   "cell_type": "code",
   "execution_count": 411,
   "metadata": {},
   "outputs": [
    {
     "data": {
      "text/plain": [
       "(47017, 85)"
      ]
     },
     "execution_count": 411,
     "metadata": {},
     "output_type": "execute_result"
    }
   ],
   "source": [
    "x_after_smote.shape"
   ]
  },
  {
   "cell_type": "code",
   "execution_count": 412,
   "metadata": {},
   "outputs": [
    {
     "data": {
      "text/plain": [
       "(47017,)"
      ]
     },
     "execution_count": 412,
     "metadata": {},
     "output_type": "execute_result"
    }
   ],
   "source": [
    "y_after_smote.shape"
   ]
  },
  {
   "cell_type": "code",
   "execution_count": 413,
   "metadata": {},
   "outputs": [
    {
     "data": {
      "text/plain": [
       "(9797, 85)"
      ]
     },
     "execution_count": 413,
     "metadata": {},
     "output_type": "execute_result"
    }
   ],
   "source": [
    "x_test.shape"
   ]
  },
  {
   "cell_type": "code",
   "execution_count": 414,
   "metadata": {},
   "outputs": [
    {
     "data": {
      "text/plain": [
       "(9797,)"
      ]
     },
     "execution_count": 414,
     "metadata": {},
     "output_type": "execute_result"
    }
   ],
   "source": [
    "y_test.shape"
   ]
  },
  {
   "cell_type": "code",
   "execution_count": 415,
   "metadata": {},
   "outputs": [],
   "source": [
    "gbc = GradientBoostingClassifier()\n",
    "gbc.fit(X=x_after_smote, y=y_after_smote)\n",
    "y_pred_test_smote = gbc.predict(X=x_test)"
   ]
  },
  {
   "cell_type": "code",
   "execution_count": 416,
   "metadata": {},
   "outputs": [],
   "source": [
    "lgm = LogisticRegression()\n",
    "lgm.fit(X=x_after_smote, y=y_after_smote)\n",
    "y_pred_test_smote = lgm.predict(X=x_test)"
   ]
  },
  {
   "cell_type": "code",
   "execution_count": 417,
   "metadata": {},
   "outputs": [
    {
     "data": {
      "text/plain": [
       "(9797,)"
      ]
     },
     "execution_count": 417,
     "metadata": {},
     "output_type": "execute_result"
    }
   ],
   "source": [
    "y_pred_test_smote.shape"
   ]
  },
  {
   "cell_type": "code",
   "execution_count": 418,
   "metadata": {},
   "outputs": [
    {
     "data": {
      "text/plain": [
       "array([0., 1.])"
      ]
     },
     "execution_count": 418,
     "metadata": {},
     "output_type": "execute_result"
    }
   ],
   "source": [
    "np.unique(y_pred_test_smote)"
   ]
  },
  {
   "cell_type": "code",
   "execution_count": 419,
   "metadata": {},
   "outputs": [
    {
     "name": "stdout",
     "output_type": "stream",
     "text": [
      "Accuracy: 0.8306624476880677\n",
      "F1 Score: 0.8881547899952807\n",
      "ROC AUC Score: 0.8217081743554169\n",
      "Confusion Matrix \n",
      " [[1551  371]\n",
      " [1288 6587]]\n"
     ]
    },
    {
     "data": {
      "text/html": [
       "<div>\n",
       "<style scoped>\n",
       "    .dataframe tbody tr th:only-of-type {\n",
       "        vertical-align: middle;\n",
       "    }\n",
       "\n",
       "    .dataframe tbody tr th {\n",
       "        vertical-align: top;\n",
       "    }\n",
       "\n",
       "    .dataframe thead th {\n",
       "        text-align: right;\n",
       "    }\n",
       "</style>\n",
       "<table border=\"1\" class=\"dataframe\">\n",
       "  <thead>\n",
       "    <tr style=\"text-align: right;\">\n",
       "      <th>Predicted</th>\n",
       "      <th>0.0</th>\n",
       "      <th>1.0</th>\n",
       "      <th>All</th>\n",
       "    </tr>\n",
       "    <tr>\n",
       "      <th>True</th>\n",
       "      <th></th>\n",
       "      <th></th>\n",
       "      <th></th>\n",
       "    </tr>\n",
       "  </thead>\n",
       "  <tbody>\n",
       "    <tr>\n",
       "      <th>0.0</th>\n",
       "      <td>1551</td>\n",
       "      <td>371</td>\n",
       "      <td>1922</td>\n",
       "    </tr>\n",
       "    <tr>\n",
       "      <th>1.0</th>\n",
       "      <td>1288</td>\n",
       "      <td>6587</td>\n",
       "      <td>7875</td>\n",
       "    </tr>\n",
       "    <tr>\n",
       "      <th>All</th>\n",
       "      <td>2839</td>\n",
       "      <td>6958</td>\n",
       "      <td>9797</td>\n",
       "    </tr>\n",
       "  </tbody>\n",
       "</table>\n",
       "</div>"
      ],
      "text/plain": [
       "Predicted   0.0   1.0   All\n",
       "True                       \n",
       "0.0        1551   371  1922\n",
       "1.0        1288  6587  7875\n",
       "All        2839  6958  9797"
      ]
     },
     "execution_count": 419,
     "metadata": {},
     "output_type": "execute_result"
    }
   ],
   "source": [
    "class_accuracy(y_test, y_pred_test_smote)"
   ]
  },
  {
   "cell_type": "code",
   "execution_count": 420,
   "metadata": {},
   "outputs": [],
   "source": [
    "def class_accuracy(actual,pred):\n",
    "    from sklearn import metrics\n",
    "    print(\"Accuracy:\",metrics.accuracy_score(actual, pred))\n",
    "    print(\"F1 Score:\",metrics.f1_score(actual, pred))\n",
    "    print(\"ROC AUC Score:\",metrics.roc_auc_score(actual, pred))\n",
    "    print(\"Confusion Matrix \\n\",metrics.confusion_matrix(actual, pred))\n",
    "    import pandas as pd\n",
    "    y_true = pd.Series(actual)\n",
    "    y_pred = pd.Series(pred)\n",
    "    return pd.crosstab(actual, pred, rownames=['True'], colnames=['Predicted'], margins=True)"
   ]
  },
  {
   "cell_type": "code",
   "execution_count": null,
   "metadata": {},
   "outputs": [],
   "source": []
  }
 ],
 "metadata": {
  "kernelspec": {
   "display_name": "Python 3",
   "language": "python",
   "name": "python3"
  },
  "language_info": {
   "codemirror_mode": {
    "name": "ipython",
    "version": 3
   },
   "file_extension": ".py",
   "mimetype": "text/x-python",
   "name": "python",
   "nbconvert_exporter": "python",
   "pygments_lexer": "ipython3",
   "version": "3.7.1"
  }
 },
 "nbformat": 4,
 "nbformat_minor": 2
}
