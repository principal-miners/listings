{
 "cells": [
  {
   "cell_type": "code",
   "execution_count": 1,
   "metadata": {},
   "outputs": [
    {
     "name": "stderr",
     "output_type": "stream",
     "text": [
      "/anaconda3/lib/python3.6/site-packages/sklearn/cross_validation.py:41: DeprecationWarning: This module was deprecated in version 0.18 in favor of the model_selection module into which all the refactored classes and functions are moved. Also note that the interface of the new CV iterators are different from that of this module. This module will be removed in 0.20.\n",
      "  \"This module will be removed in 0.20.\", DeprecationWarning)\n",
      "/anaconda3/lib/python3.6/site-packages/sklearn/grid_search.py:42: DeprecationWarning: This module was deprecated in version 0.18 in favor of the model_selection module into which all the refactored classes and functions are moved. This module will be removed in 0.20.\n",
      "  DeprecationWarning)\n"
     ]
    }
   ],
   "source": [
    "import numpy as np\n",
    "from scipy import sparse\n",
    "import re\n",
    "import matplotlib\n",
    "import pandas as pd\n",
    "import seaborn as sns\n",
    "from sklearn import linear_model\n",
    "from sklearn.decomposition import PCA\n",
    "from sklearn.linear_model import LogisticRegression as LogReg\n",
    "from sklearn.cross_validation import train_test_split\n",
    "from sklearn.ensemble import RandomForestRegressor\n",
    "import sklearn.metrics as metrics\n",
    "import matplotlib\n",
    "import matplotlib.pyplot as plt\n",
    "from mpl_toolkits.mplot3d import Axes3D\n",
    "from sklearn.ensemble import GradientBoostingRegressor\n",
    "import matplotlib.cm as cmx\n",
    "import matplotlib.colors as colors\n",
    "from sklearn.feature_selection import SelectFromModel\n",
    "import datetime as dt\n",
    "import math\n",
    "from sklearn.linear_model import Lasso as Lasso_Reg\n",
    "import numpy as np \n",
    "import sklearn.preprocessing as Preprocessing\n",
    "from sklearn.preprocessing import StandardScaler as Standardize\n",
    "%matplotlib inline\n",
    "from sklearn.linear_model import LinearRegression as Lin_Reg\n",
    "from sklearn.linear_model import Ridge as Ridge_Reg\n",
    "from scipy.stats.mstats import winsorize\n",
    "from sklearn.grid_search import GridSearchCV"
   ]
  },
  {
   "cell_type": "code",
   "execution_count": 2,
   "metadata": {},
   "outputs": [],
   "source": [
    "ny = pd.read_csv('/Users/sarahqin/Downloads/cleaned_with_nlp_listings.csv')"
   ]
  },
  {
   "cell_type": "code",
   "execution_count": 3,
   "metadata": {},
   "outputs": [
    {
     "data": {
      "text/plain": [
       "Index(['id', 'host_response_rate', 'host_is_superhost', 'host_listings_count',\n",
       "       'host_total_listings_count', 'host_has_profile_pic',\n",
       "       'host_identity_verified', 'is_location_exact', 'accommodates',\n",
       "       'bathrooms', 'bedrooms', 'beds', 'price', 'security_deposit',\n",
       "       'cleaning_fee', 'guests_included', 'extra_people', 'minimum_nights',\n",
       "       'maximum_nights', 'minimum_minimum_nights', 'maximum_minimum_nights',\n",
       "       'minimum_maximum_nights', 'maximum_maximum_nights',\n",
       "       'minimum_nights_avg_ntm', 'maximum_nights_avg_ntm', 'availability_30',\n",
       "       'availability_60', 'availability_90', 'availability_365',\n",
       "       'number_of_reviews', 'number_of_reviews_ltm', 'review_scores_rating',\n",
       "       'review_scores_accuracy', 'review_scores_cleanliness',\n",
       "       'review_scores_checkin', 'review_scores_communication',\n",
       "       'review_scores_location', 'review_scores_value', 'instant_bookable',\n",
       "       'require_guest_profile_picture', 'require_guest_phone_verification',\n",
       "       'calculated_host_listings_count',\n",
       "       'calculated_host_listings_count_entire_homes',\n",
       "       'calculated_host_listings_count_private_rooms',\n",
       "       'calculated_host_listings_count_shared_rooms', 'reviews_per_month',\n",
       "       'host_verifications_count', 'desc_len', 'host_about_len',\n",
       "       'lreview_year', 'lreview_month', 'lreview_day', 'freview_year',\n",
       "       'freview_month', 'freview_day', 'ndays_between_f_l_reviews',\n",
       "       'ndays_host', 'ndays_last_review', 'num_amenities',\n",
       "       'host_response_time_na', 'host_response_time_within a day',\n",
       "       'host_response_time_within a few hours',\n",
       "       'host_response_time_within an hour',\n",
       "       'neighbourhood_group_cleansed_Brooklyn',\n",
       "       'neighbourhood_group_cleansed_Manhattan',\n",
       "       'neighbourhood_group_cleansed_Queens',\n",
       "       'neighbourhood_group_cleansed_Staten Island',\n",
       "       'property_type_Condominium', 'property_type_House',\n",
       "       'property_type_Loft', 'property_type_Other',\n",
       "       'property_type_Serviced apartment', 'property_type_Townhouse',\n",
       "       'room_type_Private room', 'room_type_Shared room', 'bed_type_Couch',\n",
       "       'bed_type_Futon', 'bed_type_Pull-out Sofa', 'bed_type_Real Bed',\n",
       "       'cancellation_policy_moderate', 'cancellation_policy_strict', 'topic_0',\n",
       "       'topic_1', 'topic_2', 'topic_3', 'topic_4', 'topic_5'],\n",
       "      dtype='object')"
      ]
     },
     "execution_count": 3,
     "metadata": {},
     "output_type": "execute_result"
    }
   ],
   "source": [
    "ny.columns"
   ]
  },
  {
   "cell_type": "code",
   "execution_count": 4,
   "metadata": {},
   "outputs": [],
   "source": [
    "#ycol = [\"price\"]\n",
    "xcol = [i for i in ny.columns if i not in \"price\"]\n",
    "x = ny[xcol].values\n",
    "#y = ny[ycol].values\n"
   ]
  },
  {
   "cell_type": "code",
   "execution_count": 5,
   "metadata": {},
   "outputs": [],
   "source": [
    "y = ny.loc[:,'price']"
   ]
  },
  {
   "cell_type": "code",
   "execution_count": 6,
   "metadata": {},
   "outputs": [
    {
     "data": {
      "text/html": [
       "<div>\n",
       "<style scoped>\n",
       "    .dataframe tbody tr th:only-of-type {\n",
       "        vertical-align: middle;\n",
       "    }\n",
       "\n",
       "    .dataframe tbody tr th {\n",
       "        vertical-align: top;\n",
       "    }\n",
       "\n",
       "    .dataframe thead th {\n",
       "        text-align: right;\n",
       "    }\n",
       "</style>\n",
       "<table border=\"1\" class=\"dataframe\">\n",
       "  <thead>\n",
       "    <tr style=\"text-align: right;\">\n",
       "      <th></th>\n",
       "      <th>id</th>\n",
       "      <th>host_response_rate</th>\n",
       "      <th>host_is_superhost</th>\n",
       "      <th>host_listings_count</th>\n",
       "      <th>host_total_listings_count</th>\n",
       "      <th>host_has_profile_pic</th>\n",
       "      <th>host_identity_verified</th>\n",
       "      <th>is_location_exact</th>\n",
       "      <th>accommodates</th>\n",
       "      <th>bathrooms</th>\n",
       "      <th>...</th>\n",
       "      <th>bed_type_Pull-out Sofa</th>\n",
       "      <th>bed_type_Real Bed</th>\n",
       "      <th>cancellation_policy_moderate</th>\n",
       "      <th>cancellation_policy_strict</th>\n",
       "      <th>topic_0</th>\n",
       "      <th>topic_1</th>\n",
       "      <th>topic_2</th>\n",
       "      <th>topic_3</th>\n",
       "      <th>topic_4</th>\n",
       "      <th>topic_5</th>\n",
       "    </tr>\n",
       "  </thead>\n",
       "  <tbody>\n",
       "    <tr>\n",
       "      <th>0</th>\n",
       "      <td>2454</td>\n",
       "      <td>60</td>\n",
       "      <td>0</td>\n",
       "      <td>1.0</td>\n",
       "      <td>1.0</td>\n",
       "      <td>1</td>\n",
       "      <td>0</td>\n",
       "      <td>1</td>\n",
       "      <td>2</td>\n",
       "      <td>1.0</td>\n",
       "      <td>...</td>\n",
       "      <td>0</td>\n",
       "      <td>1</td>\n",
       "      <td>0</td>\n",
       "      <td>0</td>\n",
       "      <td>1.0</td>\n",
       "      <td>0.000000</td>\n",
       "      <td>0.000000</td>\n",
       "      <td>0.0</td>\n",
       "      <td>0.0</td>\n",
       "      <td>0.0</td>\n",
       "    </tr>\n",
       "    <tr>\n",
       "      <th>1</th>\n",
       "      <td>2539</td>\n",
       "      <td>100</td>\n",
       "      <td>0</td>\n",
       "      <td>8.0</td>\n",
       "      <td>8.0</td>\n",
       "      <td>1</td>\n",
       "      <td>1</td>\n",
       "      <td>0</td>\n",
       "      <td>4</td>\n",
       "      <td>1.0</td>\n",
       "      <td>...</td>\n",
       "      <td>0</td>\n",
       "      <td>1</td>\n",
       "      <td>1</td>\n",
       "      <td>0</td>\n",
       "      <td>0.0</td>\n",
       "      <td>0.222222</td>\n",
       "      <td>0.777778</td>\n",
       "      <td>0.0</td>\n",
       "      <td>0.0</td>\n",
       "      <td>0.0</td>\n",
       "    </tr>\n",
       "  </tbody>\n",
       "</table>\n",
       "<p>2 rows × 87 columns</p>\n",
       "</div>"
      ],
      "text/plain": [
       "     id  host_response_rate  host_is_superhost  host_listings_count  \\\n",
       "0  2454                  60                  0                  1.0   \n",
       "1  2539                 100                  0                  8.0   \n",
       "\n",
       "   host_total_listings_count  host_has_profile_pic  host_identity_verified  \\\n",
       "0                        1.0                     1                       0   \n",
       "1                        8.0                     1                       1   \n",
       "\n",
       "   is_location_exact  accommodates  bathrooms   ...     \\\n",
       "0                  1             2        1.0   ...      \n",
       "1                  0             4        1.0   ...      \n",
       "\n",
       "   bed_type_Pull-out Sofa  bed_type_Real Bed  cancellation_policy_moderate  \\\n",
       "0                       0                  1                             0   \n",
       "1                       0                  1                             1   \n",
       "\n",
       "   cancellation_policy_strict  topic_0   topic_1   topic_2  topic_3  topic_4  \\\n",
       "0                           0      1.0  0.000000  0.000000      0.0      0.0   \n",
       "1                           0      0.0  0.222222  0.777778      0.0      0.0   \n",
       "\n",
       "   topic_5  \n",
       "0      0.0  \n",
       "1      0.0  \n",
       "\n",
       "[2 rows x 87 columns]"
      ]
     },
     "execution_count": 6,
     "metadata": {},
     "output_type": "execute_result"
    }
   ],
   "source": [
    "encoded_data = pd.DataFrame({}) \n",
    "\n",
    "for column in ny.columns:\n",
    "    if ny[column].dtype == np.dtype('object'):\n",
    "        # use one-hot encoding\n",
    "        encoding = pd.get_dummies(ny[column])\n",
    "        encoded_data = pd.concat([encoded_data, encoding], axis=1)\n",
    "    else:\n",
    "        encoded_data = pd.concat([encoded_data, ny[[column]]], axis=1)\n",
    "\n",
    "encoded_data.head(2)"
   ]
  },
  {
   "cell_type": "code",
   "execution_count": 8,
   "metadata": {},
   "outputs": [],
   "source": [
    "from sklearn.preprocessing import StandardScaler, Normalizer\n",
    "standard_scaler = StandardScaler()\n",
    "x = standard_scaler.fit_transform(encoded_data)"
   ]
  },
  {
   "cell_type": "markdown",
   "metadata": {},
   "source": [
    "# Model"
   ]
  },
  {
   "cell_type": "code",
   "execution_count": 9,
   "metadata": {},
   "outputs": [
    {
     "data": {
      "text/plain": [
       "0.9999937378961243"
      ]
     },
     "execution_count": 9,
     "metadata": {},
     "output_type": "execute_result"
    }
   ],
   "source": [
    "from sklearn.pipeline import make_pipeline   \n",
    "from sklearn.preprocessing import StandardScaler                                                \n",
    "from sklearn.neural_network import MLPRegressor   \n",
    "\n",
    "# split into train and test data \n",
    "x_train, x_test, y_train, y_test = train_test_split(x, y, test_size=.3, random_state=100)\n",
    "\n",
    "pipeline = make_pipeline(StandardScaler(),                                                      \n",
    "                         MLPRegressor(solver='lbfgs', hidden_layer_sizes=50))                   \n",
    "pipeline.fit(x_train, y_train)                                                                  \n",
    "pipeline.score(x_test, y_test)"
   ]
  },
  {
   "cell_type": "markdown",
   "metadata": {},
   "source": [
    "# M1. calculate median error score to compare different model's performance"
   ]
  },
  {
   "cell_type": "code",
   "execution_count": 10,
   "metadata": {},
   "outputs": [
    {
     "data": {
      "text/plain": [
       "Text(0.5,1,'Performances')"
      ]
     },
     "execution_count": 10,
     "metadata": {},
     "output_type": "execute_result"
    },
    {
     "data": {
      "image/png": "[encoded data removed]",
      "text/plain": [
       "<Figure size 1368x720 with 1 Axes>"
      ]
     },
     "metadata": {},
     "output_type": "display_data"
    }
   ],
   "source": [
    "rs = 1\n",
    "\n",
    "ests_labels = np.array(['Linear', 'Ridge', 'Lasso','RandomForest', 'Boosting'])\n",
    "\n",
    "ests = [ Lin_Reg(), Ridge_Reg(),\n",
    "        Lasso_Reg(),RandomForestRegressor(), GradientBoostingRegressor()]\n",
    "\n",
    "errvals = np.array([])\n",
    "\n",
    "for e in ests:\n",
    "    e.fit(x_train, y_train)\n",
    "    prediction = e.predict(x_test)\n",
    "    this_err = metrics.median_absolute_error(y_test, prediction)\n",
    "    errvals = np.append(errvals, this_err)\n",
    "\n",
    "pos = np.arange(errvals.shape[0])\n",
    "srt = np.argsort(errvals)\n",
    "plt.figure(figsize=(19,10))\n",
    "plt.bar(pos, errvals[srt], align='center')\n",
    "plt.style.use('ggplot')\n",
    "plt.xticks(pos, ests_labels[srt])\n",
    "plt.xlabel('Estimator')\n",
    "plt.ylabel('Median Error')\n",
    "plt.title('Performances')"
   ]
  },
  {
   "cell_type": "markdown",
   "metadata": {},
   "source": [
    "Random Forest & Linear (or even Ridge) has the lowest error, Lasso has highest error"
   ]
  },
  {
   "cell_type": "markdown",
   "metadata": {},
   "source": [
    "# M2. Tuning"
   ]
  },
  {
   "cell_type": "code",
   "execution_count": 11,
   "metadata": {},
   "outputs": [],
   "source": [
    "def optimize(clf, parameters, x, y, n_jobs=1, n_folds=5, score_func=None):\n",
    "    if score_func:\n",
    "        gs = GridSearchCV(clf, param_grid=parameters, cv=n_folds, n_jobs=n_jobs, scoring=score_func)\n",
    "    else:\n",
    "        gs = GridSearchCV(clf, param_grid=parameters, n_jobs=n_jobs, cv=n_folds)\n",
    "    gs.fit(x, y)\n",
    "\n",
    "    best = gs.best_estimator_\n",
    "    return best"
   ]
  },
  {
   "cell_type": "code",
   "execution_count": 12,
   "metadata": {},
   "outputs": [
    {
     "name": "stdout",
     "output_type": "stream",
     "text": [
      "Before cross-validation, Ridge Score: 0.9999999986245406 \n",
      "\n",
      "Alpha: 0.0001\n",
      "After cross-validation,Ridge Score: 1.0\n"
     ]
    }
   ],
   "source": [
    "ridge =  Ridge_Reg()\n",
    "ridge.fit(x_train, y_train)\n",
    "parameters = {\"alpha\": [.0001, .001, .01, .1, 1, 10, 100, 1000]}\n",
    "ridge2 = optimize(ridge, parameters, x_train, y_train, n_jobs=10, n_folds=5, score_func=None)\n",
    "\n",
    "best_ridge = Ridge_Reg(alpha = ridge2.alpha)\n",
    "best_ridge.fit(x_train, y_train)\n",
    "\n",
    "\n",
    "print('Before cross-validation, Ridge Score:', ridge.score(x_test, y_test), '\\n')\n",
    "\n",
    "print('Alpha:', ridge2.alpha) \n",
    "\n",
    "print( 'After cross-validation,Ridge Score:', best_ridge.score(x_test, y_test))"
   ]
  },
  {
   "cell_type": "code",
   "execution_count": 13,
   "metadata": {},
   "outputs": [
    {
     "name": "stdout",
     "output_type": "stream",
     "text": [
      "Before cross-validation, 0.9993807686062952 \n",
      "\n",
      "Max Features: 0.8\n",
      "Max Depth: 1\n",
      "Learning Rate: 0.2\n",
      "After cross-validation,  Gradient Boosting Score: 0.9846474857523255\n"
     ]
    }
   ],
   "source": [
    "booster =  GradientBoostingRegressor()\n",
    "\n",
    "booster.fit(x_train, y_train)\n",
    "\n",
    "\n",
    "parameters = {\"max_depth\": [1, 3, 5, 8], 'learning_rate': [0.1, 0.15, 0.2], 'max_features': [0.2, 0.4, 0.6, 0.8]}\n",
    "booster2 = optimize(booster, parameters, x_train, y_train, n_jobs=10, n_folds=5, score_func=None)\n",
    "\n",
    "best_booster = GradientBoostingRegressor(max_depth = booster2.max_depth, max_features = booster2.max_features, min_samples_leaf = booster2.min_samples_leaf)\n",
    "best_booster.fit(x_train, y_train)\n",
    "\n",
    "print ('Before cross-validation,', booster.score(x_test, y_test), '\\n')\n",
    "print ('Max Features:', booster2.max_features)\n",
    "print ('Max Depth:', booster2.max_depth)\n",
    "print ('Learning Rate:', booster2.learning_rate)\n",
    "print ('After cross-validation,  Gradient Boosting Score:', best_booster.score(x_test, y_test))"
   ]
  },
  {
   "cell_type": "code",
   "execution_count": 14,
   "metadata": {},
   "outputs": [
    {
     "name": "stdout",
     "output_type": "stream",
     "text": [
      "Before cross-validation, Random Forest Score: 0.9870645091698238 \n",
      "\n",
      "Max Features: 0.8\n",
      "Max Depth: 12\n",
      "Min Samples per Leaf: 2\n",
      "After cross-validation, Random Forest Score: 0.9870645091698238\n"
     ]
    }
   ],
   "source": [
    "forest =  RandomForestRegressor()\n",
    "\n",
    "forest.fit(x_train, y_train)\n",
    "\n",
    "parameters ={\"max_depth\": [3, 5, 8, 10, 12], 'max_features': [0.2, 0.4, 0.6, 0.8], 'min_samples_leaf': [2, 5, 8, 12]}\n",
    "forest2 = optimize(forest, parameters, x_train, y_train, n_jobs=10, n_folds=5, score_func=None)\n",
    "\n",
    "best_forest = RandomForestRegressor(max_depth = forest2.max_depth, max_features = forest2.max_features, min_samples_leaf = forest2.min_samples_leaf)\n",
    "best_forest.fit(x_train, y_train)\n",
    "\n",
    "                   \n",
    "print('Before cross-validation, Random Forest Score:', forest.score(x_test, y_test), '\\n')\n",
    "\n",
    "print('Max Features:', forest2.max_features) \n",
    "print ('Max Depth:', forest2.max_depth)\n",
    "print ('Min Samples per Leaf:', forest2.min_samples_leaf)\n",
    "\n",
    "print( 'After cross-validation, Random Forest Score:', forest.score(x_test, y_test))\n"
   ]
  },
  {
   "cell_type": "markdown",
   "metadata": {},
   "source": [
    "# M3. Compare to Linear Regression"
   ]
  },
  {
   "cell_type": "code",
   "execution_count": 15,
   "metadata": {},
   "outputs": [],
   "source": [
    "def closer_score(model):\n",
    "    \n",
    "    clf = Lin_Reg()\n",
    "    clf.fit(x_train, y_train)\n",
    "    \n",
    "    adv = model\n",
    "    adv.fit(x_train, y_train)\n",
    " \n",
    "    lin_predict = clf.predict(x_test)\n",
    "    adv_predict = adv.predict(x_test)\n",
    "    y_test1 = pd.DataFrame(y_test)\n",
    "\n",
    "    y_test1.columns = ['price']\n",
    "    y_test1['lin_predict'] = lin_predict\n",
    "    y_test1['adv_predict'] = adv_predict\n",
    "    \n",
    "    y_test1['score'] = 0.0\n",
    "    mask = y_test1.loc[abs(y_test1['price'] - y_test1['adv_predict']) < abs(y_test1['price'] - y_test1['lin_predict'])].index\n",
    "    y_test1.loc[mask,'score'] = 1.0\n",
    "    score = np.mean(y_test1.score)\n",
    "    return score"
   ]
  },
  {
   "cell_type": "code",
   "execution_count": 16,
   "metadata": {},
   "outputs": [
    {
     "name": "stdout",
     "output_type": "stream",
     "text": [
      "Ridge is better 0.0% of the time\n",
      "Random Forest is better 0.019% of the time\n",
      "Gradient Boosting is better 0.0% of the time\n"
     ]
    }
   ],
   "source": [
    "print('Ridge is better ' + str(round(closer_score(best_ridge), 3)) + '% of the time') \n",
    "print ('Random Forest is better ' + str(round(closer_score(best_forest), 3)) + '% of the time')\n",
    "print ('Gradient Boosting is better ' + str(round(closer_score(best_booster), 3)) + '% of the time')"
   ]
  },
  {
   "cell_type": "markdown",
   "metadata": {},
   "source": [
    "ok...."
   ]
  },
  {
   "cell_type": "markdown",
   "metadata": {},
   "source": [
    "# M4. Go with Random Forest"
   ]
  },
  {
   "cell_type": "code",
   "execution_count": null,
   "metadata": {},
   "outputs": [],
   "source": []
  }
 ],
 "metadata": {
  "kernelspec": {
   "display_name": "Python 3",
   "language": "python",
   "name": "python3"
  },
  "language_info": {
   "codemirror_mode": {
    "name": "ipython",
    "version": 3
   },
   "file_extension": ".py",
   "mimetype": "text/x-python",
   "name": "python",
   "nbconvert_exporter": "python",
   "pygments_lexer": "ipython3",
   "version": "3.6.5"
  }
 },
 "nbformat": 4,
 "nbformat_minor": 2
}
