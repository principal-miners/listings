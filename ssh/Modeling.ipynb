{
 "cells": [
  {
   "cell_type": "markdown",
   "metadata": {},
   "source": [
    "# AirBnb listings file modeling"
   ]
  },
  {
   "cell_type": "code",
   "execution_count": 794,
   "metadata": {},
   "outputs": [
    {
     "data": {
      "text/html": [
       "<style>.container { width:100% !important; }</style>"
      ],
      "text/plain": [
       "<IPython.core.display.HTML object>"
      ]
     },
     "metadata": {},
     "output_type": "display_data"
    }
   ],
   "source": [
    "# Put these at the top of every notebook, to get automatic reloading and inline plotting\n",
    "from IPython.core.display import display, HTML\n",
    "import pandas as pd\n",
    "import warnings\n",
    "warnings.filterwarnings('ignore')\n",
    "\n",
    "%reload_ext autoreload\n",
    "%autoreload 1\n",
    "%matplotlib inline\n",
    "\n",
    "pd.set_option('display.max_rows', 500)\n",
    "pd.set_option('display.max_columns', 500)\n",
    "pd.set_option('display.width', 1000)\n",
    "\n",
    "display(HTML(\"<style>.container { width:100% !important; }</style>\"))"
   ]
  },
  {
   "cell_type": "code",
   "execution_count": 795,
   "metadata": {},
   "outputs": [],
   "source": [
    "import os\n",
    "import seaborn as sns\n",
    "import pandas as pd\n",
    "import math\n",
    "\n",
    "from sklearn.preprocessing import StandardScaler\n",
    "from sklearn.model_selection import train_test_split\n",
    "from sklearn.decomposition import PCA\n",
    "from sklearn.ensemble import RandomForestRegressor\n",
    "\n",
    "from sklearn.metrics import mean_squared_error as MSE\n",
    "\n",
    "from imblearn.over_sampling import SMOTE\n",
    "\n",
    "from Utils.UtilsGeoViz import *\n",
    "from Utils.UtilsViz import *\n",
    "from Utils.DataUtils import *\n",
    "\n",
    "RANDOM_SEED = 42"
   ]
  },
  {
   "cell_type": "code",
   "execution_count": 796,
   "metadata": {},
   "outputs": [],
   "source": [
    "data_path = \"C:\\\\Users\\\\sriharis\\\\OneDrive\\\\UChicago\\\\DataMining\\\\project\\\\NYData\\\\cleaned_with_nlp_listings.csv\"\n",
    "listings = pd.read_csv(data_path, index_col=\"id\")"
   ]
  },
  {
   "cell_type": "code",
   "execution_count": 797,
   "metadata": {},
   "outputs": [],
   "source": [
    "PERCENTILE_CROP = [1,80]"
   ]
  },
  {
   "cell_type": "code",
   "execution_count": 798,
   "metadata": {},
   "outputs": [
    {
     "data": {
      "text/html": [
       "<div>\n",
       "<style scoped>\n",
       "    .dataframe tbody tr th:only-of-type {\n",
       "        vertical-align: middle;\n",
       "    }\n",
       "\n",
       "    .dataframe tbody tr th {\n",
       "        vertical-align: top;\n",
       "    }\n",
       "\n",
       "    .dataframe thead th {\n",
       "        text-align: right;\n",
       "    }\n",
       "</style>\n",
       "<table border=\"1\" class=\"dataframe\">\n",
       "  <thead>\n",
       "    <tr style=\"text-align: right;\">\n",
       "      <th></th>\n",
       "      <th>host_response_rate</th>\n",
       "      <th>host_is_superhost</th>\n",
       "      <th>host_listings_count</th>\n",
       "      <th>host_total_listings_count</th>\n",
       "      <th>host_has_profile_pic</th>\n",
       "      <th>host_identity_verified</th>\n",
       "      <th>is_location_exact</th>\n",
       "      <th>accommodates</th>\n",
       "      <th>bathrooms</th>\n",
       "      <th>bedrooms</th>\n",
       "      <th>beds</th>\n",
       "      <th>price</th>\n",
       "      <th>security_deposit</th>\n",
       "      <th>cleaning_fee</th>\n",
       "      <th>guests_included</th>\n",
       "      <th>extra_people</th>\n",
       "      <th>minimum_nights</th>\n",
       "      <th>maximum_nights</th>\n",
       "      <th>minimum_minimum_nights</th>\n",
       "      <th>maximum_minimum_nights</th>\n",
       "      <th>minimum_maximum_nights</th>\n",
       "      <th>maximum_maximum_nights</th>\n",
       "      <th>minimum_nights_avg_ntm</th>\n",
       "      <th>maximum_nights_avg_ntm</th>\n",
       "      <th>availability_30</th>\n",
       "      <th>availability_60</th>\n",
       "      <th>availability_90</th>\n",
       "      <th>availability_365</th>\n",
       "      <th>number_of_reviews</th>\n",
       "      <th>number_of_reviews_ltm</th>\n",
       "      <th>review_scores_rating</th>\n",
       "      <th>review_scores_accuracy</th>\n",
       "      <th>review_scores_cleanliness</th>\n",
       "      <th>review_scores_checkin</th>\n",
       "      <th>review_scores_communication</th>\n",
       "      <th>review_scores_location</th>\n",
       "      <th>review_scores_value</th>\n",
       "      <th>instant_bookable</th>\n",
       "      <th>require_guest_profile_picture</th>\n",
       "      <th>require_guest_phone_verification</th>\n",
       "      <th>calculated_host_listings_count</th>\n",
       "      <th>calculated_host_listings_count_entire_homes</th>\n",
       "      <th>calculated_host_listings_count_private_rooms</th>\n",
       "      <th>calculated_host_listings_count_shared_rooms</th>\n",
       "      <th>reviews_per_month</th>\n",
       "      <th>host_verifications_count</th>\n",
       "      <th>desc_len</th>\n",
       "      <th>host_about_len</th>\n",
       "      <th>lreview_year</th>\n",
       "      <th>lreview_month</th>\n",
       "      <th>lreview_day</th>\n",
       "      <th>freview_year</th>\n",
       "      <th>freview_month</th>\n",
       "      <th>freview_day</th>\n",
       "      <th>ndays_between_f_l_reviews</th>\n",
       "      <th>ndays_host</th>\n",
       "      <th>ndays_last_review</th>\n",
       "      <th>num_amenities</th>\n",
       "      <th>host_response_time_na</th>\n",
       "      <th>host_response_time_within a day</th>\n",
       "      <th>host_response_time_within a few hours</th>\n",
       "      <th>host_response_time_within an hour</th>\n",
       "      <th>neighbourhood_group_cleansed_Brooklyn</th>\n",
       "      <th>neighbourhood_group_cleansed_Manhattan</th>\n",
       "      <th>neighbourhood_group_cleansed_Queens</th>\n",
       "      <th>neighbourhood_group_cleansed_Staten Island</th>\n",
       "      <th>property_type_Condominium</th>\n",
       "      <th>property_type_House</th>\n",
       "      <th>property_type_Loft</th>\n",
       "      <th>property_type_Other</th>\n",
       "      <th>property_type_Serviced apartment</th>\n",
       "      <th>property_type_Townhouse</th>\n",
       "      <th>room_type_Private room</th>\n",
       "      <th>room_type_Shared room</th>\n",
       "      <th>bed_type_Couch</th>\n",
       "      <th>bed_type_Futon</th>\n",
       "      <th>bed_type_Pull-out Sofa</th>\n",
       "      <th>bed_type_Real Bed</th>\n",
       "      <th>cancellation_policy_moderate</th>\n",
       "      <th>cancellation_policy_strict</th>\n",
       "      <th>topic_0</th>\n",
       "      <th>topic_1</th>\n",
       "      <th>topic_2</th>\n",
       "      <th>topic_3</th>\n",
       "      <th>topic_4</th>\n",
       "      <th>topic_5</th>\n",
       "    </tr>\n",
       "    <tr>\n",
       "      <th>id</th>\n",
       "      <th></th>\n",
       "      <th></th>\n",
       "      <th></th>\n",
       "      <th></th>\n",
       "      <th></th>\n",
       "      <th></th>\n",
       "      <th></th>\n",
       "      <th></th>\n",
       "      <th></th>\n",
       "      <th></th>\n",
       "      <th></th>\n",
       "      <th></th>\n",
       "      <th></th>\n",
       "      <th></th>\n",
       "      <th></th>\n",
       "      <th></th>\n",
       "      <th></th>\n",
       "      <th></th>\n",
       "      <th></th>\n",
       "      <th></th>\n",
       "      <th></th>\n",
       "      <th></th>\n",
       "      <th></th>\n",
       "      <th></th>\n",
       "      <th></th>\n",
       "      <th></th>\n",
       "      <th></th>\n",
       "      <th></th>\n",
       "      <th></th>\n",
       "      <th></th>\n",
       "      <th></th>\n",
       "      <th></th>\n",
       "      <th></th>\n",
       "      <th></th>\n",
       "      <th></th>\n",
       "      <th></th>\n",
       "      <th></th>\n",
       "      <th></th>\n",
       "      <th></th>\n",
       "      <th></th>\n",
       "      <th></th>\n",
       "      <th></th>\n",
       "      <th></th>\n",
       "      <th></th>\n",
       "      <th></th>\n",
       "      <th></th>\n",
       "      <th></th>\n",
       "      <th></th>\n",
       "      <th></th>\n",
       "      <th></th>\n",
       "      <th></th>\n",
       "      <th></th>\n",
       "      <th></th>\n",
       "      <th></th>\n",
       "      <th></th>\n",
       "      <th></th>\n",
       "      <th></th>\n",
       "      <th></th>\n",
       "      <th></th>\n",
       "      <th></th>\n",
       "      <th></th>\n",
       "      <th></th>\n",
       "      <th></th>\n",
       "      <th></th>\n",
       "      <th></th>\n",
       "      <th></th>\n",
       "      <th></th>\n",
       "      <th></th>\n",
       "      <th></th>\n",
       "      <th></th>\n",
       "      <th></th>\n",
       "      <th></th>\n",
       "      <th></th>\n",
       "      <th></th>\n",
       "      <th></th>\n",
       "      <th></th>\n",
       "      <th></th>\n",
       "      <th></th>\n",
       "      <th></th>\n",
       "      <th></th>\n",
       "      <th></th>\n",
       "      <th></th>\n",
       "      <th></th>\n",
       "      <th></th>\n",
       "      <th></th>\n",
       "      <th></th>\n",
       "    </tr>\n",
       "  </thead>\n",
       "  <tbody>\n",
       "    <tr>\n",
       "      <th>2454</th>\n",
       "      <td>60</td>\n",
       "      <td>0</td>\n",
       "      <td>1.0</td>\n",
       "      <td>1.0</td>\n",
       "      <td>1</td>\n",
       "      <td>0</td>\n",
       "      <td>1</td>\n",
       "      <td>2</td>\n",
       "      <td>1.0</td>\n",
       "      <td>0.0</td>\n",
       "      <td>2.0</td>\n",
       "      <td>137.0</td>\n",
       "      <td>150.0</td>\n",
       "      <td>50.0</td>\n",
       "      <td>1</td>\n",
       "      <td>0.0</td>\n",
       "      <td>7</td>\n",
       "      <td>730</td>\n",
       "      <td>7</td>\n",
       "      <td>7</td>\n",
       "      <td>730</td>\n",
       "      <td>730</td>\n",
       "      <td>7.0</td>\n",
       "      <td>730.0</td>\n",
       "      <td>16</td>\n",
       "      <td>36</td>\n",
       "      <td>65</td>\n",
       "      <td>65</td>\n",
       "      <td>1</td>\n",
       "      <td>1</td>\n",
       "      <td>96.0</td>\n",
       "      <td>10.0</td>\n",
       "      <td>10.0</td>\n",
       "      <td>10.0</td>\n",
       "      <td>10.0</td>\n",
       "      <td>10.0</td>\n",
       "      <td>10.0</td>\n",
       "      <td>0</td>\n",
       "      <td>0</td>\n",
       "      <td>0</td>\n",
       "      <td>1</td>\n",
       "      <td>1</td>\n",
       "      <td>0</td>\n",
       "      <td>0</td>\n",
       "      <td>1.00</td>\n",
       "      <td>2</td>\n",
       "      <td>412</td>\n",
       "      <td>0</td>\n",
       "      <td>2019.0</td>\n",
       "      <td>1.0</td>\n",
       "      <td>30.0</td>\n",
       "      <td>2019.0</td>\n",
       "      <td>1.0</td>\n",
       "      <td>30.0</td>\n",
       "      <td>0.0</td>\n",
       "      <td>3803</td>\n",
       "      <td>2.0</td>\n",
       "      <td>15</td>\n",
       "      <td>0</td>\n",
       "      <td>1</td>\n",
       "      <td>0</td>\n",
       "      <td>0</td>\n",
       "      <td>0</td>\n",
       "      <td>1</td>\n",
       "      <td>0</td>\n",
       "      <td>0</td>\n",
       "      <td>1</td>\n",
       "      <td>0</td>\n",
       "      <td>0</td>\n",
       "      <td>0</td>\n",
       "      <td>0</td>\n",
       "      <td>0</td>\n",
       "      <td>0</td>\n",
       "      <td>0</td>\n",
       "      <td>0</td>\n",
       "      <td>0</td>\n",
       "      <td>0</td>\n",
       "      <td>1</td>\n",
       "      <td>0</td>\n",
       "      <td>0</td>\n",
       "      <td>1.000000</td>\n",
       "      <td>0.000000</td>\n",
       "      <td>0.000000</td>\n",
       "      <td>0.000000</td>\n",
       "      <td>0.000000</td>\n",
       "      <td>0.000000</td>\n",
       "    </tr>\n",
       "    <tr>\n",
       "      <th>2539</th>\n",
       "      <td>100</td>\n",
       "      <td>0</td>\n",
       "      <td>8.0</td>\n",
       "      <td>8.0</td>\n",
       "      <td>1</td>\n",
       "      <td>1</td>\n",
       "      <td>0</td>\n",
       "      <td>4</td>\n",
       "      <td>1.0</td>\n",
       "      <td>1.0</td>\n",
       "      <td>1.0</td>\n",
       "      <td>149.0</td>\n",
       "      <td>100.0</td>\n",
       "      <td>25.0</td>\n",
       "      <td>1</td>\n",
       "      <td>25.0</td>\n",
       "      <td>1</td>\n",
       "      <td>730</td>\n",
       "      <td>1</td>\n",
       "      <td>1</td>\n",
       "      <td>730</td>\n",
       "      <td>730</td>\n",
       "      <td>1.0</td>\n",
       "      <td>730.0</td>\n",
       "      <td>30</td>\n",
       "      <td>60</td>\n",
       "      <td>90</td>\n",
       "      <td>365</td>\n",
       "      <td>9</td>\n",
       "      <td>2</td>\n",
       "      <td>98.0</td>\n",
       "      <td>10.0</td>\n",
       "      <td>10.0</td>\n",
       "      <td>10.0</td>\n",
       "      <td>10.0</td>\n",
       "      <td>10.0</td>\n",
       "      <td>10.0</td>\n",
       "      <td>0</td>\n",
       "      <td>0</td>\n",
       "      <td>0</td>\n",
       "      <td>8</td>\n",
       "      <td>0</td>\n",
       "      <td>5</td>\n",
       "      <td>3</td>\n",
       "      <td>0.23</td>\n",
       "      <td>4</td>\n",
       "      <td>392</td>\n",
       "      <td>431</td>\n",
       "      <td>2018.0</td>\n",
       "      <td>10.0</td>\n",
       "      <td>19.0</td>\n",
       "      <td>2015.0</td>\n",
       "      <td>12.0</td>\n",
       "      <td>4.0</td>\n",
       "      <td>15.0</td>\n",
       "      <td>3800</td>\n",
       "      <td>106.0</td>\n",
       "      <td>44</td>\n",
       "      <td>0</td>\n",
       "      <td>0</td>\n",
       "      <td>0</td>\n",
       "      <td>1</td>\n",
       "      <td>1</td>\n",
       "      <td>0</td>\n",
       "      <td>0</td>\n",
       "      <td>0</td>\n",
       "      <td>0</td>\n",
       "      <td>0</td>\n",
       "      <td>0</td>\n",
       "      <td>0</td>\n",
       "      <td>0</td>\n",
       "      <td>0</td>\n",
       "      <td>1</td>\n",
       "      <td>0</td>\n",
       "      <td>0</td>\n",
       "      <td>0</td>\n",
       "      <td>0</td>\n",
       "      <td>1</td>\n",
       "      <td>1</td>\n",
       "      <td>0</td>\n",
       "      <td>0.000000</td>\n",
       "      <td>0.222222</td>\n",
       "      <td>0.777778</td>\n",
       "      <td>0.000000</td>\n",
       "      <td>0.000000</td>\n",
       "      <td>0.000000</td>\n",
       "    </tr>\n",
       "    <tr>\n",
       "      <th>2595</th>\n",
       "      <td>60</td>\n",
       "      <td>0</td>\n",
       "      <td>5.0</td>\n",
       "      <td>5.0</td>\n",
       "      <td>1</td>\n",
       "      <td>1</td>\n",
       "      <td>0</td>\n",
       "      <td>2</td>\n",
       "      <td>1.0</td>\n",
       "      <td>0.0</td>\n",
       "      <td>1.0</td>\n",
       "      <td>225.0</td>\n",
       "      <td>350.0</td>\n",
       "      <td>100.0</td>\n",
       "      <td>2</td>\n",
       "      <td>0.0</td>\n",
       "      <td>1</td>\n",
       "      <td>1125</td>\n",
       "      <td>1</td>\n",
       "      <td>1</td>\n",
       "      <td>1125</td>\n",
       "      <td>1125</td>\n",
       "      <td>1.0</td>\n",
       "      <td>1125.0</td>\n",
       "      <td>30</td>\n",
       "      <td>60</td>\n",
       "      <td>90</td>\n",
       "      <td>365</td>\n",
       "      <td>43</td>\n",
       "      <td>14</td>\n",
       "      <td>95.0</td>\n",
       "      <td>9.0</td>\n",
       "      <td>9.0</td>\n",
       "      <td>10.0</td>\n",
       "      <td>10.0</td>\n",
       "      <td>10.0</td>\n",
       "      <td>9.0</td>\n",
       "      <td>0</td>\n",
       "      <td>1</td>\n",
       "      <td>1</td>\n",
       "      <td>2</td>\n",
       "      <td>1</td>\n",
       "      <td>0</td>\n",
       "      <td>1</td>\n",
       "      <td>0.38</td>\n",
       "      <td>5</td>\n",
       "      <td>1000</td>\n",
       "      <td>427</td>\n",
       "      <td>2019.0</td>\n",
       "      <td>1.0</td>\n",
       "      <td>2.0</td>\n",
       "      <td>2009.0</td>\n",
       "      <td>11.0</td>\n",
       "      <td>21.0</td>\n",
       "      <td>19.0</td>\n",
       "      <td>3798</td>\n",
       "      <td>31.0</td>\n",
       "      <td>36</td>\n",
       "      <td>0</td>\n",
       "      <td>1</td>\n",
       "      <td>0</td>\n",
       "      <td>0</td>\n",
       "      <td>0</td>\n",
       "      <td>1</td>\n",
       "      <td>0</td>\n",
       "      <td>0</td>\n",
       "      <td>0</td>\n",
       "      <td>0</td>\n",
       "      <td>0</td>\n",
       "      <td>0</td>\n",
       "      <td>0</td>\n",
       "      <td>0</td>\n",
       "      <td>0</td>\n",
       "      <td>0</td>\n",
       "      <td>0</td>\n",
       "      <td>0</td>\n",
       "      <td>0</td>\n",
       "      <td>1</td>\n",
       "      <td>0</td>\n",
       "      <td>1</td>\n",
       "      <td>0.000000</td>\n",
       "      <td>0.232558</td>\n",
       "      <td>0.302326</td>\n",
       "      <td>0.093023</td>\n",
       "      <td>0.046512</td>\n",
       "      <td>0.325581</td>\n",
       "    </tr>\n",
       "    <tr>\n",
       "      <th>3330</th>\n",
       "      <td>100</td>\n",
       "      <td>0</td>\n",
       "      <td>4.0</td>\n",
       "      <td>4.0</td>\n",
       "      <td>1</td>\n",
       "      <td>1</td>\n",
       "      <td>1</td>\n",
       "      <td>2</td>\n",
       "      <td>1.0</td>\n",
       "      <td>1.0</td>\n",
       "      <td>1.0</td>\n",
       "      <td>70.0</td>\n",
       "      <td>150.0</td>\n",
       "      <td>125.0</td>\n",
       "      <td>2</td>\n",
       "      <td>50.0</td>\n",
       "      <td>5</td>\n",
       "      <td>730</td>\n",
       "      <td>5</td>\n",
       "      <td>5</td>\n",
       "      <td>730</td>\n",
       "      <td>730</td>\n",
       "      <td>5.0</td>\n",
       "      <td>730.0</td>\n",
       "      <td>2</td>\n",
       "      <td>27</td>\n",
       "      <td>37</td>\n",
       "      <td>290</td>\n",
       "      <td>39</td>\n",
       "      <td>12</td>\n",
       "      <td>97.0</td>\n",
       "      <td>10.0</td>\n",
       "      <td>10.0</td>\n",
       "      <td>10.0</td>\n",
       "      <td>10.0</td>\n",
       "      <td>10.0</td>\n",
       "      <td>10.0</td>\n",
       "      <td>0</td>\n",
       "      <td>0</td>\n",
       "      <td>0</td>\n",
       "      <td>3</td>\n",
       "      <td>0</td>\n",
       "      <td>3</td>\n",
       "      <td>0</td>\n",
       "      <td>0.35</td>\n",
       "      <td>4</td>\n",
       "      <td>1000</td>\n",
       "      <td>25</td>\n",
       "      <td>2018.0</td>\n",
       "      <td>12.0</td>\n",
       "      <td>7.0</td>\n",
       "      <td>2010.0</td>\n",
       "      <td>1.0</td>\n",
       "      <td>4.0</td>\n",
       "      <td>3.0</td>\n",
       "      <td>3737</td>\n",
       "      <td>57.0</td>\n",
       "      <td>25</td>\n",
       "      <td>1</td>\n",
       "      <td>0</td>\n",
       "      <td>0</td>\n",
       "      <td>0</td>\n",
       "      <td>1</td>\n",
       "      <td>0</td>\n",
       "      <td>0</td>\n",
       "      <td>0</td>\n",
       "      <td>0</td>\n",
       "      <td>0</td>\n",
       "      <td>0</td>\n",
       "      <td>0</td>\n",
       "      <td>0</td>\n",
       "      <td>0</td>\n",
       "      <td>1</td>\n",
       "      <td>0</td>\n",
       "      <td>0</td>\n",
       "      <td>0</td>\n",
       "      <td>0</td>\n",
       "      <td>1</td>\n",
       "      <td>0</td>\n",
       "      <td>1</td>\n",
       "      <td>0.051282</td>\n",
       "      <td>0.102564</td>\n",
       "      <td>0.435897</td>\n",
       "      <td>0.051282</td>\n",
       "      <td>0.051282</td>\n",
       "      <td>0.307692</td>\n",
       "    </tr>\n",
       "    <tr>\n",
       "      <th>3831</th>\n",
       "      <td>96</td>\n",
       "      <td>0</td>\n",
       "      <td>1.0</td>\n",
       "      <td>1.0</td>\n",
       "      <td>1</td>\n",
       "      <td>1</td>\n",
       "      <td>1</td>\n",
       "      <td>3</td>\n",
       "      <td>1.0</td>\n",
       "      <td>1.0</td>\n",
       "      <td>3.0</td>\n",
       "      <td>89.0</td>\n",
       "      <td>500.0</td>\n",
       "      <td>50.0</td>\n",
       "      <td>1</td>\n",
       "      <td>0.0</td>\n",
       "      <td>1</td>\n",
       "      <td>730</td>\n",
       "      <td>1</td>\n",
       "      <td>1</td>\n",
       "      <td>730</td>\n",
       "      <td>730</td>\n",
       "      <td>1.0</td>\n",
       "      <td>730.0</td>\n",
       "      <td>8</td>\n",
       "      <td>11</td>\n",
       "      <td>14</td>\n",
       "      <td>162</td>\n",
       "      <td>231</td>\n",
       "      <td>58</td>\n",
       "      <td>90.0</td>\n",
       "      <td>9.0</td>\n",
       "      <td>9.0</td>\n",
       "      <td>10.0</td>\n",
       "      <td>10.0</td>\n",
       "      <td>10.0</td>\n",
       "      <td>10.0</td>\n",
       "      <td>0</td>\n",
       "      <td>0</td>\n",
       "      <td>0</td>\n",
       "      <td>1</td>\n",
       "      <td>1</td>\n",
       "      <td>0</td>\n",
       "      <td>0</td>\n",
       "      <td>4.37</td>\n",
       "      <td>5</td>\n",
       "      <td>1000</td>\n",
       "      <td>46</td>\n",
       "      <td>2019.0</td>\n",
       "      <td>1.0</td>\n",
       "      <td>17.0</td>\n",
       "      <td>2014.0</td>\n",
       "      <td>9.0</td>\n",
       "      <td>30.0</td>\n",
       "      <td>13.0</td>\n",
       "      <td>3709</td>\n",
       "      <td>16.0</td>\n",
       "      <td>31</td>\n",
       "      <td>0</td>\n",
       "      <td>0</td>\n",
       "      <td>0</td>\n",
       "      <td>1</td>\n",
       "      <td>1</td>\n",
       "      <td>0</td>\n",
       "      <td>0</td>\n",
       "      <td>0</td>\n",
       "      <td>0</td>\n",
       "      <td>0</td>\n",
       "      <td>0</td>\n",
       "      <td>1</td>\n",
       "      <td>0</td>\n",
       "      <td>0</td>\n",
       "      <td>0</td>\n",
       "      <td>0</td>\n",
       "      <td>0</td>\n",
       "      <td>0</td>\n",
       "      <td>0</td>\n",
       "      <td>1</td>\n",
       "      <td>1</td>\n",
       "      <td>0</td>\n",
       "      <td>0.004329</td>\n",
       "      <td>0.134199</td>\n",
       "      <td>0.571429</td>\n",
       "      <td>0.121212</td>\n",
       "      <td>0.086580</td>\n",
       "      <td>0.082251</td>\n",
       "    </tr>\n",
       "  </tbody>\n",
       "</table>\n",
       "</div>"
      ],
      "text/plain": [
       "      host_response_rate  host_is_superhost  host_listings_count  host_total_listings_count  host_has_profile_pic  host_identity_verified  is_location_exact  accommodates  bathrooms  bedrooms  beds  price  security_deposit  cleaning_fee  guests_included  extra_people  minimum_nights  maximum_nights  minimum_minimum_nights  maximum_minimum_nights  minimum_maximum_nights  maximum_maximum_nights  minimum_nights_avg_ntm  maximum_nights_avg_ntm  availability_30  availability_60  availability_90  availability_365  number_of_reviews  number_of_reviews_ltm  review_scores_rating  review_scores_accuracy  review_scores_cleanliness  review_scores_checkin  review_scores_communication  review_scores_location  review_scores_value  instant_bookable  require_guest_profile_picture  require_guest_phone_verification  calculated_host_listings_count  calculated_host_listings_count_entire_homes  calculated_host_listings_count_private_rooms  calculated_host_listings_count_shared_rooms  reviews_per_month  \\\n",
       "id                                                                                                                                                                                                                                                                                                                                                                                                                                                                                                                                                                                                                                                                                                                                                                                                                                                                                                                                                                                                                                   \n",
       "2454                  60                  0                  1.0                        1.0                     1                       0                  1             2        1.0       0.0   2.0  137.0             150.0          50.0                1           0.0               7             730                       7                       7                     730                     730                     7.0                   730.0               16               36               65                65                  1                      1                  96.0                    10.0                       10.0                   10.0                         10.0                    10.0                 10.0                 0                              0                                 0                               1                                            1                                             0                                            0               1.00   \n",
       "2539                 100                  0                  8.0                        8.0                     1                       1                  0             4        1.0       1.0   1.0  149.0             100.0          25.0                1          25.0               1             730                       1                       1                     730                     730                     1.0                   730.0               30               60               90               365                  9                      2                  98.0                    10.0                       10.0                   10.0                         10.0                    10.0                 10.0                 0                              0                                 0                               8                                            0                                             5                                            3               0.23   \n",
       "2595                  60                  0                  5.0                        5.0                     1                       1                  0             2        1.0       0.0   1.0  225.0             350.0         100.0                2           0.0               1            1125                       1                       1                    1125                    1125                     1.0                  1125.0               30               60               90               365                 43                     14                  95.0                     9.0                        9.0                   10.0                         10.0                    10.0                  9.0                 0                              1                                 1                               2                                            1                                             0                                            1               0.38   \n",
       "3330                 100                  0                  4.0                        4.0                     1                       1                  1             2        1.0       1.0   1.0   70.0             150.0         125.0                2          50.0               5             730                       5                       5                     730                     730                     5.0                   730.0                2               27               37               290                 39                     12                  97.0                    10.0                       10.0                   10.0                         10.0                    10.0                 10.0                 0                              0                                 0                               3                                            0                                             3                                            0               0.35   \n",
       "3831                  96                  0                  1.0                        1.0                     1                       1                  1             3        1.0       1.0   3.0   89.0             500.0          50.0                1           0.0               1             730                       1                       1                     730                     730                     1.0                   730.0                8               11               14               162                231                     58                  90.0                     9.0                        9.0                   10.0                         10.0                    10.0                 10.0                 0                              0                                 0                               1                                            1                                             0                                            0               4.37   \n",
       "\n",
       "      host_verifications_count  desc_len  host_about_len  lreview_year  lreview_month  lreview_day  freview_year  freview_month  freview_day  ndays_between_f_l_reviews  ndays_host  ndays_last_review  num_amenities  host_response_time_na  host_response_time_within a day  host_response_time_within a few hours  host_response_time_within an hour  neighbourhood_group_cleansed_Brooklyn  neighbourhood_group_cleansed_Manhattan  neighbourhood_group_cleansed_Queens  neighbourhood_group_cleansed_Staten Island  property_type_Condominium  property_type_House  property_type_Loft  property_type_Other  property_type_Serviced apartment  property_type_Townhouse  room_type_Private room  room_type_Shared room  bed_type_Couch  bed_type_Futon  bed_type_Pull-out Sofa  bed_type_Real Bed  cancellation_policy_moderate  cancellation_policy_strict   topic_0   topic_1   topic_2   topic_3   topic_4   topic_5  \n",
       "id                                                                                                                                                                                                                                                                                                                                                                                                                                                                                                                                                                                                                                                                                                                                                                                                                                                                                                                           \n",
       "2454                         2       412               0        2019.0            1.0         30.0        2019.0            1.0         30.0                        0.0        3803                2.0             15                      0                                1                                      0                                  0                                      0                                       1                                    0                                           0                          1                    0                   0                    0                                 0                        0                       0                      0               0               0                       0                  1                             0                           0  1.000000  0.000000  0.000000  0.000000  0.000000  0.000000  \n",
       "2539                         4       392             431        2018.0           10.0         19.0        2015.0           12.0          4.0                       15.0        3800              106.0             44                      0                                0                                      0                                  1                                      1                                       0                                    0                                           0                          0                    0                   0                    0                                 0                        0                       1                      0               0               0                       0                  1                             1                           0  0.000000  0.222222  0.777778  0.000000  0.000000  0.000000  \n",
       "2595                         5      1000             427        2019.0            1.0          2.0        2009.0           11.0         21.0                       19.0        3798               31.0             36                      0                                1                                      0                                  0                                      0                                       1                                    0                                           0                          0                    0                   0                    0                                 0                        0                       0                      0               0               0                       0                  1                             0                           1  0.000000  0.232558  0.302326  0.093023  0.046512  0.325581  \n",
       "3330                         4      1000              25        2018.0           12.0          7.0        2010.0            1.0          4.0                        3.0        3737               57.0             25                      1                                0                                      0                                  0                                      1                                       0                                    0                                           0                          0                    0                   0                    0                                 0                        0                       1                      0               0               0                       0                  1                             0                           1  0.051282  0.102564  0.435897  0.051282  0.051282  0.307692  \n",
       "3831                         5      1000              46        2019.0            1.0         17.0        2014.0            9.0         30.0                       13.0        3709               16.0             31                      0                                0                                      0                                  1                                      1                                       0                                    0                                           0                          0                    0                   0                    1                                 0                        0                       0                      0               0               0                       0                  1                             1                           0  0.004329  0.134199  0.571429  0.121212  0.086580  0.082251  "
      ]
     },
     "execution_count": 798,
     "metadata": {},
     "output_type": "execute_result"
    }
   ],
   "source": [
    "listings.head()"
   ]
  },
  {
   "cell_type": "code",
   "execution_count": 799,
   "metadata": {},
   "outputs": [
    {
     "data": {
      "text/plain": [
       "(39926, 86)"
      ]
     },
     "execution_count": 799,
     "metadata": {},
     "output_type": "execute_result"
    }
   ],
   "source": [
    "listings.shape"
   ]
  },
  {
   "cell_type": "code",
   "execution_count": 800,
   "metadata": {
    "scrolled": true
   },
   "outputs": [
    {
     "data": {
      "text/html": [
       "<div>\n",
       "<style scoped>\n",
       "    .dataframe tbody tr th:only-of-type {\n",
       "        vertical-align: middle;\n",
       "    }\n",
       "\n",
       "    .dataframe tbody tr th {\n",
       "        vertical-align: top;\n",
       "    }\n",
       "\n",
       "    .dataframe thead th {\n",
       "        text-align: right;\n",
       "    }\n",
       "</style>\n",
       "<table border=\"1\" class=\"dataframe\">\n",
       "  <thead>\n",
       "    <tr style=\"text-align: right;\">\n",
       "      <th></th>\n",
       "      <th>host_response_rate</th>\n",
       "      <th>host_is_superhost</th>\n",
       "      <th>host_listings_count</th>\n",
       "      <th>host_total_listings_count</th>\n",
       "      <th>host_has_profile_pic</th>\n",
       "      <th>host_identity_verified</th>\n",
       "      <th>is_location_exact</th>\n",
       "      <th>accommodates</th>\n",
       "      <th>bathrooms</th>\n",
       "      <th>bedrooms</th>\n",
       "      <th>beds</th>\n",
       "      <th>price</th>\n",
       "      <th>security_deposit</th>\n",
       "      <th>cleaning_fee</th>\n",
       "      <th>guests_included</th>\n",
       "      <th>extra_people</th>\n",
       "      <th>minimum_nights</th>\n",
       "      <th>maximum_nights</th>\n",
       "      <th>minimum_minimum_nights</th>\n",
       "      <th>maximum_minimum_nights</th>\n",
       "      <th>minimum_maximum_nights</th>\n",
       "      <th>maximum_maximum_nights</th>\n",
       "      <th>minimum_nights_avg_ntm</th>\n",
       "      <th>maximum_nights_avg_ntm</th>\n",
       "      <th>availability_30</th>\n",
       "      <th>availability_60</th>\n",
       "      <th>availability_90</th>\n",
       "      <th>availability_365</th>\n",
       "      <th>number_of_reviews</th>\n",
       "      <th>number_of_reviews_ltm</th>\n",
       "      <th>review_scores_rating</th>\n",
       "      <th>review_scores_accuracy</th>\n",
       "      <th>review_scores_cleanliness</th>\n",
       "      <th>review_scores_checkin</th>\n",
       "      <th>review_scores_communication</th>\n",
       "      <th>review_scores_location</th>\n",
       "      <th>review_scores_value</th>\n",
       "      <th>instant_bookable</th>\n",
       "      <th>require_guest_profile_picture</th>\n",
       "      <th>require_guest_phone_verification</th>\n",
       "      <th>calculated_host_listings_count</th>\n",
       "      <th>calculated_host_listings_count_entire_homes</th>\n",
       "      <th>calculated_host_listings_count_private_rooms</th>\n",
       "      <th>calculated_host_listings_count_shared_rooms</th>\n",
       "      <th>reviews_per_month</th>\n",
       "      <th>host_verifications_count</th>\n",
       "      <th>desc_len</th>\n",
       "      <th>host_about_len</th>\n",
       "      <th>lreview_year</th>\n",
       "      <th>lreview_month</th>\n",
       "      <th>lreview_day</th>\n",
       "      <th>freview_year</th>\n",
       "      <th>freview_month</th>\n",
       "      <th>freview_day</th>\n",
       "      <th>ndays_between_f_l_reviews</th>\n",
       "      <th>ndays_host</th>\n",
       "      <th>ndays_last_review</th>\n",
       "      <th>num_amenities</th>\n",
       "      <th>host_response_time_na</th>\n",
       "      <th>host_response_time_within a day</th>\n",
       "      <th>host_response_time_within a few hours</th>\n",
       "      <th>host_response_time_within an hour</th>\n",
       "      <th>neighbourhood_group_cleansed_Brooklyn</th>\n",
       "      <th>neighbourhood_group_cleansed_Manhattan</th>\n",
       "      <th>neighbourhood_group_cleansed_Queens</th>\n",
       "      <th>neighbourhood_group_cleansed_Staten Island</th>\n",
       "      <th>property_type_Condominium</th>\n",
       "      <th>property_type_House</th>\n",
       "      <th>property_type_Loft</th>\n",
       "      <th>property_type_Other</th>\n",
       "      <th>property_type_Serviced apartment</th>\n",
       "      <th>property_type_Townhouse</th>\n",
       "      <th>room_type_Private room</th>\n",
       "      <th>room_type_Shared room</th>\n",
       "      <th>bed_type_Couch</th>\n",
       "      <th>bed_type_Futon</th>\n",
       "      <th>bed_type_Pull-out Sofa</th>\n",
       "      <th>bed_type_Real Bed</th>\n",
       "      <th>cancellation_policy_moderate</th>\n",
       "      <th>cancellation_policy_strict</th>\n",
       "      <th>topic_0</th>\n",
       "      <th>topic_1</th>\n",
       "      <th>topic_2</th>\n",
       "      <th>topic_3</th>\n",
       "      <th>topic_4</th>\n",
       "      <th>topic_5</th>\n",
       "    </tr>\n",
       "  </thead>\n",
       "  <tbody>\n",
       "    <tr>\n",
       "      <th>count</th>\n",
       "      <td>39926.000000</td>\n",
       "      <td>39926.000000</td>\n",
       "      <td>39926.000000</td>\n",
       "      <td>39926.000000</td>\n",
       "      <td>39926.000000</td>\n",
       "      <td>39926.000000</td>\n",
       "      <td>39926.000000</td>\n",
       "      <td>39926.000000</td>\n",
       "      <td>39926.000000</td>\n",
       "      <td>39926.000000</td>\n",
       "      <td>39926.000000</td>\n",
       "      <td>39926.000000</td>\n",
       "      <td>39926.000000</td>\n",
       "      <td>39926.000000</td>\n",
       "      <td>39926.000000</td>\n",
       "      <td>39926.000000</td>\n",
       "      <td>39926.000000</td>\n",
       "      <td>3.992600e+04</td>\n",
       "      <td>39926.000000</td>\n",
       "      <td>39926.000000</td>\n",
       "      <td>3.992600e+04</td>\n",
       "      <td>3.992600e+04</td>\n",
       "      <td>39926.000000</td>\n",
       "      <td>3.992600e+04</td>\n",
       "      <td>39926.000000</td>\n",
       "      <td>39926.000000</td>\n",
       "      <td>39926.000000</td>\n",
       "      <td>39926.000000</td>\n",
       "      <td>39926.000000</td>\n",
       "      <td>39926.000000</td>\n",
       "      <td>39926.000000</td>\n",
       "      <td>39926.000000</td>\n",
       "      <td>39926.000000</td>\n",
       "      <td>39926.000000</td>\n",
       "      <td>39926.000000</td>\n",
       "      <td>39926.000000</td>\n",
       "      <td>39926.000000</td>\n",
       "      <td>39926.000000</td>\n",
       "      <td>39926.000000</td>\n",
       "      <td>39926.000000</td>\n",
       "      <td>39926.000000</td>\n",
       "      <td>39926.000000</td>\n",
       "      <td>39926.000000</td>\n",
       "      <td>39926.000000</td>\n",
       "      <td>39926.000000</td>\n",
       "      <td>39926.000000</td>\n",
       "      <td>39926.000000</td>\n",
       "      <td>39926.000000</td>\n",
       "      <td>39926.000000</td>\n",
       "      <td>39926.000000</td>\n",
       "      <td>39926.000000</td>\n",
       "      <td>39926.000000</td>\n",
       "      <td>39926.000000</td>\n",
       "      <td>39926.000000</td>\n",
       "      <td>39926.00000</td>\n",
       "      <td>39926.000000</td>\n",
       "      <td>39926.000000</td>\n",
       "      <td>39926.000000</td>\n",
       "      <td>39926.000000</td>\n",
       "      <td>39926.000000</td>\n",
       "      <td>39926.000000</td>\n",
       "      <td>39926.000000</td>\n",
       "      <td>39926.000000</td>\n",
       "      <td>39926.000000</td>\n",
       "      <td>39926.000000</td>\n",
       "      <td>39926.000000</td>\n",
       "      <td>39926.000000</td>\n",
       "      <td>39926.000000</td>\n",
       "      <td>39926.000000</td>\n",
       "      <td>39926.000000</td>\n",
       "      <td>39926.000000</td>\n",
       "      <td>39926.000000</td>\n",
       "      <td>39926.000000</td>\n",
       "      <td>39926.000000</td>\n",
       "      <td>39926.000000</td>\n",
       "      <td>39926.000000</td>\n",
       "      <td>39926.000000</td>\n",
       "      <td>39926.000000</td>\n",
       "      <td>39926.000000</td>\n",
       "      <td>39926.000000</td>\n",
       "      <td>39926.000000</td>\n",
       "      <td>39926.000000</td>\n",
       "      <td>39926.000000</td>\n",
       "      <td>39926.000000</td>\n",
       "      <td>39926.000000</td>\n",
       "      <td>39926.000000</td>\n",
       "    </tr>\n",
       "    <tr>\n",
       "      <th>mean</th>\n",
       "      <td>96.315884</td>\n",
       "      <td>0.210590</td>\n",
       "      <td>5.662826</td>\n",
       "      <td>5.662826</td>\n",
       "      <td>0.998422</td>\n",
       "      <td>0.528553</td>\n",
       "      <td>0.828608</td>\n",
       "      <td>2.950058</td>\n",
       "      <td>1.138306</td>\n",
       "      <td>1.184642</td>\n",
       "      <td>1.574463</td>\n",
       "      <td>142.387041</td>\n",
       "      <td>224.197390</td>\n",
       "      <td>61.030607</td>\n",
       "      <td>1.576992</td>\n",
       "      <td>15.795321</td>\n",
       "      <td>5.692331</td>\n",
       "      <td>5.544764e+04</td>\n",
       "      <td>5.527000</td>\n",
       "      <td>7.366002</td>\n",
       "      <td>5.544691e+04</td>\n",
       "      <td>5.544837e+04</td>\n",
       "      <td>6.357627</td>\n",
       "      <td>5.544767e+04</td>\n",
       "      <td>11.035390</td>\n",
       "      <td>23.616440</td>\n",
       "      <td>35.811251</td>\n",
       "      <td>125.589716</td>\n",
       "      <td>27.932124</td>\n",
       "      <td>11.737915</td>\n",
       "      <td>93.839754</td>\n",
       "      <td>9.615764</td>\n",
       "      <td>9.284652</td>\n",
       "      <td>9.745354</td>\n",
       "      <td>9.758679</td>\n",
       "      <td>9.539949</td>\n",
       "      <td>9.393478</td>\n",
       "      <td>0.374217</td>\n",
       "      <td>0.027225</td>\n",
       "      <td>0.029905</td>\n",
       "      <td>3.487627</td>\n",
       "      <td>2.216926</td>\n",
       "      <td>1.162551</td>\n",
       "      <td>0.108150</td>\n",
       "      <td>1.365680</td>\n",
       "      <td>5.367555</td>\n",
       "      <td>801.059335</td>\n",
       "      <td>183.031032</td>\n",
       "      <td>2017.998222</td>\n",
       "      <td>5.644818</td>\n",
       "      <td>14.928543</td>\n",
       "      <td>2016.462856</td>\n",
       "      <td>7.057431</td>\n",
       "      <td>15.210114</td>\n",
       "      <td>9.57852</td>\n",
       "      <td>1497.250739</td>\n",
       "      <td>242.526173</td>\n",
       "      <td>21.367530</td>\n",
       "      <td>0.415143</td>\n",
       "      <td>0.088864</td>\n",
       "      <td>0.120748</td>\n",
       "      <td>0.359265</td>\n",
       "      <td>0.417197</td>\n",
       "      <td>0.442869</td>\n",
       "      <td>0.112533</td>\n",
       "      <td>0.007263</td>\n",
       "      <td>0.027877</td>\n",
       "      <td>0.078620</td>\n",
       "      <td>0.032134</td>\n",
       "      <td>0.020713</td>\n",
       "      <td>0.010795</td>\n",
       "      <td>0.035641</td>\n",
       "      <td>0.443070</td>\n",
       "      <td>0.021139</td>\n",
       "      <td>0.001453</td>\n",
       "      <td>0.007113</td>\n",
       "      <td>0.006061</td>\n",
       "      <td>0.981691</td>\n",
       "      <td>0.259781</td>\n",
       "      <td>0.491660</td>\n",
       "      <td>0.062247</td>\n",
       "      <td>0.164064</td>\n",
       "      <td>0.430393</td>\n",
       "      <td>0.055104</td>\n",
       "      <td>0.079159</td>\n",
       "      <td>0.209033</td>\n",
       "    </tr>\n",
       "    <tr>\n",
       "      <th>std</th>\n",
       "      <td>12.673573</td>\n",
       "      <td>0.407732</td>\n",
       "      <td>45.784125</td>\n",
       "      <td>45.784125</td>\n",
       "      <td>0.039692</td>\n",
       "      <td>0.499190</td>\n",
       "      <td>0.376856</td>\n",
       "      <td>1.916729</td>\n",
       "      <td>0.422823</td>\n",
       "      <td>0.749081</td>\n",
       "      <td>1.124154</td>\n",
       "      <td>195.669190</td>\n",
       "      <td>379.084418</td>\n",
       "      <td>47.553397</td>\n",
       "      <td>1.184780</td>\n",
       "      <td>24.353929</td>\n",
       "      <td>16.410253</td>\n",
       "      <td>1.074829e+07</td>\n",
       "      <td>16.493872</td>\n",
       "      <td>63.251348</td>\n",
       "      <td>1.074829e+07</td>\n",
       "      <td>1.074829e+07</td>\n",
       "      <td>32.436964</td>\n",
       "      <td>1.074829e+07</td>\n",
       "      <td>12.138319</td>\n",
       "      <td>24.213627</td>\n",
       "      <td>35.910562</td>\n",
       "      <td>135.447406</td>\n",
       "      <td>44.842680</td>\n",
       "      <td>17.016837</td>\n",
       "      <td>8.365278</td>\n",
       "      <td>0.824400</td>\n",
       "      <td>1.070536</td>\n",
       "      <td>0.703155</td>\n",
       "      <td>0.695812</td>\n",
       "      <td>0.769516</td>\n",
       "      <td>0.895050</td>\n",
       "      <td>0.483926</td>\n",
       "      <td>0.162742</td>\n",
       "      <td>0.170328</td>\n",
       "      <td>11.062764</td>\n",
       "      <td>10.661054</td>\n",
       "      <td>3.212004</td>\n",
       "      <td>1.048827</td>\n",
       "      <td>1.604013</td>\n",
       "      <td>1.890987</td>\n",
       "      <td>293.992287</td>\n",
       "      <td>315.045900</td>\n",
       "      <td>1.133062</td>\n",
       "      <td>4.536595</td>\n",
       "      <td>10.083192</td>\n",
       "      <td>1.715380</td>\n",
       "      <td>3.403918</td>\n",
       "      <td>9.271128</td>\n",
       "      <td>8.24062</td>\n",
       "      <td>794.592570</td>\n",
       "      <td>364.709261</td>\n",
       "      <td>9.851711</td>\n",
       "      <td>0.492753</td>\n",
       "      <td>0.284551</td>\n",
       "      <td>0.325839</td>\n",
       "      <td>0.479791</td>\n",
       "      <td>0.493102</td>\n",
       "      <td>0.496732</td>\n",
       "      <td>0.316025</td>\n",
       "      <td>0.084917</td>\n",
       "      <td>0.164621</td>\n",
       "      <td>0.269149</td>\n",
       "      <td>0.176359</td>\n",
       "      <td>0.142425</td>\n",
       "      <td>0.103338</td>\n",
       "      <td>0.185396</td>\n",
       "      <td>0.496755</td>\n",
       "      <td>0.143850</td>\n",
       "      <td>0.038087</td>\n",
       "      <td>0.084040</td>\n",
       "      <td>0.077618</td>\n",
       "      <td>0.134068</td>\n",
       "      <td>0.438520</td>\n",
       "      <td>0.499937</td>\n",
       "      <td>0.181705</td>\n",
       "      <td>0.191245</td>\n",
       "      <td>0.275933</td>\n",
       "      <td>0.115318</td>\n",
       "      <td>0.141098</td>\n",
       "      <td>0.234078</td>\n",
       "    </tr>\n",
       "    <tr>\n",
       "      <th>min</th>\n",
       "      <td>0.000000</td>\n",
       "      <td>0.000000</td>\n",
       "      <td>0.000000</td>\n",
       "      <td>0.000000</td>\n",
       "      <td>0.000000</td>\n",
       "      <td>0.000000</td>\n",
       "      <td>0.000000</td>\n",
       "      <td>1.000000</td>\n",
       "      <td>0.000000</td>\n",
       "      <td>0.000000</td>\n",
       "      <td>0.000000</td>\n",
       "      <td>0.000000</td>\n",
       "      <td>0.000000</td>\n",
       "      <td>0.000000</td>\n",
       "      <td>1.000000</td>\n",
       "      <td>0.000000</td>\n",
       "      <td>1.000000</td>\n",
       "      <td>1.000000e+00</td>\n",
       "      <td>1.000000</td>\n",
       "      <td>1.000000</td>\n",
       "      <td>1.000000e+00</td>\n",
       "      <td>1.000000e+00</td>\n",
       "      <td>1.000000</td>\n",
       "      <td>1.000000e+00</td>\n",
       "      <td>0.000000</td>\n",
       "      <td>0.000000</td>\n",
       "      <td>0.000000</td>\n",
       "      <td>0.000000</td>\n",
       "      <td>1.000000</td>\n",
       "      <td>0.000000</td>\n",
       "      <td>20.000000</td>\n",
       "      <td>2.000000</td>\n",
       "      <td>2.000000</td>\n",
       "      <td>2.000000</td>\n",
       "      <td>2.000000</td>\n",
       "      <td>2.000000</td>\n",
       "      <td>2.000000</td>\n",
       "      <td>0.000000</td>\n",
       "      <td>0.000000</td>\n",
       "      <td>0.000000</td>\n",
       "      <td>1.000000</td>\n",
       "      <td>0.000000</td>\n",
       "      <td>0.000000</td>\n",
       "      <td>0.000000</td>\n",
       "      <td>0.010000</td>\n",
       "      <td>0.000000</td>\n",
       "      <td>0.000000</td>\n",
       "      <td>0.000000</td>\n",
       "      <td>2010.000000</td>\n",
       "      <td>1.000000</td>\n",
       "      <td>1.000000</td>\n",
       "      <td>2009.000000</td>\n",
       "      <td>1.000000</td>\n",
       "      <td>1.000000</td>\n",
       "      <td>0.00000</td>\n",
       "      <td>3.000000</td>\n",
       "      <td>0.000000</td>\n",
       "      <td>1.000000</td>\n",
       "      <td>0.000000</td>\n",
       "      <td>0.000000</td>\n",
       "      <td>0.000000</td>\n",
       "      <td>0.000000</td>\n",
       "      <td>0.000000</td>\n",
       "      <td>0.000000</td>\n",
       "      <td>0.000000</td>\n",
       "      <td>0.000000</td>\n",
       "      <td>0.000000</td>\n",
       "      <td>0.000000</td>\n",
       "      <td>0.000000</td>\n",
       "      <td>0.000000</td>\n",
       "      <td>0.000000</td>\n",
       "      <td>0.000000</td>\n",
       "      <td>0.000000</td>\n",
       "      <td>0.000000</td>\n",
       "      <td>0.000000</td>\n",
       "      <td>0.000000</td>\n",
       "      <td>0.000000</td>\n",
       "      <td>0.000000</td>\n",
       "      <td>0.000000</td>\n",
       "      <td>0.000000</td>\n",
       "      <td>0.000000</td>\n",
       "      <td>0.000000</td>\n",
       "      <td>0.000000</td>\n",
       "      <td>0.000000</td>\n",
       "      <td>0.000000</td>\n",
       "      <td>0.000000</td>\n",
       "    </tr>\n",
       "    <tr>\n",
       "      <th>25%</th>\n",
       "      <td>100.000000</td>\n",
       "      <td>0.000000</td>\n",
       "      <td>1.000000</td>\n",
       "      <td>1.000000</td>\n",
       "      <td>1.000000</td>\n",
       "      <td>0.000000</td>\n",
       "      <td>1.000000</td>\n",
       "      <td>2.000000</td>\n",
       "      <td>1.000000</td>\n",
       "      <td>1.000000</td>\n",
       "      <td>1.000000</td>\n",
       "      <td>69.000000</td>\n",
       "      <td>100.000000</td>\n",
       "      <td>30.000000</td>\n",
       "      <td>1.000000</td>\n",
       "      <td>0.000000</td>\n",
       "      <td>1.000000</td>\n",
       "      <td>2.900000e+01</td>\n",
       "      <td>1.000000</td>\n",
       "      <td>2.000000</td>\n",
       "      <td>2.900000e+01</td>\n",
       "      <td>2.900000e+01</td>\n",
       "      <td>1.300000</td>\n",
       "      <td>2.900000e+01</td>\n",
       "      <td>0.000000</td>\n",
       "      <td>0.000000</td>\n",
       "      <td>0.000000</td>\n",
       "      <td>0.000000</td>\n",
       "      <td>3.000000</td>\n",
       "      <td>1.000000</td>\n",
       "      <td>92.000000</td>\n",
       "      <td>9.000000</td>\n",
       "      <td>9.000000</td>\n",
       "      <td>10.000000</td>\n",
       "      <td>10.000000</td>\n",
       "      <td>9.000000</td>\n",
       "      <td>9.000000</td>\n",
       "      <td>0.000000</td>\n",
       "      <td>0.000000</td>\n",
       "      <td>0.000000</td>\n",
       "      <td>1.000000</td>\n",
       "      <td>0.000000</td>\n",
       "      <td>0.000000</td>\n",
       "      <td>0.000000</td>\n",
       "      <td>0.220000</td>\n",
       "      <td>4.000000</td>\n",
       "      <td>587.250000</td>\n",
       "      <td>0.000000</td>\n",
       "      <td>2018.000000</td>\n",
       "      <td>1.000000</td>\n",
       "      <td>5.000000</td>\n",
       "      <td>2016.000000</td>\n",
       "      <td>5.000000</td>\n",
       "      <td>7.000000</td>\n",
       "      <td>2.00000</td>\n",
       "      <td>928.000000</td>\n",
       "      <td>28.250000</td>\n",
       "      <td>14.000000</td>\n",
       "      <td>0.000000</td>\n",
       "      <td>0.000000</td>\n",
       "      <td>0.000000</td>\n",
       "      <td>0.000000</td>\n",
       "      <td>0.000000</td>\n",
       "      <td>0.000000</td>\n",
       "      <td>0.000000</td>\n",
       "      <td>0.000000</td>\n",
       "      <td>0.000000</td>\n",
       "      <td>0.000000</td>\n",
       "      <td>0.000000</td>\n",
       "      <td>0.000000</td>\n",
       "      <td>0.000000</td>\n",
       "      <td>0.000000</td>\n",
       "      <td>0.000000</td>\n",
       "      <td>0.000000</td>\n",
       "      <td>0.000000</td>\n",
       "      <td>0.000000</td>\n",
       "      <td>0.000000</td>\n",
       "      <td>1.000000</td>\n",
       "      <td>0.000000</td>\n",
       "      <td>0.000000</td>\n",
       "      <td>0.000000</td>\n",
       "      <td>0.000000</td>\n",
       "      <td>0.250000</td>\n",
       "      <td>0.000000</td>\n",
       "      <td>0.000000</td>\n",
       "      <td>0.000000</td>\n",
       "    </tr>\n",
       "    <tr>\n",
       "      <th>50%</th>\n",
       "      <td>100.000000</td>\n",
       "      <td>0.000000</td>\n",
       "      <td>1.000000</td>\n",
       "      <td>1.000000</td>\n",
       "      <td>1.000000</td>\n",
       "      <td>1.000000</td>\n",
       "      <td>1.000000</td>\n",
       "      <td>2.000000</td>\n",
       "      <td>1.000000</td>\n",
       "      <td>1.000000</td>\n",
       "      <td>1.000000</td>\n",
       "      <td>105.000000</td>\n",
       "      <td>150.000000</td>\n",
       "      <td>50.000000</td>\n",
       "      <td>1.000000</td>\n",
       "      <td>10.000000</td>\n",
       "      <td>2.000000</td>\n",
       "      <td>6.000000e+02</td>\n",
       "      <td>2.000000</td>\n",
       "      <td>3.000000</td>\n",
       "      <td>5.000000e+02</td>\n",
       "      <td>5.365000e+02</td>\n",
       "      <td>2.000000</td>\n",
       "      <td>5.090000e+02</td>\n",
       "      <td>5.000000</td>\n",
       "      <td>15.000000</td>\n",
       "      <td>26.000000</td>\n",
       "      <td>76.000000</td>\n",
       "      <td>9.000000</td>\n",
       "      <td>4.000000</td>\n",
       "      <td>96.000000</td>\n",
       "      <td>10.000000</td>\n",
       "      <td>10.000000</td>\n",
       "      <td>10.000000</td>\n",
       "      <td>10.000000</td>\n",
       "      <td>10.000000</td>\n",
       "      <td>10.000000</td>\n",
       "      <td>0.000000</td>\n",
       "      <td>0.000000</td>\n",
       "      <td>0.000000</td>\n",
       "      <td>1.000000</td>\n",
       "      <td>1.000000</td>\n",
       "      <td>0.000000</td>\n",
       "      <td>0.000000</td>\n",
       "      <td>0.760000</td>\n",
       "      <td>5.000000</td>\n",
       "      <td>1000.000000</td>\n",
       "      <td>75.000000</td>\n",
       "      <td>2018.000000</td>\n",
       "      <td>5.000000</td>\n",
       "      <td>15.000000</td>\n",
       "      <td>2017.000000</td>\n",
       "      <td>7.000000</td>\n",
       "      <td>15.000000</td>\n",
       "      <td>8.00000</td>\n",
       "      <td>1481.000000</td>\n",
       "      <td>53.000000</td>\n",
       "      <td>20.000000</td>\n",
       "      <td>0.000000</td>\n",
       "      <td>0.000000</td>\n",
       "      <td>0.000000</td>\n",
       "      <td>0.000000</td>\n",
       "      <td>0.000000</td>\n",
       "      <td>0.000000</td>\n",
       "      <td>0.000000</td>\n",
       "      <td>0.000000</td>\n",
       "      <td>0.000000</td>\n",
       "      <td>0.000000</td>\n",
       "      <td>0.000000</td>\n",
       "      <td>0.000000</td>\n",
       "      <td>0.000000</td>\n",
       "      <td>0.000000</td>\n",
       "      <td>0.000000</td>\n",
       "      <td>0.000000</td>\n",
       "      <td>0.000000</td>\n",
       "      <td>0.000000</td>\n",
       "      <td>0.000000</td>\n",
       "      <td>1.000000</td>\n",
       "      <td>0.000000</td>\n",
       "      <td>0.000000</td>\n",
       "      <td>0.000000</td>\n",
       "      <td>0.129750</td>\n",
       "      <td>0.430000</td>\n",
       "      <td>0.000000</td>\n",
       "      <td>0.031250</td>\n",
       "      <td>0.159420</td>\n",
       "    </tr>\n",
       "    <tr>\n",
       "      <th>75%</th>\n",
       "      <td>100.000000</td>\n",
       "      <td>0.000000</td>\n",
       "      <td>2.000000</td>\n",
       "      <td>2.000000</td>\n",
       "      <td>1.000000</td>\n",
       "      <td>1.000000</td>\n",
       "      <td>1.000000</td>\n",
       "      <td>4.000000</td>\n",
       "      <td>1.000000</td>\n",
       "      <td>1.000000</td>\n",
       "      <td>2.000000</td>\n",
       "      <td>170.000000</td>\n",
       "      <td>200.000000</td>\n",
       "      <td>80.000000</td>\n",
       "      <td>2.000000</td>\n",
       "      <td>25.000000</td>\n",
       "      <td>4.000000</td>\n",
       "      <td>1.125000e+03</td>\n",
       "      <td>4.000000</td>\n",
       "      <td>4.000000</td>\n",
       "      <td>1.125000e+03</td>\n",
       "      <td>1.125000e+03</td>\n",
       "      <td>4.000000</td>\n",
       "      <td>1.125000e+03</td>\n",
       "      <td>24.000000</td>\n",
       "      <td>50.000000</td>\n",
       "      <td>74.000000</td>\n",
       "      <td>248.000000</td>\n",
       "      <td>33.000000</td>\n",
       "      <td>17.000000</td>\n",
       "      <td>100.000000</td>\n",
       "      <td>10.000000</td>\n",
       "      <td>10.000000</td>\n",
       "      <td>10.000000</td>\n",
       "      <td>10.000000</td>\n",
       "      <td>10.000000</td>\n",
       "      <td>10.000000</td>\n",
       "      <td>1.000000</td>\n",
       "      <td>0.000000</td>\n",
       "      <td>0.000000</td>\n",
       "      <td>2.000000</td>\n",
       "      <td>1.000000</td>\n",
       "      <td>1.000000</td>\n",
       "      <td>0.000000</td>\n",
       "      <td>2.000000</td>\n",
       "      <td>7.000000</td>\n",
       "      <td>1000.000000</td>\n",
       "      <td>262.000000</td>\n",
       "      <td>2019.000000</td>\n",
       "      <td>10.000000</td>\n",
       "      <td>24.000000</td>\n",
       "      <td>2018.000000</td>\n",
       "      <td>10.000000</td>\n",
       "      <td>23.000000</td>\n",
       "      <td>16.00000</td>\n",
       "      <td>2078.000000</td>\n",
       "      <td>298.000000</td>\n",
       "      <td>27.000000</td>\n",
       "      <td>1.000000</td>\n",
       "      <td>0.000000</td>\n",
       "      <td>0.000000</td>\n",
       "      <td>1.000000</td>\n",
       "      <td>1.000000</td>\n",
       "      <td>1.000000</td>\n",
       "      <td>0.000000</td>\n",
       "      <td>0.000000</td>\n",
       "      <td>0.000000</td>\n",
       "      <td>0.000000</td>\n",
       "      <td>0.000000</td>\n",
       "      <td>0.000000</td>\n",
       "      <td>0.000000</td>\n",
       "      <td>0.000000</td>\n",
       "      <td>1.000000</td>\n",
       "      <td>0.000000</td>\n",
       "      <td>0.000000</td>\n",
       "      <td>0.000000</td>\n",
       "      <td>0.000000</td>\n",
       "      <td>1.000000</td>\n",
       "      <td>1.000000</td>\n",
       "      <td>1.000000</td>\n",
       "      <td>0.014493</td>\n",
       "      <td>0.235941</td>\n",
       "      <td>0.600000</td>\n",
       "      <td>0.072581</td>\n",
       "      <td>0.105263</td>\n",
       "      <td>0.333333</td>\n",
       "    </tr>\n",
       "    <tr>\n",
       "      <th>max</th>\n",
       "      <td>100.000000</td>\n",
       "      <td>1.000000</td>\n",
       "      <td>1481.000000</td>\n",
       "      <td>1481.000000</td>\n",
       "      <td>1.000000</td>\n",
       "      <td>1.000000</td>\n",
       "      <td>1.000000</td>\n",
       "      <td>16.000000</td>\n",
       "      <td>15.500000</td>\n",
       "      <td>14.000000</td>\n",
       "      <td>40.000000</td>\n",
       "      <td>10000.000000</td>\n",
       "      <td>5100.000000</td>\n",
       "      <td>625.000000</td>\n",
       "      <td>16.000000</td>\n",
       "      <td>300.000000</td>\n",
       "      <td>1250.000000</td>\n",
       "      <td>2.147484e+09</td>\n",
       "      <td>1250.000000</td>\n",
       "      <td>3380.000000</td>\n",
       "      <td>2.147484e+09</td>\n",
       "      <td>2.147484e+09</td>\n",
       "      <td>1655.600000</td>\n",
       "      <td>2.147484e+09</td>\n",
       "      <td>30.000000</td>\n",
       "      <td>60.000000</td>\n",
       "      <td>90.000000</td>\n",
       "      <td>365.000000</td>\n",
       "      <td>583.000000</td>\n",
       "      <td>249.000000</td>\n",
       "      <td>100.000000</td>\n",
       "      <td>10.000000</td>\n",
       "      <td>10.000000</td>\n",
       "      <td>10.000000</td>\n",
       "      <td>10.000000</td>\n",
       "      <td>10.000000</td>\n",
       "      <td>10.000000</td>\n",
       "      <td>1.000000</td>\n",
       "      <td>1.000000</td>\n",
       "      <td>1.000000</td>\n",
       "      <td>185.000000</td>\n",
       "      <td>185.000000</td>\n",
       "      <td>81.000000</td>\n",
       "      <td>24.000000</td>\n",
       "      <td>19.910000</td>\n",
       "      <td>12.000000</td>\n",
       "      <td>1000.000000</td>\n",
       "      <td>25259.000000</td>\n",
       "      <td>2019.000000</td>\n",
       "      <td>12.000000</td>\n",
       "      <td>31.000000</td>\n",
       "      <td>2019.000000</td>\n",
       "      <td>12.000000</td>\n",
       "      <td>31.000000</td>\n",
       "      <td>30.00000</td>\n",
       "      <td>3811.000000</td>\n",
       "      <td>3009.000000</td>\n",
       "      <td>82.000000</td>\n",
       "      <td>1.000000</td>\n",
       "      <td>1.000000</td>\n",
       "      <td>1.000000</td>\n",
       "      <td>1.000000</td>\n",
       "      <td>1.000000</td>\n",
       "      <td>1.000000</td>\n",
       "      <td>1.000000</td>\n",
       "      <td>1.000000</td>\n",
       "      <td>1.000000</td>\n",
       "      <td>1.000000</td>\n",
       "      <td>1.000000</td>\n",
       "      <td>1.000000</td>\n",
       "      <td>1.000000</td>\n",
       "      <td>1.000000</td>\n",
       "      <td>1.000000</td>\n",
       "      <td>1.000000</td>\n",
       "      <td>1.000000</td>\n",
       "      <td>1.000000</td>\n",
       "      <td>1.000000</td>\n",
       "      <td>1.000000</td>\n",
       "      <td>1.000000</td>\n",
       "      <td>1.000000</td>\n",
       "      <td>1.000000</td>\n",
       "      <td>1.000000</td>\n",
       "      <td>1.000000</td>\n",
       "      <td>1.000000</td>\n",
       "      <td>1.000000</td>\n",
       "      <td>1.000000</td>\n",
       "    </tr>\n",
       "  </tbody>\n",
       "</table>\n",
       "</div>"
      ],
      "text/plain": [
       "       host_response_rate  host_is_superhost  host_listings_count  host_total_listings_count  host_has_profile_pic  host_identity_verified  is_location_exact  accommodates     bathrooms      bedrooms          beds         price  security_deposit  cleaning_fee  guests_included  extra_people  minimum_nights  maximum_nights  minimum_minimum_nights  maximum_minimum_nights  minimum_maximum_nights  maximum_maximum_nights  minimum_nights_avg_ntm  maximum_nights_avg_ntm  availability_30  availability_60  availability_90  availability_365  number_of_reviews  number_of_reviews_ltm  review_scores_rating  review_scores_accuracy  review_scores_cleanliness  review_scores_checkin  review_scores_communication  review_scores_location  review_scores_value  instant_bookable  require_guest_profile_picture  require_guest_phone_verification  calculated_host_listings_count  calculated_host_listings_count_entire_homes  calculated_host_listings_count_private_rooms  \\\n",
       "count        39926.000000       39926.000000         39926.000000               39926.000000          39926.000000            39926.000000       39926.000000  39926.000000  39926.000000  39926.000000  39926.000000  39926.000000      39926.000000  39926.000000     39926.000000  39926.000000    39926.000000    3.992600e+04            39926.000000            39926.000000            3.992600e+04            3.992600e+04            39926.000000            3.992600e+04     39926.000000     39926.000000     39926.000000      39926.000000       39926.000000           39926.000000          39926.000000            39926.000000               39926.000000           39926.000000                 39926.000000            39926.000000         39926.000000      39926.000000                   39926.000000                      39926.000000                    39926.000000                                 39926.000000                                  39926.000000   \n",
       "mean            96.315884           0.210590             5.662826                   5.662826              0.998422                0.528553           0.828608      2.950058      1.138306      1.184642      1.574463    142.387041        224.197390     61.030607         1.576992     15.795321        5.692331    5.544764e+04                5.527000                7.366002            5.544691e+04            5.544837e+04                6.357627            5.544767e+04        11.035390        23.616440        35.811251        125.589716          27.932124              11.737915             93.839754                9.615764                   9.284652               9.745354                     9.758679                9.539949             9.393478          0.374217                       0.027225                          0.029905                        3.487627                                     2.216926                                      1.162551   \n",
       "std             12.673573           0.407732            45.784125                  45.784125              0.039692                0.499190           0.376856      1.916729      0.422823      0.749081      1.124154    195.669190        379.084418     47.553397         1.184780     24.353929       16.410253    1.074829e+07               16.493872               63.251348            1.074829e+07            1.074829e+07               32.436964            1.074829e+07        12.138319        24.213627        35.910562        135.447406          44.842680              17.016837              8.365278                0.824400                   1.070536               0.703155                     0.695812                0.769516             0.895050          0.483926                       0.162742                          0.170328                       11.062764                                    10.661054                                      3.212004   \n",
       "min              0.000000           0.000000             0.000000                   0.000000              0.000000                0.000000           0.000000      1.000000      0.000000      0.000000      0.000000      0.000000          0.000000      0.000000         1.000000      0.000000        1.000000    1.000000e+00                1.000000                1.000000            1.000000e+00            1.000000e+00                1.000000            1.000000e+00         0.000000         0.000000         0.000000          0.000000           1.000000               0.000000             20.000000                2.000000                   2.000000               2.000000                     2.000000                2.000000             2.000000          0.000000                       0.000000                          0.000000                        1.000000                                     0.000000                                      0.000000   \n",
       "25%            100.000000           0.000000             1.000000                   1.000000              1.000000                0.000000           1.000000      2.000000      1.000000      1.000000      1.000000     69.000000        100.000000     30.000000         1.000000      0.000000        1.000000    2.900000e+01                1.000000                2.000000            2.900000e+01            2.900000e+01                1.300000            2.900000e+01         0.000000         0.000000         0.000000          0.000000           3.000000               1.000000             92.000000                9.000000                   9.000000              10.000000                    10.000000                9.000000             9.000000          0.000000                       0.000000                          0.000000                        1.000000                                     0.000000                                      0.000000   \n",
       "50%            100.000000           0.000000             1.000000                   1.000000              1.000000                1.000000           1.000000      2.000000      1.000000      1.000000      1.000000    105.000000        150.000000     50.000000         1.000000     10.000000        2.000000    6.000000e+02                2.000000                3.000000            5.000000e+02            5.365000e+02                2.000000            5.090000e+02         5.000000        15.000000        26.000000         76.000000           9.000000               4.000000             96.000000               10.000000                  10.000000              10.000000                    10.000000               10.000000            10.000000          0.000000                       0.000000                          0.000000                        1.000000                                     1.000000                                      0.000000   \n",
       "75%            100.000000           0.000000             2.000000                   2.000000              1.000000                1.000000           1.000000      4.000000      1.000000      1.000000      2.000000    170.000000        200.000000     80.000000         2.000000     25.000000        4.000000    1.125000e+03                4.000000                4.000000            1.125000e+03            1.125000e+03                4.000000            1.125000e+03        24.000000        50.000000        74.000000        248.000000          33.000000              17.000000            100.000000               10.000000                  10.000000              10.000000                    10.000000               10.000000            10.000000          1.000000                       0.000000                          0.000000                        2.000000                                     1.000000                                      1.000000   \n",
       "max            100.000000           1.000000          1481.000000                1481.000000              1.000000                1.000000           1.000000     16.000000     15.500000     14.000000     40.000000  10000.000000       5100.000000    625.000000        16.000000    300.000000     1250.000000    2.147484e+09             1250.000000             3380.000000            2.147484e+09            2.147484e+09             1655.600000            2.147484e+09        30.000000        60.000000        90.000000        365.000000         583.000000             249.000000            100.000000               10.000000                  10.000000              10.000000                    10.000000               10.000000            10.000000          1.000000                       1.000000                          1.000000                      185.000000                                   185.000000                                     81.000000   \n",
       "\n",
       "       calculated_host_listings_count_shared_rooms  reviews_per_month  host_verifications_count      desc_len  host_about_len  lreview_year  lreview_month   lreview_day  freview_year  freview_month   freview_day  ndays_between_f_l_reviews    ndays_host  ndays_last_review  num_amenities  host_response_time_na  host_response_time_within a day  host_response_time_within a few hours  host_response_time_within an hour  neighbourhood_group_cleansed_Brooklyn  neighbourhood_group_cleansed_Manhattan  neighbourhood_group_cleansed_Queens  neighbourhood_group_cleansed_Staten Island  property_type_Condominium  property_type_House  property_type_Loft  property_type_Other  property_type_Serviced apartment  property_type_Townhouse  room_type_Private room  room_type_Shared room  bed_type_Couch  bed_type_Futon  bed_type_Pull-out Sofa  bed_type_Real Bed  cancellation_policy_moderate  cancellation_policy_strict       topic_0       topic_1       topic_2       topic_3       topic_4       topic_5  \n",
       "count                                 39926.000000       39926.000000              39926.000000  39926.000000    39926.000000  39926.000000   39926.000000  39926.000000  39926.000000   39926.000000  39926.000000                39926.00000  39926.000000       39926.000000   39926.000000           39926.000000                     39926.000000                           39926.000000                       39926.000000                           39926.000000                            39926.000000                         39926.000000                                39926.000000               39926.000000         39926.000000        39926.000000         39926.000000                      39926.000000             39926.000000            39926.000000           39926.000000    39926.000000    39926.000000            39926.000000       39926.000000                  39926.000000                39926.000000  39926.000000  39926.000000  39926.000000  39926.000000  39926.000000  39926.000000  \n",
       "mean                                      0.108150           1.365680                  5.367555    801.059335      183.031032   2017.998222       5.644818     14.928543   2016.462856       7.057431     15.210114                    9.57852   1497.250739         242.526173      21.367530               0.415143                         0.088864                               0.120748                           0.359265                               0.417197                                0.442869                             0.112533                                    0.007263                   0.027877             0.078620            0.032134             0.020713                          0.010795                 0.035641                0.443070               0.021139        0.001453        0.007113                0.006061           0.981691                      0.259781                    0.491660      0.062247      0.164064      0.430393      0.055104      0.079159      0.209033  \n",
       "std                                       1.048827           1.604013                  1.890987    293.992287      315.045900      1.133062       4.536595     10.083192      1.715380       3.403918      9.271128                    8.24062    794.592570         364.709261       9.851711               0.492753                         0.284551                               0.325839                           0.479791                               0.493102                                0.496732                             0.316025                                    0.084917                   0.164621             0.269149            0.176359             0.142425                          0.103338                 0.185396                0.496755               0.143850        0.038087        0.084040                0.077618           0.134068                      0.438520                    0.499937      0.181705      0.191245      0.275933      0.115318      0.141098      0.234078  \n",
       "min                                       0.000000           0.010000                  0.000000      0.000000        0.000000   2010.000000       1.000000      1.000000   2009.000000       1.000000      1.000000                    0.00000      3.000000           0.000000       1.000000               0.000000                         0.000000                               0.000000                           0.000000                               0.000000                                0.000000                             0.000000                                    0.000000                   0.000000             0.000000            0.000000             0.000000                          0.000000                 0.000000                0.000000               0.000000        0.000000        0.000000                0.000000           0.000000                      0.000000                    0.000000      0.000000      0.000000      0.000000      0.000000      0.000000      0.000000  \n",
       "25%                                       0.000000           0.220000                  4.000000    587.250000        0.000000   2018.000000       1.000000      5.000000   2016.000000       5.000000      7.000000                    2.00000    928.000000          28.250000      14.000000               0.000000                         0.000000                               0.000000                           0.000000                               0.000000                                0.000000                             0.000000                                    0.000000                   0.000000             0.000000            0.000000             0.000000                          0.000000                 0.000000                0.000000               0.000000        0.000000        0.000000                0.000000           1.000000                      0.000000                    0.000000      0.000000      0.000000      0.250000      0.000000      0.000000      0.000000  \n",
       "50%                                       0.000000           0.760000                  5.000000   1000.000000       75.000000   2018.000000       5.000000     15.000000   2017.000000       7.000000     15.000000                    8.00000   1481.000000          53.000000      20.000000               0.000000                         0.000000                               0.000000                           0.000000                               0.000000                                0.000000                             0.000000                                    0.000000                   0.000000             0.000000            0.000000             0.000000                          0.000000                 0.000000                0.000000               0.000000        0.000000        0.000000                0.000000           1.000000                      0.000000                    0.000000      0.000000      0.129750      0.430000      0.000000      0.031250      0.159420  \n",
       "75%                                       0.000000           2.000000                  7.000000   1000.000000      262.000000   2019.000000      10.000000     24.000000   2018.000000      10.000000     23.000000                   16.00000   2078.000000         298.000000      27.000000               1.000000                         0.000000                               0.000000                           1.000000                               1.000000                                1.000000                             0.000000                                    0.000000                   0.000000             0.000000            0.000000             0.000000                          0.000000                 0.000000                1.000000               0.000000        0.000000        0.000000                0.000000           1.000000                      1.000000                    1.000000      0.014493      0.235941      0.600000      0.072581      0.105263      0.333333  \n",
       "max                                      24.000000          19.910000                 12.000000   1000.000000    25259.000000   2019.000000      12.000000     31.000000   2019.000000      12.000000     31.000000                   30.00000   3811.000000        3009.000000      82.000000               1.000000                         1.000000                               1.000000                           1.000000                               1.000000                                1.000000                             1.000000                                    1.000000                   1.000000             1.000000            1.000000             1.000000                          1.000000                 1.000000                1.000000               1.000000        1.000000        1.000000                1.000000           1.000000                      1.000000                    1.000000      1.000000      1.000000      1.000000      1.000000      1.000000      1.000000  "
      ]
     },
     "execution_count": 800,
     "metadata": {},
     "output_type": "execute_result"
    }
   ],
   "source": [
    "listings.describe()"
   ]
  },
  {
   "cell_type": "markdown",
   "metadata": {},
   "source": [
    "### Plot the dstribution"
   ]
  },
  {
   "cell_type": "markdown",
   "metadata": {},
   "source": [
    "Let's plot the percentile for price"
   ]
  },
  {
   "cell_type": "code",
   "execution_count": 801,
   "metadata": {},
   "outputs": [
    {
     "data": {
      "text/plain": [
       "<matplotlib.axes._subplots.AxesSubplot at 0x1b6f0990>"
      ]
     },
     "execution_count": 801,
     "metadata": {},
     "output_type": "execute_result"
    },
    {
     "data": {
      "image/png": "[encoded data removed]",
      "text/plain": [
       "<Figure size 1800x648 with 1 Axes>"
      ]
     },
     "metadata": {
      "needs_background": "light"
     },
     "output_type": "display_data"
    }
   ],
   "source": [
    "percentiles = list(range(0,101))\n",
    "price_percentile = {}\n",
    "for p in percentiles:\n",
    "    price_percentile[p] = np.percentile(listings['price'].values, p)\n",
    "\n",
    "price_percentile = pd.DataFrame.from_dict(price_percentile, orient='index')\n",
    "price_percentile.plot(kind='bar', figsize=(25,9), grid=True)"
   ]
  },
  {
   "cell_type": "code",
   "execution_count": 802,
   "metadata": {},
   "outputs": [
    {
     "data": {
      "text/plain": [
       "30.0"
      ]
     },
     "metadata": {},
     "output_type": "display_data"
    },
    {
     "data": {
      "text/plain": [
       "190.0"
      ]
     },
     "metadata": {},
     "output_type": "display_data"
    }
   ],
   "source": [
    "display(\n",
    "    price_percentile.iloc[PERCENTILE_CROP[0],:].values[0],\n",
    "    price_percentile.iloc[PERCENTILE_CROP[1],:].values[0]\n",
    ")"
   ]
  },
  {
   "cell_type": "markdown",
   "metadata": {},
   "source": [
    "Considering that beyond the 99th percentile (approx. 650 USD) the data shoots up, we can consider value above it as outliers.\n",
    "\n",
    "Similarly, we can remove everything below 1% percentile."
   ]
  },
  {
   "cell_type": "markdown",
   "metadata": {},
   "source": [
    "How many rows would we lose if we removed everything above 99 percentile?"
   ]
  },
  {
   "cell_type": "code",
   "execution_count": 803,
   "metadata": {},
   "outputs": [
    {
     "data": {
      "text/plain": [
       "count    31745.000000\n",
       "mean        97.527957\n",
       "std         41.901233\n",
       "min         30.000000\n",
       "25%         62.000000\n",
       "50%         90.000000\n",
       "75%        129.000000\n",
       "max        190.000000\n",
       "Name: price, dtype: float64"
      ]
     },
     "execution_count": 803,
     "metadata": {},
     "output_type": "execute_result"
    }
   ],
   "source": [
    "listings_filtered = listings[listings[\"price\"] <= price_percentile.iloc[PERCENTILE_CROP[1],:].values[0]]\n",
    "listings_filtered = listings_filtered[listings_filtered[\"price\"] >= price_percentile.iloc[PERCENTILE_CROP[0],:].values[0]]\n",
    "listings_filtered[\"price\"].describe()"
   ]
  },
  {
   "cell_type": "code",
   "execution_count": 804,
   "metadata": {},
   "outputs": [
    {
     "data": {
      "text/plain": [
       "20.490407253418823"
      ]
     },
     "execution_count": 804,
     "metadata": {},
     "output_type": "execute_result"
    }
   ],
   "source": [
    "100 * (listings.shape[0] - listings_filtered.shape[0]) / listings.shape[0]"
   ]
  },
  {
   "cell_type": "markdown",
   "metadata": {},
   "source": [
    "We lose less than 2% of rows upon dropping those outliers. Worth it."
   ]
  },
  {
   "cell_type": "code",
   "execution_count": 805,
   "metadata": {},
   "outputs": [
    {
     "data": {
      "text/plain": [
       "<matplotlib.axes._subplots.AxesSubplot at 0x1c0206f0>"
      ]
     },
     "execution_count": 805,
     "metadata": {},
     "output_type": "execute_result"
    },
    {
     "data": {
      "image/png": "[encoded data removed]",
      "text/plain": [
       "<Figure size 1800x648 with 1 Axes>"
      ]
     },
     "metadata": {
      "needs_background": "light"
     },
     "output_type": "display_data"
    }
   ],
   "source": [
    "percentiles = list(range(0,101))\n",
    "price_percentile = {}\n",
    "for p in percentiles:\n",
    "    price_percentile[p] = np.percentile(listings_filtered['price'].values, p)\n",
    "\n",
    "price_percentile = pd.DataFrame.from_dict(price_percentile, orient='index')\n",
    "price_percentile.plot(kind='bar', figsize=(25,9), grid=True)"
   ]
  },
  {
   "cell_type": "code",
   "execution_count": 806,
   "metadata": {},
   "outputs": [
    {
     "data": {
      "image/png": "[encoded data removed]",
      "text/plain": [
       "<Figure size 2160x648 with 1 Axes>"
      ]
     },
     "metadata": {
      "needs_background": "light"
     },
     "output_type": "display_data"
    }
   ],
   "source": [
    "f, ax = plt.subplots(1,1,figsize=(30,9))\n",
    "g = sns.distplot(listings_filtered[\"price\"], kde=False, ax=ax)"
   ]
  },
  {
   "cell_type": "markdown",
   "metadata": {},
   "source": [
    "## Rounding Prices "
   ]
  },
  {
   "cell_type": "markdown",
   "metadata": {},
   "source": [
    "For the sake of ease, what if we round the prices to the nearest multiple of 5?"
   ]
  },
  {
   "cell_type": "code",
   "execution_count": 807,
   "metadata": {},
   "outputs": [],
   "source": [
    "base = 5\n",
    "def roundto(row):\n",
    "    return int(base * round(float(row)/base))\n",
    "listings_filtered[\"price\"] = listings_filtered[\"price\"].apply(roundto)"
   ]
  },
  {
   "cell_type": "code",
   "execution_count": 808,
   "metadata": {},
   "outputs": [
    {
     "data": {
      "image/png": "[encoded data removed]",
      "text/plain": [
       "<Figure size 2160x648 with 1 Axes>"
      ]
     },
     "metadata": {
      "needs_background": "light"
     },
     "output_type": "display_data"
    }
   ],
   "source": [
    "f, ax = plt.subplots(1,1,figsize=(30,9))\n",
    "g = sns.countplot(x=\"price\", data=listings_filtered, ax=ax)\n",
    "t = g.set_xticklabels(g.get_xticklabels(), rotation=90)\n",
    "t = g.set_title(\"price distribution\")"
   ]
  },
  {
   "cell_type": "markdown",
   "metadata": {},
   "source": [
    "## Preprocessing"
   ]
  },
  {
   "cell_type": "code",
   "execution_count": 809,
   "metadata": {},
   "outputs": [],
   "source": [
    "ycol = [\"price\"]\n",
    "xcol = [i for i in listings_filtered.columns if i not in ycol]\n",
    "x = listings_filtered[xcol].values\n",
    "y = listings_filtered[ycol].values"
   ]
  },
  {
   "cell_type": "markdown",
   "metadata": {},
   "source": [
    "### 1. Standardisation"
   ]
  },
  {
   "cell_type": "code",
   "execution_count": 810,
   "metadata": {},
   "outputs": [],
   "source": [
    "standard_scaler = StandardScaler()\n",
    "x = standard_scaler.fit_transform(x)"
   ]
  },
  {
   "cell_type": "markdown",
   "metadata": {},
   "source": [
    "### 2. Train test split"
   ]
  },
  {
   "cell_type": "code",
   "execution_count": 811,
   "metadata": {},
   "outputs": [],
   "source": [
    "x_train, x_test, y_train, y_test = train_test_split(x, y, test_size=0.25, random_state=RANDOM_SEED)"
   ]
  },
  {
   "cell_type": "markdown",
   "metadata": {},
   "source": [
    "### 3. Transformation"
   ]
  },
  {
   "cell_type": "code",
   "execution_count": 812,
   "metadata": {},
   "outputs": [
    {
     "data": {
      "image/png": "[encoded data removed]",
      "text/plain": [
       "<Figure size 1440x360 with 2 Axes>"
      ]
     },
     "metadata": {
      "needs_background": "light"
     },
     "output_type": "display_data"
    }
   ],
   "source": [
    "pca_naive = PCA(n_components=None)\n",
    "pca_naive.fit(x_train)\n",
    "f, ax = plt.subplots(1,2,figsize=(20,5))\n",
    "plot_naive_variance(pca_naive, ax[0])\n",
    "num_pc = plot_pca_var_cum(pca_naive, ax=ax[1], cutoff=0.95)"
   ]
  },
  {
   "cell_type": "code",
   "execution_count": 813,
   "metadata": {},
   "outputs": [],
   "source": [
    "pca = PCA(n_components=num_pc)\n",
    "pca.fit(x_train)\n",
    "x_train_pca = pca.transform(x_train)\n",
    "x_test_pca = pca.transform(x_test)"
   ]
  },
  {
   "cell_type": "markdown",
   "metadata": {},
   "source": [
    "### Prediction"
   ]
  },
  {
   "cell_type": "code",
   "execution_count": 814,
   "metadata": {},
   "outputs": [],
   "source": [
    "rfr = RandomForestRegressor()\n",
    "rfr.fit(X=x_train_pca, y=y_train)\n",
    "y_pred_train = rfr.predict(X=x_train_pca)\n",
    "y_pred_test = rfr.predict(X=x_test_pca)"
   ]
  },
  {
   "cell_type": "code",
   "execution_count": 815,
   "metadata": {},
   "outputs": [
    {
     "name": "stdout",
     "output_type": "stream",
     "text": [
      "Train set RMSE: 12.90\n",
      "Test set RMSE: 30.25\n"
     ]
    }
   ],
   "source": [
    "mse_train = MSE(y_train, y_pred_train)\n",
    "mse_test = MSE(y_test, y_pred_test)\n",
    "\n",
    "rmse_train = mse_train**(1/2)\n",
    "rmse_test = mse_test**(1/2)\n",
    "\n",
    "print(\"Train set RMSE: {:.2f}\".format(rmse_train))\n",
    "print(\"Test set RMSE: {:.2f}\".format(rmse_test))"
   ]
  },
  {
   "cell_type": "code",
   "execution_count": 816,
   "metadata": {},
   "outputs": [
    {
     "data": {
      "image/png": "[encoded data removed]",
      "text/plain": [
       "<Figure size 2160x648 with 1 Axes>"
      ]
     },
     "metadata": {
      "needs_background": "light"
     },
     "output_type": "display_data"
    }
   ],
   "source": [
    "f, ax = plt.subplots(1,1, figsize=(30, 9))\n",
    "g = sns.pointplot(x=y_test.ravel(), y=y_pred_test.ravel(), ax=ax, color=\"red\")\n",
    "g = sns.pointplot(x=y_train.ravel(), y=y_pred_train.ravel(), ax=ax)\n",
    "\n",
    "t = g.set_xlabel(\"Price\")\n",
    "t = g.set_ylabel(\"Predicted price distribution\")\n",
    "t = g.set_xticklabels(g.get_xticklabels(), rotation=90)\n",
    "t = g.set_title(\"Normal\")"
   ]
  },
  {
   "cell_type": "code",
   "execution_count": 817,
   "metadata": {},
   "outputs": [],
   "source": [
    "rfr = RandomForestRegressor()\n",
    "rfr.fit(X=x_train, y=y_train)\n",
    "y_pred_train = rfr.predict(X=x_train)\n",
    "y_pred_test = rfr.predict(X=x_test)"
   ]
  },
  {
   "cell_type": "code",
   "execution_count": 818,
   "metadata": {},
   "outputs": [
    {
     "name": "stdout",
     "output_type": "stream",
     "text": [
      "Train set RMSE: 11.80\n",
      "Test set RMSE: 27.85\n"
     ]
    }
   ],
   "source": [
    "mse_train = MSE(y_train, y_pred_train)\n",
    "mse_test = MSE(y_test, y_pred_test)\n",
    "\n",
    "rmse_train = mse_train**(1/2)\n",
    "rmse_test = mse_test**(1/2)\n",
    "\n",
    "print(\"Train set RMSE: {:.2f}\".format(rmse_train))\n",
    "print(\"Test set RMSE: {:.2f}\".format(rmse_test))"
   ]
  },
  {
   "cell_type": "code",
   "execution_count": 819,
   "metadata": {},
   "outputs": [
    {
     "data": {
      "image/png": "[encoded data removed]",
      "text/plain": [
       "<Figure size 2160x648 with 1 Axes>"
      ]
     },
     "metadata": {
      "needs_background": "light"
     },
     "output_type": "display_data"
    }
   ],
   "source": [
    "f, ax = plt.subplots(1,1, figsize=(30, 9))\n",
    "g = sns.pointplot(x=y_test.ravel(), y=y_pred_test.ravel(), ax=ax, color=\"red\")\n",
    "g = sns.pointplot(x=y_train.ravel(), y=y_pred_train.ravel(), ax=ax)\n",
    "\n",
    "t = g.set_xlabel(\"Price\")\n",
    "t = g.set_ylabel(\"Predicted price distribution\")\n",
    "t = g.set_xticklabels(g.get_xticklabels(), rotation=90)\n",
    "t = g.set_title(\"Normal\")"
   ]
  },
  {
   "cell_type": "markdown",
   "metadata": {},
   "source": [
    "# Post Mortem analysis"
   ]
  },
  {
   "cell_type": "markdown",
   "metadata": {},
   "source": [
    "What causes values beyond 250$ to not perform well for the random forest?"
   ]
  },
  {
   "cell_type": "markdown",
   "metadata": {},
   "source": [
    "Let's get a count plot of all the bins we made"
   ]
  },
  {
   "cell_type": "code",
   "execution_count": 820,
   "metadata": {},
   "outputs": [
    {
     "data": {
      "image/png": "[encoded data removed]",
      "text/plain": [
       "<Figure size 2160x648 with 2 Axes>"
      ]
     },
     "metadata": {
      "needs_background": "light"
     },
     "output_type": "display_data"
    }
   ],
   "source": [
    "f, ax = plt.subplots(2, 1, figsize=(30,9), sharex=True)\n",
    "g = sns.countplot(x=y_test.ravel(), ax=ax[0])\n",
    "t = g.set_xticklabels(g.get_xticklabels(), rotation=90)\n",
    "t = g.set_title(\"Test data price distribution\")\n",
    "\n",
    "g = sns.countplot(x=y_train.ravel(), ax=ax[1])\n",
    "t = g.set_xticklabels(g.get_xticklabels(), rotation=90)\n",
    "t = g.set_title(\"Train data price distribution\")"
   ]
  },
  {
   "cell_type": "markdown",
   "metadata": {},
   "source": [
    "Can we compensate for the lack of data points to even out the price distributions everywhere?"
   ]
  },
  {
   "cell_type": "code",
   "execution_count": 821,
   "metadata": {},
   "outputs": [],
   "source": [
    "tmp = listings_filtered[\"price\"].value_counts().to_frame()\n",
    "tmp.reset_index(drop=False, inplace=True)\n",
    "tmp.columns = [\"price\", \"count\"]\n",
    "tmp.sort_values(by=\"price\", inplace=True)\n",
    "tmp.reset_index(drop=True, inplace=True)"
   ]
  },
  {
   "cell_type": "code",
   "execution_count": 822,
   "metadata": {},
   "outputs": [
    {
     "data": {
      "text/plain": [
       "867.0"
      ]
     },
     "execution_count": 822,
     "metadata": {},
     "output_type": "execute_result"
    }
   ],
   "source": [
    "tmp[\"count\"].median()"
   ]
  },
  {
   "cell_type": "code",
   "execution_count": 823,
   "metadata": {
    "scrolled": false
   },
   "outputs": [
    {
     "data": {
      "image/png": "[encoded data removed]",
      "text/plain": [
       "<Figure size 2160x648 with 1 Axes>"
      ]
     },
     "metadata": {
      "needs_background": "light"
     },
     "output_type": "display_data"
    }
   ],
   "source": [
    "f, ax = plt.subplots(1, 1, figsize=(30,9))\n",
    "plot_bar(x=\"price\", y=\"count\", data=tmp, ax=ax, xrot=90, legend=True, annot=False, plot_percentiles=[50, 75],\n",
    "        title=\"Price distributions\", xlabel=\"price\", ylabel=\"num_rows\")"
   ]
  },
  {
   "cell_type": "markdown",
   "metadata": {},
   "source": [
    "We may need to generate synthetic samples for the imbalanced bins, thereby ensuring the classifier does not get biased towards the lower values. "
   ]
  },
  {
   "cell_type": "markdown",
   "metadata": {},
   "source": [
    "------------------"
   ]
  },
  {
   "cell_type": "markdown",
   "metadata": {},
   "source": [
    "# Synthetic sample generation"
   ]
  },
  {
   "cell_type": "markdown",
   "metadata": {},
   "source": [
    "First we identify what we consider as an under-represented sample. Make a separate column that decides that (binary flag column)"
   ]
  },
  {
   "cell_type": "code",
   "execution_count": 824,
   "metadata": {},
   "outputs": [],
   "source": [
    "th = tmp[\"count\"].mean()\n",
    "\n",
    "def is_under_represented(row):\n",
    "    if row < th:\n",
    "        return 1\n",
    "    return 0\n",
    "tmp[\"flag_ur\"] = tmp[\"count\"].apply(is_under_represented)"
   ]
  },
  {
   "cell_type": "code",
   "execution_count": 825,
   "metadata": {
    "scrolled": true
   },
   "outputs": [
    {
     "data": {
      "image/png": "[encoded data removed]",
      "text/plain": [
       "<Figure size 2160x648 with 1 Axes>"
      ]
     },
     "metadata": {
      "needs_background": "light"
     },
     "output_type": "display_data"
    }
   ],
   "source": [
    "f, ax = plt.subplots(1, 1, figsize=(30,9))\n",
    "plot_bar(x=\"price\", y=\"count\", hue=\"flag_ur\", data=tmp, \n",
    "         ax=ax, highlight_max_min=False, annot=False, xrot=90)"
   ]
  },
  {
   "cell_type": "code",
   "execution_count": 826,
   "metadata": {},
   "outputs": [],
   "source": [
    "listings = pd.read_csv(data_path, index_col=\"id\")\n",
    "\n",
    "percentiles = list(range(0,101))\n",
    "price_percentile = {}\n",
    "for p in percentiles:\n",
    "    price_percentile[p] = np.percentile(listings['price'].values, p)\n",
    "\n",
    "price_percentile = pd.DataFrame.from_dict(price_percentile, orient='index')\n",
    "\n",
    "listings_filtered = listings[listings[\"price\"] <= price_percentile.iloc[PERCENTILE_CROP[1],:].values[0]]\n",
    "listings_filtered = listings_filtered[listings_filtered[\"price\"] >= price_percentile.iloc[PERCENTILE_CROP[0],:].values[0]]"
   ]
  },
  {
   "cell_type": "code",
   "execution_count": 827,
   "metadata": {},
   "outputs": [
    {
     "data": {
      "text/plain": [
       "30.0"
      ]
     },
     "metadata": {},
     "output_type": "display_data"
    },
    {
     "data": {
      "text/plain": [
       "190.0"
      ]
     },
     "metadata": {},
     "output_type": "display_data"
    }
   ],
   "source": [
    "display(\n",
    "    price_percentile.iloc[PERCENTILE_CROP[0],:].values[0],\n",
    "    price_percentile.iloc[PERCENTILE_CROP[1],:].values[0]\n",
    ")"
   ]
  },
  {
   "cell_type": "markdown",
   "metadata": {},
   "source": [
    "### 1. Train test split"
   ]
  },
  {
   "cell_type": "code",
   "execution_count": 828,
   "metadata": {},
   "outputs": [],
   "source": [
    "# x_train, x_test, y_train, y_test = train_test_split(x, y, test_size=0.25, random_state=RANDOM_SEED)\n",
    "train, test = train_test_split(listings_filtered, test_size=0.2)"
   ]
  },
  {
   "cell_type": "markdown",
   "metadata": {},
   "source": [
    "### 2. Oversampling using SMOTE"
   ]
  },
  {
   "cell_type": "code",
   "execution_count": 829,
   "metadata": {},
   "outputs": [],
   "source": [
    "# def check_rep(row):\n",
    "#     if (row <= 200) | (row==250) | (row==350) | (row==450) | (row==550) :\n",
    "#         return 0\n",
    "#     elif (row > 200) & (row < 300) & (row != 250):\n",
    "#         return 1 \n",
    "#     elif (row > 300) & (row < 400) & (row != 350):\n",
    "#         return 2 \n",
    "#     elif (row > 400) & (row < 500) & (row != 450):\n",
    "#         return 3 \n",
    "#     else:\n",
    "#         return 4 \n",
    "    \n",
    "def check_rep(row):\n",
    "    if row%50 == 0:\n",
    "        return 0\n",
    "    elif row <= 250:\n",
    "        return 0\n",
    "    else:\n",
    "        return 1\n",
    "\n",
    "train[\"flag_ur\"] = train[\"price\"].apply(check_rep)"
   ]
  },
  {
   "cell_type": "code",
   "execution_count": 830,
   "metadata": {},
   "outputs": [
    {
     "data": {
      "text/plain": [
       "0    25396\n",
       "Name: flag_ur, dtype: int64"
      ]
     },
     "execution_count": 830,
     "metadata": {},
     "output_type": "execute_result"
    }
   ],
   "source": [
    "vcs = train[\"flag_ur\"].value_counts()\n",
    "vcs"
   ]
  },
  {
   "cell_type": "code",
   "execution_count": 831,
   "metadata": {},
   "outputs": [
    {
     "ename": "KeyError",
     "evalue": "1",
     "output_type": "error",
     "traceback": [
      "\u001b[1;31m---------------------------------------------------------------------------\u001b[0m",
      "\u001b[1;31mKeyError\u001b[0m                                  Traceback (most recent call last)",
      "\u001b[1;32m<ipython-input-831-6a4a0d6bedb4>\u001b[0m in \u001b[0;36m<module>\u001b[1;34m\u001b[0m\n\u001b[0;32m      6\u001b[0m \u001b[1;33m\u001b[0m\u001b[0m\n\u001b[0;32m      7\u001b[0m smote_sampling_strategy = {\n\u001b[1;32m----> 8\u001b[1;33m     \u001b[1;36m1\u001b[0m\u001b[1;33m:\u001b[0m \u001b[0mint\u001b[0m\u001b[1;33m(\u001b[0m\u001b[0mvcs\u001b[0m\u001b[1;33m[\u001b[0m\u001b[1;36m1\u001b[0m\u001b[1;33m]\u001b[0m\u001b[1;33m*\u001b[0m\u001b[1;36m4\u001b[0m\u001b[1;33m)\u001b[0m\u001b[1;33m\u001b[0m\u001b[1;33m\u001b[0m\u001b[0m\n\u001b[0m\u001b[0;32m      9\u001b[0m \u001b[1;31m#     ,2: int(vcs[1]*2)\u001b[0m\u001b[1;33m\u001b[0m\u001b[1;33m\u001b[0m\u001b[1;33m\u001b[0m\u001b[0m\n\u001b[0;32m     10\u001b[0m \u001b[1;31m#     ,3: int(vcs[1]*2)\u001b[0m\u001b[1;33m\u001b[0m\u001b[1;33m\u001b[0m\u001b[1;33m\u001b[0m\u001b[0m\n",
      "\u001b[1;32mc:\\users\\sriharis\\appdata\\local\\programs\\python\\python37-32\\lib\\site-packages\\pandas\\core\\series.py\u001b[0m in \u001b[0;36m__getitem__\u001b[1;34m(self, key)\u001b[0m\n\u001b[0;32m    866\u001b[0m         \u001b[0mkey\u001b[0m \u001b[1;33m=\u001b[0m \u001b[0mcom\u001b[0m\u001b[1;33m.\u001b[0m\u001b[0mapply_if_callable\u001b[0m\u001b[1;33m(\u001b[0m\u001b[0mkey\u001b[0m\u001b[1;33m,\u001b[0m \u001b[0mself\u001b[0m\u001b[1;33m)\u001b[0m\u001b[1;33m\u001b[0m\u001b[1;33m\u001b[0m\u001b[0m\n\u001b[0;32m    867\u001b[0m         \u001b[1;32mtry\u001b[0m\u001b[1;33m:\u001b[0m\u001b[1;33m\u001b[0m\u001b[1;33m\u001b[0m\u001b[0m\n\u001b[1;32m--> 868\u001b[1;33m             \u001b[0mresult\u001b[0m \u001b[1;33m=\u001b[0m \u001b[0mself\u001b[0m\u001b[1;33m.\u001b[0m\u001b[0mindex\u001b[0m\u001b[1;33m.\u001b[0m\u001b[0mget_value\u001b[0m\u001b[1;33m(\u001b[0m\u001b[0mself\u001b[0m\u001b[1;33m,\u001b[0m \u001b[0mkey\u001b[0m\u001b[1;33m)\u001b[0m\u001b[1;33m\u001b[0m\u001b[1;33m\u001b[0m\u001b[0m\n\u001b[0m\u001b[0;32m    869\u001b[0m \u001b[1;33m\u001b[0m\u001b[0m\n\u001b[0;32m    870\u001b[0m             \u001b[1;32mif\u001b[0m \u001b[1;32mnot\u001b[0m \u001b[0mis_scalar\u001b[0m\u001b[1;33m(\u001b[0m\u001b[0mresult\u001b[0m\u001b[1;33m)\u001b[0m\u001b[1;33m:\u001b[0m\u001b[1;33m\u001b[0m\u001b[1;33m\u001b[0m\u001b[0m\n",
      "\u001b[1;32mc:\\users\\sriharis\\appdata\\local\\programs\\python\\python37-32\\lib\\site-packages\\pandas\\core\\indexes\\base.py\u001b[0m in \u001b[0;36mget_value\u001b[1;34m(self, series, key)\u001b[0m\n\u001b[0;32m   4372\u001b[0m         \u001b[1;32mtry\u001b[0m\u001b[1;33m:\u001b[0m\u001b[1;33m\u001b[0m\u001b[1;33m\u001b[0m\u001b[0m\n\u001b[0;32m   4373\u001b[0m             return self._engine.get_value(s, k,\n\u001b[1;32m-> 4374\u001b[1;33m                                           tz=getattr(series.dtype, 'tz', None))\n\u001b[0m\u001b[0;32m   4375\u001b[0m         \u001b[1;32mexcept\u001b[0m \u001b[0mKeyError\u001b[0m \u001b[1;32mas\u001b[0m \u001b[0me1\u001b[0m\u001b[1;33m:\u001b[0m\u001b[1;33m\u001b[0m\u001b[1;33m\u001b[0m\u001b[0m\n\u001b[0;32m   4376\u001b[0m             \u001b[1;32mif\u001b[0m \u001b[0mlen\u001b[0m\u001b[1;33m(\u001b[0m\u001b[0mself\u001b[0m\u001b[1;33m)\u001b[0m \u001b[1;33m>\u001b[0m \u001b[1;36m0\u001b[0m \u001b[1;32mand\u001b[0m \u001b[1;33m(\u001b[0m\u001b[0mself\u001b[0m\u001b[1;33m.\u001b[0m\u001b[0mholds_integer\u001b[0m\u001b[1;33m(\u001b[0m\u001b[1;33m)\u001b[0m \u001b[1;32mor\u001b[0m \u001b[0mself\u001b[0m\u001b[1;33m.\u001b[0m\u001b[0mis_boolean\u001b[0m\u001b[1;33m(\u001b[0m\u001b[1;33m)\u001b[0m\u001b[1;33m)\u001b[0m\u001b[1;33m:\u001b[0m\u001b[1;33m\u001b[0m\u001b[1;33m\u001b[0m\u001b[0m\n",
      "\u001b[1;32mpandas\\_libs\\index.pyx\u001b[0m in \u001b[0;36mpandas._libs.index.IndexEngine.get_value\u001b[1;34m()\u001b[0m\n",
      "\u001b[1;32mpandas\\_libs\\index.pyx\u001b[0m in \u001b[0;36mpandas._libs.index.IndexEngine.get_value\u001b[1;34m()\u001b[0m\n",
      "\u001b[1;32mpandas\\_libs\\index.pyx\u001b[0m in \u001b[0;36mpandas._libs.index.IndexEngine.get_loc\u001b[1;34m()\u001b[0m\n",
      "\u001b[1;32mpandas\\_libs\\hashtable_class_helper.pxi\u001b[0m in \u001b[0;36mpandas._libs.hashtable.Int64HashTable.get_item\u001b[1;34m()\u001b[0m\n",
      "\u001b[1;32mpandas\\_libs\\hashtable_class_helper.pxi\u001b[0m in \u001b[0;36mpandas._libs.hashtable.Int64HashTable.get_item\u001b[1;34m()\u001b[0m\n",
      "\u001b[1;31mKeyError\u001b[0m: 1"
     ]
    }
   ],
   "source": [
    "ycol = [\"flag_ur\"]\n",
    "xcol = [i for i in train.columns if i not in ycol]\n",
    "\n",
    "x = train[xcol].values\n",
    "y = train[ycol].values\n",
    "\n",
    "smote_sampling_strategy = {\n",
    "    1: int(vcs[1]*4)\n",
    "    ,2: int(vcs[1]*2)\n",
    "    ,3: int(vcs[1]*2)\n",
    "    ,4: int(vcs[1]*2)\n",
    "}\n",
    "sm = SMOTE(random_state=RANDOM_SEED, sampling_strategy=smote_sampling_strategy, n_jobs=-1)\n",
    "\n",
    "x_new, y_new = sm.fit_sample(x, y)\n",
    "\n",
    "# x_train_rare, x_test_rare, y_train_rare, y_test_rare = train_test_split(x, y, test_size=0.25, random_state=RANDOM_SEED)\n",
    "# x_new, y_new = sm.fit_sample(x_train_rare, y_train_rare)"
   ]
  },
  {
   "cell_type": "code",
   "execution_count": null,
   "metadata": {},
   "outputs": [],
   "source": [
    "# Drop the flag column\n",
    "train.drop(labels=[\"flag_ur\"], axis=1, inplace=True)"
   ]
  },
  {
   "cell_type": "code",
   "execution_count": null,
   "metadata": {},
   "outputs": [],
   "source": [
    "# Get the index of the price columns\n",
    "def get_index(vallist, val):\n",
    "    return vallist.index(val)\n",
    "\n",
    "price_index = get_index(list(train.columns), \"price\")"
   ]
  },
  {
   "cell_type": "code",
   "execution_count": null,
   "metadata": {},
   "outputs": [],
   "source": [
    "y = x_new[:, price_index]\n",
    "x_train = np.delete(x_new, price_index, axis=1)"
   ]
  },
  {
   "cell_type": "code",
   "execution_count": null,
   "metadata": {},
   "outputs": [],
   "source": [
    "y_new = []\n",
    "for elem in y:\n",
    "    y_new.append(roundto(elem))\n",
    "\n",
    "y_train = y_new"
   ]
  },
  {
   "cell_type": "code",
   "execution_count": null,
   "metadata": {},
   "outputs": [],
   "source": [
    "display(\n",
    "x_train.shape,\n",
    "train.shape,\n",
    "len(y_train)\n",
    ")"
   ]
  },
  {
   "cell_type": "code",
   "execution_count": null,
   "metadata": {},
   "outputs": [],
   "source": [
    "f, ax = plt.subplots(1, 2, figsize=(30, 9), sharey=True)\n",
    "g1 = sns.distplot(train[\"price\"], ax=ax[0], kde=False)\n",
    "t = g1.set_title(\"Original price distribution\")\n",
    "\n",
    "g2 = sns.distplot(y, ax=ax[1], kde=False)\n",
    "t = g2.set_title(\"SMOTE price distribution\")\n"
   ]
  },
  {
   "cell_type": "markdown",
   "metadata": {},
   "source": [
    "### 3. Standardisation"
   ]
  },
  {
   "cell_type": "code",
   "execution_count": null,
   "metadata": {},
   "outputs": [],
   "source": [
    "standard_scaler = StandardScaler()\n",
    "x_train = standard_scaler.fit_transform(x_train)"
   ]
  },
  {
   "cell_type": "code",
   "execution_count": null,
   "metadata": {},
   "outputs": [],
   "source": [
    "# Get the index of the price columns\n",
    "def get_index(vallist, val):\n",
    "    return vallist.index(val)\n",
    "\n",
    "price_index = get_index(list(test.columns), \"price\")\n",
    "\n",
    "x_tmp = test.values\n",
    "y_test = x_tmp[:, price_index]\n",
    "x_test = np.delete(x_tmp, price_index, axis=1)\n",
    "\n",
    "y_tmp = []\n",
    "for elem in y_test:\n",
    "    y_tmp.append(roundto(elem))\n",
    "\n",
    "y_test = y_tmp\n",
    "\n",
    "x_test = standard_scaler.transform(x_test)\n",
    "\n",
    "display(\n",
    "    train.shape,\n",
    "    x_train.shape,\n",
    "    len(y_train),\n",
    "    test.shape,\n",
    "    x_test.shape,\n",
    "    len(y_test)\n",
    ")"
   ]
  },
  {
   "cell_type": "markdown",
   "metadata": {},
   "source": [
    "### 4. Transformation"
   ]
  },
  {
   "cell_type": "code",
   "execution_count": null,
   "metadata": {},
   "outputs": [],
   "source": [
    "pca_naive = PCA(n_components=None)\n",
    "pca_naive.fit(x_train)\n",
    "f, ax = plt.subplots(1,2,figsize=(20,5))\n",
    "plot_naive_variance(pca_naive, ax[0])\n",
    "num_pc = plot_pca_var_cum(pca_naive, ax=ax[1], cutoff=0.95)"
   ]
  },
  {
   "cell_type": "code",
   "execution_count": null,
   "metadata": {},
   "outputs": [],
   "source": [
    "pca = PCA(n_components=num_pc)\n",
    "pca.fit(x_train)\n",
    "x_train_pca = pca.transform(x_train)\n",
    "x_test_pca = pca.transform(x_test)"
   ]
  },
  {
   "cell_type": "markdown",
   "metadata": {},
   "source": [
    "### Prediction"
   ]
  },
  {
   "cell_type": "code",
   "execution_count": null,
   "metadata": {},
   "outputs": [],
   "source": [
    "rfr = RandomForestRegressor()\n",
    "rfr.fit(X=x_train_pca, y=y_train)\n",
    "y_pred_train = rfr.predict(X=x_train_pca)\n",
    "y_pred_test = rfr.predict(X=x_test_pca)"
   ]
  },
  {
   "cell_type": "code",
   "execution_count": null,
   "metadata": {},
   "outputs": [],
   "source": [
    "mse_train = MSE(y_train, y_pred_train)\n",
    "mse_test = MSE(y_test, y_pred_test)\n",
    "\n",
    "rmse_train = mse_train**(1/2)\n",
    "rmse_test = mse_test**(1/2)\n",
    "\n",
    "print(\"Train set RMSE: {:.2f}\".format(rmse_train))\n",
    "print(\"Test set RMSE: {:.2f}\".format(rmse_test))"
   ]
  },
  {
   "cell_type": "code",
   "execution_count": null,
   "metadata": {},
   "outputs": [],
   "source": [
    "f, ax = plt.subplots(1,1, figsize=(30, 9))\n",
    "g = sns.pointplot(x=y_test, y=y_pred_test, ax=ax, color=\"red\")\n",
    "g = sns.pointplot(x=y_train, y=y_pred_train, ax=ax)\n",
    "\n",
    "t = g.set_xlabel(\"Price\")\n",
    "t = g.set_ylabel(\"Predicted price distribution\")\n",
    "t = g.set_xticklabels(g.get_xticklabels(), rotation=90)\n",
    "t = g.set_title(\"PCA\")"
   ]
  },
  {
   "cell_type": "code",
   "execution_count": null,
   "metadata": {},
   "outputs": [],
   "source": [
    "rfr = RandomForestRegressor()\n",
    "rfr.fit(X=x_train, y=y_train)\n",
    "y_pred_train = rfr.predict(X=x_train)\n",
    "y_pred_test = rfr.predict(X=x_test)"
   ]
  },
  {
   "cell_type": "code",
   "execution_count": null,
   "metadata": {},
   "outputs": [],
   "source": [
    "mse_train = MSE(y_train, y_pred_train)\n",
    "mse_test = MSE(y_test, y_pred_test)\n",
    "\n",
    "rmse_train = mse_train**(1/2)\n",
    "rmse_test = mse_test**(1/2)\n",
    "\n",
    "print(\"Train set RMSE: {:.2f}\".format(rmse_train))\n",
    "print(\"Test set RMSE: {:.2f}\".format(rmse_test))"
   ]
  },
  {
   "cell_type": "code",
   "execution_count": null,
   "metadata": {},
   "outputs": [],
   "source": [
    "f, ax = plt.subplots(1,1, figsize=(30, 9))\n",
    "g = sns.pointplot(x=y_test, y=y_pred_test, ax=ax, color=\"red\")\n",
    "g = sns.pointplot(x=y_train, y=y_pred_train, ax=ax)\n",
    "\n",
    "t = g.set_xlabel(\"Price\")\n",
    "t = g.set_ylabel(\"Predicted price distribution\")\n",
    "t = g.set_xticklabels(g.get_xticklabels(), rotation=90)\n",
    "t = g.set_title(\"Normal\")"
   ]
  },
  {
   "cell_type": "markdown",
   "metadata": {},
   "source": [
    "# Post Mortem analysis"
   ]
  },
  {
   "cell_type": "markdown",
   "metadata": {},
   "source": [
    "What causes values beyond 250$ to not perform well for the random forest?"
   ]
  },
  {
   "cell_type": "markdown",
   "metadata": {},
   "source": [
    "Let's get a count plot of all the bins we made"
   ]
  },
  {
   "cell_type": "code",
   "execution_count": null,
   "metadata": {},
   "outputs": [],
   "source": [
    "f, ax = plt.subplots(2, 1, figsize=(30,9), sharex=True)\n",
    "\n",
    "g = sns.countplot(x=y_train, ax=ax[0])\n",
    "t = g.set_xticklabels(g.get_xticklabels(), rotation=90)\n",
    "t = g.set_title(\"Train data price distribution\")\n",
    "\n",
    "g = sns.countplot(x=y_test, ax=ax[1])\n",
    "t = g.set_xticklabels(g.get_xticklabels(), rotation=90)\n",
    "t = g.set_title(\"Test data price distribution\")\n"
   ]
  },
  {
   "cell_type": "code",
   "execution_count": null,
   "metadata": {},
   "outputs": [],
   "source": []
  }
 ],
 "metadata": {
  "kernelspec": {
   "display_name": "Python 3",
   "language": "python",
   "name": "python3"
  },
  "language_info": {
   "codemirror_mode": {
    "name": "ipython",
    "version": 3
   },
   "file_extension": ".py",
   "mimetype": "text/x-python",
   "name": "python",
   "nbconvert_exporter": "python",
   "pygments_lexer": "ipython3",
   "version": "3.7.2"
  }
 },
 "nbformat": 4,
 "nbformat_minor": 2
}
