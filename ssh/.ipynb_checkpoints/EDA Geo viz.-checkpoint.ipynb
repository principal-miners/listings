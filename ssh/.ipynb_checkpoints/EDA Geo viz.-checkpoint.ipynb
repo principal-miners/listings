{
 "cells": [
  {
   "cell_type": "code",
   "execution_count": 1,
   "metadata": {},
   "outputs": [
    {
     "data": {
      "text/html": [
       "<style>.container { width:90% !important; }</style>"
      ],
      "text/plain": [
       "<IPython.core.display.HTML object>"
      ]
     },
     "metadata": {},
     "output_type": "display_data"
    }
   ],
   "source": [
    "# Put these at the top of every notebook, to get automatic reloading and inline plotting\n",
    "from IPython.core.display import display, HTML\n",
    "import pandas as pd\n",
    "import warnings\n",
    "warnings.filterwarnings('ignore')\n",
    "\n",
    "%reload_ext autoreload\n",
    "%autoreload 1\n",
    "%matplotlib inline\n",
    "\n",
    "pd.set_option('display.max_rows', 500)\n",
    "pd.set_option('display.max_columns', 500)\n",
    "pd.set_option('display.width', 1000)\n",
    "\n",
    "display(HTML(\"<style>.container { width:90% !important; }</style>\"))"
   ]
  },
  {
   "cell_type": "code",
   "execution_count": 2,
   "metadata": {},
   "outputs": [],
   "source": [
    "import os\n",
    "import seaborn as sns\n",
    "import pandas as pd\n",
    "import math\n",
    "\n",
    "from Utils.UtilsGeoViz import *\n",
    "from Utils.UtilsViz import *\n",
    "from Utils.DataUtils import *"
   ]
  },
  {
   "cell_type": "code",
   "execution_count": 3,
   "metadata": {},
   "outputs": [],
   "source": [
    "US_coord = [37.0902, -102]\n",
    "NY_COORD = [40.7128, -74.0060]\n",
    "# data_path = os.path.join(os.getcwd(), \"Data\")\n",
    "ny_datapath = \"C:\\\\Users\\\\sriharis\\\\OneDrive\\\\UChicago\\\\DataMining\\\\project\\\\NYData\\\\\"\n",
    "ny_datapath = \"C:\\\\Users\\\\SSrih\\\\OneDrive\\\\UChicago\\\\DataMining\\\\project\\\\NYData\\\\\""
   ]
  },
  {
   "cell_type": "code",
   "execution_count": 4,
   "metadata": {
    "scrolled": true
   },
   "outputs": [
    {
     "ename": "FileNotFoundError",
     "evalue": "File b'C:\\\\Users\\\\sriharis\\\\OneDrive\\\\UChicago\\\\DataMining\\\\project\\\\NYData\\\\listings.csv' does not exist",
     "output_type": "error",
     "traceback": [
      "\u001b[0;31m---------------------------------------------------------------------------\u001b[0m",
      "\u001b[0;31mFileNotFoundError\u001b[0m                         Traceback (most recent call last)",
      "\u001b[0;32m<ipython-input-4-f93d9fbce127>\u001b[0m in \u001b[0;36m<module>\u001b[0;34m()\u001b[0m\n\u001b[0;32m----> 1\u001b[0;31m \u001b[0mlistings\u001b[0m \u001b[0;34m=\u001b[0m \u001b[0mpd\u001b[0m\u001b[0;34m.\u001b[0m\u001b[0mread_csv\u001b[0m\u001b[0;34m(\u001b[0m\u001b[0mos\u001b[0m\u001b[0;34m.\u001b[0m\u001b[0mpath\u001b[0m\u001b[0;34m.\u001b[0m\u001b[0mjoin\u001b[0m\u001b[0;34m(\u001b[0m\u001b[0mny_datapath\u001b[0m\u001b[0;34m,\u001b[0m \u001b[0;34m\"listings.csv\"\u001b[0m\u001b[0;34m)\u001b[0m\u001b[0;34m)\u001b[0m\u001b[0;34m\u001b[0m\u001b[0;34m\u001b[0m\u001b[0m\n\u001b[0m",
      "\u001b[0;32md:\\softwares\\python36\\lib\\site-packages\\pandas\\io\\parsers.py\u001b[0m in \u001b[0;36mparser_f\u001b[0;34m(filepath_or_buffer, sep, delimiter, header, names, index_col, usecols, squeeze, prefix, mangle_dupe_cols, dtype, engine, converters, true_values, false_values, skipinitialspace, skiprows, nrows, na_values, keep_default_na, na_filter, verbose, skip_blank_lines, parse_dates, infer_datetime_format, keep_date_col, date_parser, dayfirst, iterator, chunksize, compression, thousands, decimal, lineterminator, quotechar, quoting, escapechar, comment, encoding, dialect, tupleize_cols, error_bad_lines, warn_bad_lines, skipfooter, skip_footer, doublequote, delim_whitespace, as_recarray, compact_ints, use_unsigned, low_memory, buffer_lines, memory_map, float_precision)\u001b[0m\n\u001b[1;32m    707\u001b[0m                     skip_blank_lines=skip_blank_lines)\n\u001b[1;32m    708\u001b[0m \u001b[0;34m\u001b[0m\u001b[0m\n\u001b[0;32m--> 709\u001b[0;31m         \u001b[0;32mreturn\u001b[0m \u001b[0m_read\u001b[0m\u001b[0;34m(\u001b[0m\u001b[0mfilepath_or_buffer\u001b[0m\u001b[0;34m,\u001b[0m \u001b[0mkwds\u001b[0m\u001b[0;34m)\u001b[0m\u001b[0;34m\u001b[0m\u001b[0;34m\u001b[0m\u001b[0m\n\u001b[0m\u001b[1;32m    710\u001b[0m \u001b[0;34m\u001b[0m\u001b[0m\n\u001b[1;32m    711\u001b[0m     \u001b[0mparser_f\u001b[0m\u001b[0;34m.\u001b[0m\u001b[0m__name__\u001b[0m \u001b[0;34m=\u001b[0m \u001b[0mname\u001b[0m\u001b[0;34m\u001b[0m\u001b[0;34m\u001b[0m\u001b[0m\n",
      "\u001b[0;32md:\\softwares\\python36\\lib\\site-packages\\pandas\\io\\parsers.py\u001b[0m in \u001b[0;36m_read\u001b[0;34m(filepath_or_buffer, kwds)\u001b[0m\n\u001b[1;32m    447\u001b[0m \u001b[0;34m\u001b[0m\u001b[0m\n\u001b[1;32m    448\u001b[0m     \u001b[0;31m# Create the parser.\u001b[0m\u001b[0;34m\u001b[0m\u001b[0;34m\u001b[0m\u001b[0;34m\u001b[0m\u001b[0m\n\u001b[0;32m--> 449\u001b[0;31m     \u001b[0mparser\u001b[0m \u001b[0;34m=\u001b[0m \u001b[0mTextFileReader\u001b[0m\u001b[0;34m(\u001b[0m\u001b[0mfilepath_or_buffer\u001b[0m\u001b[0;34m,\u001b[0m \u001b[0;34m**\u001b[0m\u001b[0mkwds\u001b[0m\u001b[0;34m)\u001b[0m\u001b[0;34m\u001b[0m\u001b[0;34m\u001b[0m\u001b[0m\n\u001b[0m\u001b[1;32m    450\u001b[0m \u001b[0;34m\u001b[0m\u001b[0m\n\u001b[1;32m    451\u001b[0m     \u001b[0;32mif\u001b[0m \u001b[0mchunksize\u001b[0m \u001b[0;32mor\u001b[0m \u001b[0miterator\u001b[0m\u001b[0;34m:\u001b[0m\u001b[0;34m\u001b[0m\u001b[0;34m\u001b[0m\u001b[0m\n",
      "\u001b[0;32md:\\softwares\\python36\\lib\\site-packages\\pandas\\io\\parsers.py\u001b[0m in \u001b[0;36m__init__\u001b[0;34m(self, f, engine, **kwds)\u001b[0m\n\u001b[1;32m    816\u001b[0m             \u001b[0mself\u001b[0m\u001b[0;34m.\u001b[0m\u001b[0moptions\u001b[0m\u001b[0;34m[\u001b[0m\u001b[0;34m'has_index_names'\u001b[0m\u001b[0;34m]\u001b[0m \u001b[0;34m=\u001b[0m \u001b[0mkwds\u001b[0m\u001b[0;34m[\u001b[0m\u001b[0;34m'has_index_names'\u001b[0m\u001b[0;34m]\u001b[0m\u001b[0;34m\u001b[0m\u001b[0;34m\u001b[0m\u001b[0m\n\u001b[1;32m    817\u001b[0m \u001b[0;34m\u001b[0m\u001b[0m\n\u001b[0;32m--> 818\u001b[0;31m         \u001b[0mself\u001b[0m\u001b[0;34m.\u001b[0m\u001b[0m_make_engine\u001b[0m\u001b[0;34m(\u001b[0m\u001b[0mself\u001b[0m\u001b[0;34m.\u001b[0m\u001b[0mengine\u001b[0m\u001b[0;34m)\u001b[0m\u001b[0;34m\u001b[0m\u001b[0;34m\u001b[0m\u001b[0m\n\u001b[0m\u001b[1;32m    819\u001b[0m \u001b[0;34m\u001b[0m\u001b[0m\n\u001b[1;32m    820\u001b[0m     \u001b[0;32mdef\u001b[0m \u001b[0mclose\u001b[0m\u001b[0;34m(\u001b[0m\u001b[0mself\u001b[0m\u001b[0;34m)\u001b[0m\u001b[0;34m:\u001b[0m\u001b[0;34m\u001b[0m\u001b[0;34m\u001b[0m\u001b[0m\n",
      "\u001b[0;32md:\\softwares\\python36\\lib\\site-packages\\pandas\\io\\parsers.py\u001b[0m in \u001b[0;36m_make_engine\u001b[0;34m(self, engine)\u001b[0m\n\u001b[1;32m   1047\u001b[0m     \u001b[0;32mdef\u001b[0m \u001b[0m_make_engine\u001b[0m\u001b[0;34m(\u001b[0m\u001b[0mself\u001b[0m\u001b[0;34m,\u001b[0m \u001b[0mengine\u001b[0m\u001b[0;34m=\u001b[0m\u001b[0;34m'c'\u001b[0m\u001b[0;34m)\u001b[0m\u001b[0;34m:\u001b[0m\u001b[0;34m\u001b[0m\u001b[0;34m\u001b[0m\u001b[0m\n\u001b[1;32m   1048\u001b[0m         \u001b[0;32mif\u001b[0m \u001b[0mengine\u001b[0m \u001b[0;34m==\u001b[0m \u001b[0;34m'c'\u001b[0m\u001b[0;34m:\u001b[0m\u001b[0;34m\u001b[0m\u001b[0;34m\u001b[0m\u001b[0m\n\u001b[0;32m-> 1049\u001b[0;31m             \u001b[0mself\u001b[0m\u001b[0;34m.\u001b[0m\u001b[0m_engine\u001b[0m \u001b[0;34m=\u001b[0m \u001b[0mCParserWrapper\u001b[0m\u001b[0;34m(\u001b[0m\u001b[0mself\u001b[0m\u001b[0;34m.\u001b[0m\u001b[0mf\u001b[0m\u001b[0;34m,\u001b[0m \u001b[0;34m**\u001b[0m\u001b[0mself\u001b[0m\u001b[0;34m.\u001b[0m\u001b[0moptions\u001b[0m\u001b[0;34m)\u001b[0m\u001b[0;34m\u001b[0m\u001b[0;34m\u001b[0m\u001b[0m\n\u001b[0m\u001b[1;32m   1050\u001b[0m         \u001b[0;32melse\u001b[0m\u001b[0;34m:\u001b[0m\u001b[0;34m\u001b[0m\u001b[0;34m\u001b[0m\u001b[0m\n\u001b[1;32m   1051\u001b[0m             \u001b[0;32mif\u001b[0m \u001b[0mengine\u001b[0m \u001b[0;34m==\u001b[0m \u001b[0;34m'python'\u001b[0m\u001b[0;34m:\u001b[0m\u001b[0;34m\u001b[0m\u001b[0;34m\u001b[0m\u001b[0m\n",
      "\u001b[0;32md:\\softwares\\python36\\lib\\site-packages\\pandas\\io\\parsers.py\u001b[0m in \u001b[0;36m__init__\u001b[0;34m(self, src, **kwds)\u001b[0m\n\u001b[1;32m   1693\u001b[0m         \u001b[0mkwds\u001b[0m\u001b[0;34m[\u001b[0m\u001b[0;34m'allow_leading_cols'\u001b[0m\u001b[0;34m]\u001b[0m \u001b[0;34m=\u001b[0m \u001b[0mself\u001b[0m\u001b[0;34m.\u001b[0m\u001b[0mindex_col\u001b[0m \u001b[0;32mis\u001b[0m \u001b[0;32mnot\u001b[0m \u001b[0;32mFalse\u001b[0m\u001b[0;34m\u001b[0m\u001b[0;34m\u001b[0m\u001b[0m\n\u001b[1;32m   1694\u001b[0m \u001b[0;34m\u001b[0m\u001b[0m\n\u001b[0;32m-> 1695\u001b[0;31m         \u001b[0mself\u001b[0m\u001b[0;34m.\u001b[0m\u001b[0m_reader\u001b[0m \u001b[0;34m=\u001b[0m \u001b[0mparsers\u001b[0m\u001b[0;34m.\u001b[0m\u001b[0mTextReader\u001b[0m\u001b[0;34m(\u001b[0m\u001b[0msrc\u001b[0m\u001b[0;34m,\u001b[0m \u001b[0;34m**\u001b[0m\u001b[0mkwds\u001b[0m\u001b[0;34m)\u001b[0m\u001b[0;34m\u001b[0m\u001b[0;34m\u001b[0m\u001b[0m\n\u001b[0m\u001b[1;32m   1696\u001b[0m \u001b[0;34m\u001b[0m\u001b[0m\n\u001b[1;32m   1697\u001b[0m         \u001b[0;31m# XXX\u001b[0m\u001b[0;34m\u001b[0m\u001b[0;34m\u001b[0m\u001b[0;34m\u001b[0m\u001b[0m\n",
      "\u001b[0;32mpandas\\_libs\\parsers.pyx\u001b[0m in \u001b[0;36mpandas._libs.parsers.TextReader.__cinit__\u001b[0;34m()\u001b[0m\n",
      "\u001b[0;32mpandas\\_libs\\parsers.pyx\u001b[0m in \u001b[0;36mpandas._libs.parsers.TextReader._setup_parser_source\u001b[0;34m()\u001b[0m\n",
      "\u001b[0;31mFileNotFoundError\u001b[0m: File b'C:\\\\Users\\\\sriharis\\\\OneDrive\\\\UChicago\\\\DataMining\\\\project\\\\NYData\\\\listings.csv' does not exist"
     ]
    }
   ],
   "source": [
    "listings = pd.read_csv(os.path.join(ny_datapath, \"listings.csv\"))"
   ]
  },
  {
   "cell_type": "code",
   "execution_count": null,
   "metadata": {},
   "outputs": [],
   "source": [
    "listings['price'] = listings['price'].str.strip('').str.strip('$').str.replace(',', '').astype('float')"
   ]
  },
  {
   "cell_type": "markdown",
   "metadata": {},
   "source": [
    "------------------"
   ]
  },
  {
   "cell_type": "markdown",
   "metadata": {},
   "source": [
    "# Listings per neighbourhood "
   ]
  },
  {
   "cell_type": "code",
   "execution_count": 94,
   "metadata": {},
   "outputs": [],
   "source": [
    "nbhood_listings_data = listings[[\"id\", \"neighbourhood\"]].groupby(by=\"neighbourhood\", as_index=False).count()\n",
    "nbhood_listings_data = nbhood_listings_data.sort_values(by=\"id\", ascending=False)\n",
    "nbhood_listings_data.reset_index(drop=True, inplace=True)"
   ]
  },
  {
   "cell_type": "code",
   "execution_count": 96,
   "metadata": {},
   "outputs": [],
   "source": [
    "listings_loc_data = listings[[\"latitude\", \"longitude\", \"id\"]]\n",
    "listings_loc_group = listings_loc_data.groupby(by=[\"latitude\", \"longitude\"], as_index=False, \n",
    "                                           sort=False).count()\n",
    "\n",
    "lats=list(listings_loc_group[\"latitude\"].values)\n",
    "lons=list(listings_loc_group[\"longitude\"].values)\n",
    "mag=list(listings_loc_group[\"id\"].values)"
   ]
  },
  {
   "cell_type": "code",
   "execution_count": 97,
   "metadata": {},
   "outputs": [],
   "source": [
    "neighbourhoods_geojson_path = os.path.join(ny_datapath, \"neighbourhoods.geojson\")\n",
    "    \n",
    "th_scale = get_th_scale(data=nbhood_listings_data, col=\"id\", n_steps=6) # , transform_func=math.log, inv_transform_func=math.exp\n",
    "\n",
    "m1 = folium.Map(location=NY_COORD, tiles='OpenStreetMap', zoom_start=12)\n",
    "# Add a choropleth map\n",
    "m1 = add_choroplethmap(m1=m1, data=nbhood_listings_data,\n",
    "                       json_path=neighbourhoods_geojson_path, \n",
    "                       json_key='feature.properties.neighbourhood', \n",
    "                       threshold_scale=th_scale,\n",
    "                       name=\"Neighbourhoods with listings\")\n",
    "# m1\n",
    "# m1 = addMarkerClusters(m1, listings_loc_data[\"latitude\"].values, listings_loc_data[\"longitude\"].values)\n",
    "# open_map_in_browser(m1, os.path.join(ny_datapath, \"geo_listings.html\"))"
   ]
  },
  {
   "cell_type": "markdown",
   "metadata": {},
   "source": [
    "------------------"
   ]
  },
  {
   "cell_type": "markdown",
   "metadata": {},
   "source": [
    "# Most expensive neighbourhoods "
   ]
  },
  {
   "cell_type": "markdown",
   "metadata": {},
   "source": [
    "Let's make a price per listing for each neighbourhood"
   ]
  },
  {
   "cell_type": "code",
   "execution_count": 98,
   "metadata": {},
   "outputs": [
    {
     "data": {
      "text/html": [
       "<div>\n",
       "<style scoped>\n",
       "    .dataframe tbody tr th:only-of-type {\n",
       "        vertical-align: middle;\n",
       "    }\n",
       "\n",
       "    .dataframe tbody tr th {\n",
       "        vertical-align: top;\n",
       "    }\n",
       "\n",
       "    .dataframe thead th {\n",
       "        text-align: right;\n",
       "    }\n",
       "</style>\n",
       "<table border=\"1\" class=\"dataframe\">\n",
       "  <thead>\n",
       "    <tr style=\"text-align: right;\">\n",
       "      <th></th>\n",
       "      <th>neighbourhood</th>\n",
       "      <th>price</th>\n",
       "    </tr>\n",
       "  </thead>\n",
       "  <tbody>\n",
       "    <tr>\n",
       "      <th>0</th>\n",
       "      <td>Allerton</td>\n",
       "      <td>70.0</td>\n",
       "    </tr>\n",
       "    <tr>\n",
       "      <th>1</th>\n",
       "      <td>Alphabet City</td>\n",
       "      <td>140.0</td>\n",
       "    </tr>\n",
       "    <tr>\n",
       "      <th>2</th>\n",
       "      <td>Annadale</td>\n",
       "      <td>87.5</td>\n",
       "    </tr>\n",
       "    <tr>\n",
       "      <th>3</th>\n",
       "      <td>Arrochar</td>\n",
       "      <td>79.0</td>\n",
       "    </tr>\n",
       "    <tr>\n",
       "      <th>4</th>\n",
       "      <td>Astoria</td>\n",
       "      <td>84.0</td>\n",
       "    </tr>\n",
       "  </tbody>\n",
       "</table>\n",
       "</div>"
      ],
      "text/plain": [
       "   neighbourhood  price\n",
       "0       Allerton   70.0\n",
       "1  Alphabet City  140.0\n",
       "2       Annadale   87.5\n",
       "3       Arrochar   79.0\n",
       "4        Astoria   84.0"
      ]
     },
     "execution_count": 98,
     "metadata": {},
     "output_type": "execute_result"
    }
   ],
   "source": [
    "nbhood_price_data = listings[[\"price\", \"neighbourhood\"]].groupby(by=\"neighbourhood\", as_index=False).median() # agg([\"mean\", \"median\", \"max\", \"min\"])\n",
    "nbhood_price_data.head()"
   ]
  },
  {
   "cell_type": "code",
   "execution_count": 99,
   "metadata": {},
   "outputs": [],
   "source": [
    "neighbourhoods_geojson_path = os.path.join(ny_datapath, \"neighbourhoods.geojson\")\n",
    "    \n",
    "th_scale = get_th_scale(data=nbhood_price_data, col=\"price\", n_steps=6) # , transform_func=math.log, inv_transform_func=math.exp\n",
    "\n",
    "m1 = folium.Map(location=NY_COORD, tiles='OpenStreetMap', zoom_start=12)\n",
    "# Add a choropleth map\n",
    "m1 = add_choroplethmap(m1=m1, data=nbhood_price_data,\n",
    "                       json_path=neighbourhoods_geojson_path, \n",
    "                       json_key='feature.properties.neighbourhood', \n",
    "                       threshold_scale=th_scale,\n",
    "                       name=\"Neighbourhoods Median Price\",\n",
    "                      color='Greens')\n",
    "\n",
    "# https://stackoverflow.com/questions/44771779/adding-label-text-box-style-to-folium-output\n",
    "\n",
    "# open_map_in_browser(m1, os.path.join(ny_datapath, \"geo_price.html\"))"
   ]
  },
  {
   "cell_type": "markdown",
   "metadata": {},
   "source": [
    "------------"
   ]
  },
  {
   "cell_type": "markdown",
   "metadata": {},
   "source": [
    "# Neighbourhood groups "
   ]
  },
  {
   "cell_type": "code",
   "execution_count": 5,
   "metadata": {},
   "outputs": [
    {
     "ename": "NameError",
     "evalue": "name 'listings' is not defined",
     "output_type": "error",
     "traceback": [
      "\u001b[0;31m---------------------------------------------------------------------------\u001b[0m",
      "\u001b[0;31mNameError\u001b[0m                                 Traceback (most recent call last)",
      "\u001b[0;32m<ipython-input-5-ad158f0b6274>\u001b[0m in \u001b[0;36m<module>\u001b[0;34m()\u001b[0m\n\u001b[0;32m----> 1\u001b[0;31m \u001b[0mlistings\u001b[0m\u001b[0;34m.\u001b[0m\u001b[0mhead\u001b[0m\u001b[0;34m(\u001b[0m\u001b[0;34m)\u001b[0m\u001b[0;34m\u001b[0m\u001b[0;34m\u001b[0m\u001b[0m\n\u001b[0m",
      "\u001b[0;31mNameError\u001b[0m: name 'listings' is not defined"
     ]
    }
   ],
   "source": [
    "listings.head()"
   ]
  },
  {
   "cell_type": "code",
   "execution_count": 107,
   "metadata": {},
   "outputs": [
    {
     "data": {
      "text/plain": [
       "array(['Manhattan', 'Brooklyn', 'Queens', 'Staten Island', 'Bronx'],\n",
       "      dtype=object)"
      ]
     },
     "execution_count": 107,
     "metadata": {},
     "output_type": "execute_result"
    }
   ],
   "source": [
    "listings[\"neighbourhood_group_cleansed\"].unique()"
   ]
  },
  {
   "cell_type": "code",
   "execution_count": 108,
   "metadata": {},
   "outputs": [
    {
     "data": {
      "text/html": [
       "<div>\n",
       "<style scoped>\n",
       "    .dataframe tbody tr th:only-of-type {\n",
       "        vertical-align: middle;\n",
       "    }\n",
       "\n",
       "    .dataframe tbody tr th {\n",
       "        vertical-align: top;\n",
       "    }\n",
       "\n",
       "    .dataframe thead th {\n",
       "        text-align: right;\n",
       "    }\n",
       "</style>\n",
       "<table border=\"1\" class=\"dataframe\">\n",
       "  <thead>\n",
       "    <tr style=\"text-align: right;\">\n",
       "      <th></th>\n",
       "      <th>id</th>\n",
       "      <th>neighbourhood_cleansed</th>\n",
       "      <th>neighbourhood_group_cleansed</th>\n",
       "      <th>price</th>\n",
       "      <th>host_is_superhost</th>\n",
       "    </tr>\n",
       "  </thead>\n",
       "  <tbody>\n",
       "    <tr>\n",
       "      <th>0</th>\n",
       "      <td>2454</td>\n",
       "      <td>Midtown</td>\n",
       "      <td>Manhattan</td>\n",
       "      <td>137.0</td>\n",
       "      <td>f</td>\n",
       "    </tr>\n",
       "    <tr>\n",
       "      <th>1</th>\n",
       "      <td>2539</td>\n",
       "      <td>Kensington</td>\n",
       "      <td>Brooklyn</td>\n",
       "      <td>149.0</td>\n",
       "      <td>f</td>\n",
       "    </tr>\n",
       "    <tr>\n",
       "      <th>2</th>\n",
       "      <td>2595</td>\n",
       "      <td>Midtown</td>\n",
       "      <td>Manhattan</td>\n",
       "      <td>225.0</td>\n",
       "      <td>f</td>\n",
       "    </tr>\n",
       "    <tr>\n",
       "      <th>3</th>\n",
       "      <td>3330</td>\n",
       "      <td>Williamsburg</td>\n",
       "      <td>Brooklyn</td>\n",
       "      <td>70.0</td>\n",
       "      <td>f</td>\n",
       "    </tr>\n",
       "    <tr>\n",
       "      <th>4</th>\n",
       "      <td>3647</td>\n",
       "      <td>Harlem</td>\n",
       "      <td>Manhattan</td>\n",
       "      <td>150.0</td>\n",
       "      <td>f</td>\n",
       "    </tr>\n",
       "  </tbody>\n",
       "</table>\n",
       "</div>"
      ],
      "text/plain": [
       "     id neighbourhood_cleansed neighbourhood_group_cleansed  price host_is_superhost\n",
       "0  2454                Midtown                    Manhattan  137.0                 f\n",
       "1  2539             Kensington                     Brooklyn  149.0                 f\n",
       "2  2595                Midtown                    Manhattan  225.0                 f\n",
       "3  3330           Williamsburg                     Brooklyn   70.0                 f\n",
       "4  3647                 Harlem                    Manhattan  150.0                 f"
      ]
     },
     "execution_count": 108,
     "metadata": {},
     "output_type": "execute_result"
    }
   ],
   "source": [
    "subset = listings[[\"id\", \"neighbourhood_cleansed\", \"neighbourhood_group_cleansed\", \"price\", \"host_is_superhost\"]]\n",
    "subset.head()"
   ]
  },
  {
   "cell_type": "markdown",
   "metadata": {},
   "source": [
    "### Number of listings"
   ]
  },
  {
   "cell_type": "code",
   "execution_count": 115,
   "metadata": {
    "scrolled": false
   },
   "outputs": [
    {
     "data": {
      "text/html": [
       "<div>\n",
       "<style scoped>\n",
       "    .dataframe tbody tr th:only-of-type {\n",
       "        vertical-align: middle;\n",
       "    }\n",
       "\n",
       "    .dataframe tbody tr th {\n",
       "        vertical-align: top;\n",
       "    }\n",
       "\n",
       "    .dataframe thead th {\n",
       "        text-align: right;\n",
       "    }\n",
       "</style>\n",
       "<table border=\"1\" class=\"dataframe\">\n",
       "  <thead>\n",
       "    <tr style=\"text-align: right;\">\n",
       "      <th></th>\n",
       "      <th>neighbourhood_group_cleansed</th>\n",
       "      <th>id</th>\n",
       "    </tr>\n",
       "  </thead>\n",
       "  <tbody>\n",
       "    <tr>\n",
       "      <th>0</th>\n",
       "      <td>Bronx</td>\n",
       "      <td>977</td>\n",
       "    </tr>\n",
       "    <tr>\n",
       "      <th>1</th>\n",
       "      <td>Brooklyn</td>\n",
       "      <td>20500</td>\n",
       "    </tr>\n",
       "    <tr>\n",
       "      <th>2</th>\n",
       "      <td>Manhattan</td>\n",
       "      <td>22839</td>\n",
       "    </tr>\n",
       "    <tr>\n",
       "      <th>3</th>\n",
       "      <td>Queens</td>\n",
       "      <td>5565</td>\n",
       "    </tr>\n",
       "    <tr>\n",
       "      <th>4</th>\n",
       "      <td>Staten Island</td>\n",
       "      <td>347</td>\n",
       "    </tr>\n",
       "  </tbody>\n",
       "</table>\n",
       "</div>"
      ],
      "text/plain": [
       "  neighbourhood_group_cleansed     id\n",
       "0                        Bronx    977\n",
       "1                     Brooklyn  20500\n",
       "2                    Manhattan  22839\n",
       "3                       Queens   5565\n",
       "4                Staten Island    347"
      ]
     },
     "execution_count": 115,
     "metadata": {},
     "output_type": "execute_result"
    }
   ],
   "source": [
    "nbhood_grp_grp = subset[[\"id\", \"neighbourhood_group_cleansed\"]].groupby(by=[\"neighbourhood_group_cleansed\"], as_index=False).count()\n",
    "nbhood_grp_grp"
   ]
  },
  {
   "cell_type": "code",
   "execution_count": 116,
   "metadata": {
    "scrolled": true
   },
   "outputs": [],
   "source": [
    "def get_lcount(n):\n",
    "    nbhgrp = subset[subset[\"neighbourhood_cleansed\"]==n][\"neighbourhood_group_cleansed\"].values[0]\n",
    "    return nbhood_grp_grp[nbhood_grp_grp[\"neighbourhood_group_cleansed\"]==nbhgrp][\"id\"].values[0]\n",
    "\n",
    "subset1 = {\"neighbourhood\":[],\n",
    "           \"count\":[]\n",
    "          }           \n",
    "for n in subset[\"neighbourhood_cleansed\"].unique():\n",
    "    subset1[\"neighbourhood\"].append(n)\n",
    "    subset1[\"count\"].append(get_lcount(n))\n",
    "    \n",
    "nbhood_listings_count = pd.DataFrame(subset1)\n",
    "nbhood_listings_count = nbhood_listings_count[[\"neighbourhood\", \"count\"]]\n",
    "# nbhood_listings_count"
   ]
  },
  {
   "cell_type": "code",
   "execution_count": 117,
   "metadata": {},
   "outputs": [],
   "source": [
    "neighbourhoods_geojson_path = os.path.join(ny_datapath, \"neighbourhoods.geojson\")\n",
    "    \n",
    "# th_scale = get_th_scale(data=nbhood_listings_count, col=\"count\", n_steps=6) # , transform_func=math.log, inv_transform_func=math.exp\n",
    "th_scale = np.sort(nbhood_listings_count[\"count\"].unique())\n",
    "th_scale = np.append(th_scale, th_scale[-1]+1)\n",
    "\n",
    "m1 = folium.Map(location=NY_COORD, tiles='OpenStreetMap', zoom_start=12)\n",
    "# m1 = folium.Map(location=NY_COORD, tiles='Mapbox Bright', zoom_start=12)\n",
    "\n",
    "# # Add a choropleth map\n",
    "m1 = add_choroplethmap(m1=m1, data=nbhood_listings_count,\n",
    "                       json_path=neighbourhoods_geojson_path, \n",
    "                       json_key='feature.properties.neighbourhood', \n",
    "                       threshold_scale=th_scale,\n",
    "                       name=\"Neighbourhoods with listings\",\n",
    "                      color=\"Reds\")\n",
    "# m1\n",
    "open_map_in_browser(m1, os.path.join(ny_datapath, \"geo_listings_grp.html\"))"
   ]
  },
  {
   "cell_type": "markdown",
   "metadata": {},
   "source": [
    "### Median price"
   ]
  },
  {
   "cell_type": "code",
   "execution_count": 118,
   "metadata": {},
   "outputs": [
    {
     "data": {
      "text/html": [
       "<div>\n",
       "<style scoped>\n",
       "    .dataframe tbody tr th:only-of-type {\n",
       "        vertical-align: middle;\n",
       "    }\n",
       "\n",
       "    .dataframe tbody tr th {\n",
       "        vertical-align: top;\n",
       "    }\n",
       "\n",
       "    .dataframe thead th {\n",
       "        text-align: right;\n",
       "    }\n",
       "</style>\n",
       "<table border=\"1\" class=\"dataframe\">\n",
       "  <thead>\n",
       "    <tr style=\"text-align: right;\">\n",
       "      <th></th>\n",
       "      <th>neighbourhood_group_cleansed</th>\n",
       "      <th>price</th>\n",
       "    </tr>\n",
       "  </thead>\n",
       "  <tbody>\n",
       "    <tr>\n",
       "      <th>0</th>\n",
       "      <td>Bronx</td>\n",
       "      <td>86.308086</td>\n",
       "    </tr>\n",
       "    <tr>\n",
       "      <th>1</th>\n",
       "      <td>Brooklyn</td>\n",
       "      <td>121.573756</td>\n",
       "    </tr>\n",
       "    <tr>\n",
       "      <th>2</th>\n",
       "      <td>Manhattan</td>\n",
       "      <td>192.853102</td>\n",
       "    </tr>\n",
       "    <tr>\n",
       "      <th>3</th>\n",
       "      <td>Queens</td>\n",
       "      <td>96.848518</td>\n",
       "    </tr>\n",
       "    <tr>\n",
       "      <th>4</th>\n",
       "      <td>Staten Island</td>\n",
       "      <td>110.766571</td>\n",
       "    </tr>\n",
       "  </tbody>\n",
       "</table>\n",
       "</div>"
      ],
      "text/plain": [
       "  neighbourhood_group_cleansed       price\n",
       "0                        Bronx   86.308086\n",
       "1                     Brooklyn  121.573756\n",
       "2                    Manhattan  192.853102\n",
       "3                       Queens   96.848518\n",
       "4                Staten Island  110.766571"
      ]
     },
     "execution_count": 118,
     "metadata": {},
     "output_type": "execute_result"
    }
   ],
   "source": [
    "nbhood_grp_grp = subset[[\"price\", \"neighbourhood_group_cleansed\"]].groupby(by=[\"neighbourhood_group_cleansed\"], as_index=False).mean()\n",
    "nbhood_grp_grp"
   ]
  },
  {
   "cell_type": "code",
   "execution_count": 119,
   "metadata": {},
   "outputs": [],
   "source": [
    "def get_lcount(n):\n",
    "    nbhgrp = subset[subset[\"neighbourhood_cleansed\"]==n][\"neighbourhood_group_cleansed\"].values[0]\n",
    "    return nbhood_grp_grp[nbhood_grp_grp[\"neighbourhood_group_cleansed\"]==nbhgrp][\"price\"].values[0]\n",
    "\n",
    "subset1 = {\"neighbourhood\":[],\n",
    "           \"price\":[]\n",
    "          }           \n",
    "for n in subset[\"neighbourhood_cleansed\"].unique():\n",
    "    subset1[\"neighbourhood\"].append(n)\n",
    "    subset1[\"price\"].append(get_lcount(n))\n",
    "    \n",
    "nbhood_listings_price = pd.DataFrame(subset1)\n",
    "nbhood_listings_price = nbhood_listings_price[[\"neighbourhood\", \"price\"]]\n",
    "# nbhood_listings_price"
   ]
  },
  {
   "cell_type": "code",
   "execution_count": 120,
   "metadata": {},
   "outputs": [],
   "source": [
    "neighbourhoods_geojson_path = os.path.join(ny_datapath, \"neighbourhoods.geojson\")\n",
    "    \n",
    "# th_scale = get_th_scale(data=nbhood_listings_count, col=\"count\", n_steps=6) # , transform_func=math.log, inv_transform_func=math.exp\n",
    "th_scale = np.sort(nbhood_listings_price[\"price\"].unique())\n",
    "th_scale = np.append(th_scale, th_scale[-1]+1)\n",
    "\n",
    "m1 = folium.Map(location=NY_COORD, tiles='OpenStreetMap', zoom_start=12)\n",
    "# Add a choropleth map\n",
    "m1 = add_choroplethmap(m1=m1, data=nbhood_listings_price,\n",
    "                       json_path=neighbourhoods_geojson_path, \n",
    "                       json_key='feature.properties.neighbourhood', \n",
    "                       threshold_scale=th_scale,\n",
    "                       name=\"Neighbourhoods with listings\",\n",
    "                      color=\"Greens\")\n",
    "# m1\n",
    "# m1 = addMarkerClusters(m1, listings_loc_data[\"latitude\"].values, listings_loc_data[\"longitude\"].values)\n",
    "open_map_in_browser(m1, os.path.join(ny_datapath, \"geo_listings_price.html\"))"
   ]
  },
  {
   "cell_type": "markdown",
   "metadata": {},
   "source": [
    "### Super hosts"
   ]
  },
  {
   "cell_type": "code",
   "execution_count": 121,
   "metadata": {},
   "outputs": [],
   "source": [
    "di = {\"t\": 1, \"f\": 0}\n",
    "subset[\"host_is_superhost\"].replace(di, inplace=True)"
   ]
  },
  {
   "cell_type": "code",
   "execution_count": 122,
   "metadata": {},
   "outputs": [
    {
     "data": {
      "text/html": [
       "<div>\n",
       "<style scoped>\n",
       "    .dataframe tbody tr th:only-of-type {\n",
       "        vertical-align: middle;\n",
       "    }\n",
       "\n",
       "    .dataframe tbody tr th {\n",
       "        vertical-align: top;\n",
       "    }\n",
       "\n",
       "    .dataframe thead th {\n",
       "        text-align: right;\n",
       "    }\n",
       "</style>\n",
       "<table border=\"1\" class=\"dataframe\">\n",
       "  <thead>\n",
       "    <tr style=\"text-align: right;\">\n",
       "      <th></th>\n",
       "      <th>neighbourhood_group_cleansed</th>\n",
       "      <th>num_listings</th>\n",
       "      <th>shost_sum</th>\n",
       "      <th>shost_ratio</th>\n",
       "    </tr>\n",
       "  </thead>\n",
       "  <tbody>\n",
       "    <tr>\n",
       "      <th>0</th>\n",
       "      <td>Bronx</td>\n",
       "      <td>977</td>\n",
       "      <td>241.0</td>\n",
       "      <td>0.246673</td>\n",
       "    </tr>\n",
       "    <tr>\n",
       "      <th>1</th>\n",
       "      <td>Brooklyn</td>\n",
       "      <td>20496</td>\n",
       "      <td>3760.0</td>\n",
       "      <td>0.183450</td>\n",
       "    </tr>\n",
       "    <tr>\n",
       "      <th>2</th>\n",
       "      <td>Manhattan</td>\n",
       "      <td>22836</td>\n",
       "      <td>3500.0</td>\n",
       "      <td>0.153267</td>\n",
       "    </tr>\n",
       "    <tr>\n",
       "      <th>3</th>\n",
       "      <td>Queens</td>\n",
       "      <td>5564</td>\n",
       "      <td>1103.0</td>\n",
       "      <td>0.198239</td>\n",
       "    </tr>\n",
       "    <tr>\n",
       "      <th>4</th>\n",
       "      <td>Staten Island</td>\n",
       "      <td>347</td>\n",
       "      <td>88.0</td>\n",
       "      <td>0.253602</td>\n",
       "    </tr>\n",
       "  </tbody>\n",
       "</table>\n",
       "</div>"
      ],
      "text/plain": [
       "  neighbourhood_group_cleansed  num_listings  shost_sum  shost_ratio\n",
       "0                        Bronx           977      241.0     0.246673\n",
       "1                     Brooklyn         20496     3760.0     0.183450\n",
       "2                    Manhattan         22836     3500.0     0.153267\n",
       "3                       Queens          5564     1103.0     0.198239\n",
       "4                Staten Island           347       88.0     0.253602"
      ]
     },
     "execution_count": 122,
     "metadata": {},
     "output_type": "execute_result"
    }
   ],
   "source": [
    "nbhood_grp_shost =\\\n",
    "    subset[[\"host_is_superhost\", \"neighbourhood_group_cleansed\"]]\n",
    "# nbhood_grp_shost.dropna(inplace=True)\n",
    "\n",
    "nbhood_grp_shost =nbhood_grp_shost.groupby(by=[\"neighbourhood_group_cleansed\"], as_index=False).agg([\"count\", \"sum\"])\n",
    "nbhood_grp_shost.reset_index(drop=False, inplace=True)\n",
    "nbhood_grp_shost.columns = nbhood_grp_shost.columns.droplevel(0)\n",
    "nbhood_grp_shost.columns = [\"neighbourhood_group_cleansed\", \"num_listings\", \"shost_sum\"]\n",
    "nbhood_grp_shost[\"shost_ratio\"] = nbhood_grp_shost[\"shost_sum\"] / nbhood_grp_shost[\"num_listings\"]\n",
    "nbhood_grp_shost"
   ]
  },
  {
   "cell_type": "code",
   "execution_count": 123,
   "metadata": {
    "scrolled": true
   },
   "outputs": [],
   "source": [
    "def get_sum(n):\n",
    "    nbhgrp = subset[subset[\"neighbourhood_cleansed\"]==n][\"neighbourhood_group_cleansed\"].values[0]\n",
    "    return nbhood_grp_shost[nbhood_grp_shost[\"neighbourhood_group_cleansed\"]==nbhgrp][\"shost_sum\"].values[0]\n",
    "\n",
    "def get_ratio(n):\n",
    "    nbhgrp = subset[subset[\"neighbourhood_cleansed\"]==n][\"neighbourhood_group_cleansed\"].values[0]\n",
    "    return nbhood_grp_shost[nbhood_grp_shost[\"neighbourhood_group_cleansed\"]==nbhgrp][\"shost_ratio\"].values[0]\n",
    "\n",
    "subset1 = {\"neighbourhood\":[],\n",
    "           \"shost_ratio\":[],\n",
    "           \"shost_sum\":[]\n",
    "          }           \n",
    "for n in subset[\"neighbourhood_cleansed\"].unique():\n",
    "    subset1[\"neighbourhood\"].append(n)\n",
    "    subset1[\"shost_ratio\"].append(get_ratio(n))\n",
    "    subset1[\"shost_sum\"].append(get_sum(n))\n",
    "\n",
    "nbhood_shost = pd.DataFrame(subset1)\n",
    "nbhood_shost = nbhood_shost[[\"neighbourhood\", \"shost_ratio\"]]\n",
    "# nbhood_shost"
   ]
  },
  {
   "cell_type": "code",
   "execution_count": 125,
   "metadata": {},
   "outputs": [],
   "source": [
    "neighbourhoods_geojson_path = os.path.join(ny_datapath, \"neighbourhoods.geojson\")\n",
    "    \n",
    "# th_scale = get_th_scale(data=nbhood_listings_count, col=\"count\", n_steps=6) # , transform_func=math.log, inv_transform_func=math.exp\n",
    "th_scale = np.sort(nbhood_shost[\"shost_ratio\"].unique())\n",
    "th_scale = np.append(th_scale, th_scale[-1]+0.01)\n",
    "\n",
    "m1 = folium.Map(location=NY_COORD, tiles='OpenStreetMap', zoom_start=12)\n",
    "# Add a choropleth map\n",
    "m1 = add_choroplethmap(m1=m1, data=nbhood_shost,\n",
    "                       json_path=neighbourhoods_geojson_path, \n",
    "                       json_key='feature.properties.neighbourhood', \n",
    "                       threshold_scale=th_scale,\n",
    "                       name=\"Neighbourhoods with super host (ratio)\",\n",
    "                       color=\"Blues\")\n",
    "# m1\n",
    "# m1 = addMarkerClusters(m1, listings_loc_data[\"latitude\"].values, listings_loc_data[\"longitude\"].values)\n",
    "open_map_in_browser(m1, os.path.join(ny_datapath, \"geo_superhost_ratio.html\"))"
   ]
  },
  {
   "cell_type": "code",
   "execution_count": null,
   "metadata": {},
   "outputs": [],
   "source": []
  }
 ],
 "metadata": {
  "kernelspec": {
   "display_name": "Python 3",
   "language": "python",
   "name": "python3"
  },
  "language_info": {
   "codemirror_mode": {
    "name": "ipython",
    "version": 3
   },
   "file_extension": ".py",
   "mimetype": "text/x-python",
   "name": "python",
   "nbconvert_exporter": "python",
   "pygments_lexer": "ipython3",
   "version": "3.6.7"
  }
 },
 "nbformat": 4,
 "nbformat_minor": 2
}
