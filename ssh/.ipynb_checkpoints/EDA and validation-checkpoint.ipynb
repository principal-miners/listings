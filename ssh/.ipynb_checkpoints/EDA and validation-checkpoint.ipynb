{
 "cells": [
  {
   "cell_type": "code",
   "execution_count": 1,
   "metadata": {},
   "outputs": [
    {
     "data": {
      "text/html": [
       "<style>.container { width:100% !important; }</style>"
      ],
      "text/plain": [
       "<IPython.core.display.HTML object>"
      ]
     },
     "metadata": {},
     "output_type": "display_data"
    }
   ],
   "source": [
    "# Put these at the top of every notebook, to get automatic reloading and inline plotting\n",
    "from IPython.core.display import display, HTML\n",
    "import pandas as pd\n",
    "import warnings\n",
    "warnings.filterwarnings('ignore')\n",
    "\n",
    "%reload_ext autoreload\n",
    "%autoreload 1\n",
    "%matplotlib inline\n",
    "\n",
    "pd.set_option('display.max_rows', 500)\n",
    "pd.set_option('display.max_columns', 500)\n",
    "pd.set_option('display.width', 1000)\n",
    "\n",
    "display(HTML(\"<style>.container { width:100% !important; }</style>\"))"
   ]
  },
  {
   "cell_type": "code",
   "execution_count": 2,
   "metadata": {},
   "outputs": [],
   "source": [
    "import os\n",
    "import seaborn as sns\n",
    "import pandas as pd\n",
    "import math\n",
    "\n",
    "from Utils.UtilsViz import *\n",
    "from Utils.DataUtils import *"
   ]
  },
  {
   "cell_type": "code",
   "execution_count": 3,
   "metadata": {},
   "outputs": [],
   "source": [
    "US_coord = [37.0902, -102]\n",
    "NY_COORD = [40.7128, -74.0060]\n",
    "\n",
    "# data_path = os.path.join(os.getcwd(), \"Data\")\n",
    "ny_datapath = \"C:\\\\Users\\\\sriharis\\\\OneDrive\\\\UChicago\\\\DataMining\\\\project\\\\NYData\\\\\"\n",
    "# ny_datapath = \"C:\\\\Users\\\\Ssrih\\\\OneDrive\\\\UChicago\\\\DataMining\\\\project\\\\NYData\\\\\""
   ]
  },
  {
   "cell_type": "code",
   "execution_count": 4,
   "metadata": {},
   "outputs": [
    {
     "ename": "FileNotFoundError",
     "evalue": "[WinError 3] The system cannot find the path specified: 'C:\\\\Users\\\\Ssrih\\\\OneDrive\\\\UChicago\\\\DataMining\\\\project\\\\NYData\\\\'",
     "output_type": "error",
     "traceback": [
      "\u001b[1;31m---------------------------------------------------------------------------\u001b[0m",
      "\u001b[1;31mFileNotFoundError\u001b[0m                         Traceback (most recent call last)",
      "\u001b[1;32m<ipython-input-4-324b8cca86f8>\u001b[0m in \u001b[0;36m<module>\u001b[1;34m\u001b[0m\n\u001b[1;32m----> 1\u001b[1;33m \u001b[0mos\u001b[0m\u001b[1;33m.\u001b[0m\u001b[0mlistdir\u001b[0m\u001b[1;33m(\u001b[0m\u001b[0mny_datapath\u001b[0m\u001b[1;33m)\u001b[0m\u001b[1;33m\u001b[0m\u001b[1;33m\u001b[0m\u001b[0m\n\u001b[0m",
      "\u001b[1;31mFileNotFoundError\u001b[0m: [WinError 3] The system cannot find the path specified: 'C:\\\\Users\\\\Ssrih\\\\OneDrive\\\\UChicago\\\\DataMining\\\\project\\\\NYData\\\\'"
     ]
    }
   ],
   "source": [
    "os.listdir(ny_datapath)"
   ]
  },
  {
   "cell_type": "code",
   "execution_count": null,
   "metadata": {},
   "outputs": [],
   "source": [
    "listings = pd.read_csv(os.path.join(ny_datapath, \"listings.csv\"))"
   ]
  },
  {
   "cell_type": "code",
   "execution_count": null,
   "metadata": {},
   "outputs": [],
   "source": [
    "listings.head()"
   ]
  },
  {
   "cell_type": "markdown",
   "metadata": {},
   "source": [
    "Drop min and max nights columns"
   ]
  },
  {
   "cell_type": "markdown",
   "metadata": {},
   "source": [
    "# Price preprocessing "
   ]
  },
  {
   "cell_type": "code",
   "execution_count": null,
   "metadata": {},
   "outputs": [],
   "source": [
    "listings['price'] = listings['price'].str.strip('').str.strip('$').str.replace(',', '').astype('float')"
   ]
  },
  {
   "cell_type": "code",
   "execution_count": null,
   "metadata": {
    "scrolled": false
   },
   "outputs": [],
   "source": [
    "percentiles = list(range(0,101))\n",
    "price_percentile = {}\n",
    "for p in percentiles:\n",
    "    price_percentile[p] = np.percentile(listings['price'].values, p)\n",
    "\n",
    "price_percentile = pd.DataFrame.from_dict(price_percentile, orient='index')\n",
    "price_percentile.plot(kind='bar', figsize=(25,9), grid=True)"
   ]
  },
  {
   "cell_type": "code",
   "execution_count": null,
   "metadata": {},
   "outputs": [],
   "source": [
    "listings = listings[listings[\"price\"] <= price_percentile.iloc[99,:].values[0]]\n",
    "listings = listings[listings[\"price\"] >= price_percentile.iloc[1,:].values[0]]\n",
    "listings[\"price\"].describe()"
   ]
  },
  {
   "cell_type": "code",
   "execution_count": null,
   "metadata": {},
   "outputs": [],
   "source": [
    "percentiles = list(range(0,101))\n",
    "price_percentile = {}\n",
    "for p in percentiles:\n",
    "    price_percentile[p] = np.percentile(listings['price'].values, p)\n",
    "\n",
    "price_percentile = pd.DataFrame.from_dict(price_percentile, orient='index')\n",
    "price_percentile.plot(kind='bar', figsize=(25,9), grid=True)"
   ]
  },
  {
   "cell_type": "code",
   "execution_count": null,
   "metadata": {},
   "outputs": [],
   "source": [
    "plot_dist(data=listings, colname=\"price\", kde=False)"
   ]
  },
  {
   "cell_type": "code",
   "execution_count": null,
   "metadata": {},
   "outputs": [],
   "source": [
    "def get_logprice(price):\n",
    "    if price <= 0.0:\n",
    "        return 0.0\n",
    "    else:\n",
    "        return np.log(price)\n",
    "listings['price_log'] = listings['price'].apply(get_logprice)\n",
    "plot_dist(data=listings, colname=\"price_log\", kde=False)"
   ]
  },
  {
   "cell_type": "code",
   "execution_count": null,
   "metadata": {},
   "outputs": [],
   "source": [
    "listings.drop(\"price_log\", axis=1, inplace=True)"
   ]
  },
  {
   "cell_type": "markdown",
   "metadata": {},
   "source": [
    "# Amenities"
   ]
  },
  {
   "cell_type": "markdown",
   "metadata": {},
   "source": [
    "Let's have a look at the distribution of amenities"
   ]
  },
  {
   "cell_type": "code",
   "execution_count": null,
   "metadata": {},
   "outputs": [],
   "source": [
    "# Amenities\n",
    "def get_num_amenities(row):\n",
    "    a = row[1:-1].split(\",\")\n",
    "    return len(a)\n",
    "\n",
    "listings[\"num_amenities\"] = listings[\"amenities\"].apply(get_num_amenities)\n",
    "g = plot_dist(data=listings, colname=\"num_amenities\", xlabel=\"number of amenities\", ylabel=\"count\", kde=False, title=\"Distribution of Number of amenities in dataset\")"
   ]
  },
  {
   "cell_type": "markdown",
   "metadata": {},
   "source": [
    "How does price behave based on number of amenities?"
   ]
  },
  {
   "cell_type": "markdown",
   "metadata": {},
   "source": [
    "Let's filter out all the prices above 500$"
   ]
  },
  {
   "cell_type": "code",
   "execution_count": null,
   "metadata": {},
   "outputs": [],
   "source": [
    "f, ax = plt.subplots(1,1,figsize=(25, 8))\n",
    "g = plot_box(x=\"num_amenities\", y=\"price\", data=listings, ax=ax, agg_rule=\"median\")"
   ]
  },
  {
   "cell_type": "markdown",
   "metadata": {},
   "source": [
    "Let's group price into bins and see how behaviour is"
   ]
  },
  {
   "cell_type": "code",
   "execution_count": null,
   "metadata": {},
   "outputs": [],
   "source": [
    "bins = list(range(0,100, 5))\n",
    "listings['amenities_binned'] = pd.cut(listings['num_amenities'], bins)"
   ]
  },
  {
   "cell_type": "code",
   "execution_count": null,
   "metadata": {},
   "outputs": [],
   "source": [
    "f, ax = plt.subplots(1,1,figsize=(18, 8))\n",
    "g = plot_box(x=\"amenities_binned\", y=\"price\", data=listings, ax=ax, agg_rule=\"median\",\n",
    "            title=\"Price change over number of amenities listed\",\n",
    "            xlabel=\"Number of amenities\", ylabel=\"Price of listing\")"
   ]
  },
  {
   "cell_type": "markdown",
   "metadata": {},
   "source": [
    "# Accommodates "
   ]
  },
  {
   "cell_type": "markdown",
   "metadata": {},
   "source": [
    "Does the price vary significantly as accommodation increases?"
   ]
  },
  {
   "cell_type": "code",
   "execution_count": null,
   "metadata": {},
   "outputs": [],
   "source": [
    "f, ax = plt.subplots(1,1,figsize=(15, 12))\n",
    "g = plot_box(x=\"accommodates\", y=\"price\", data=listings, ax=ax, agg_rule=\"median\", title=\"Price variation over number of people accommodated\", xlabel=\"accommodates\", ylabel=\"price\")"
   ]
  },
  {
   "cell_type": "markdown",
   "metadata": {},
   "source": [
    "#  Bathrooms, Bedrooms and Beds"
   ]
  },
  {
   "cell_type": "markdown",
   "metadata": {},
   "source": [
    "Manhattan is definitely the most expensive."
   ]
  },
  {
   "cell_type": "code",
   "execution_count": null,
   "metadata": {},
   "outputs": [],
   "source": [
    "cols = [\"bathrooms\", \"bedrooms\", \"beds\"]\n",
    "listings[cols].describe()"
   ]
  },
  {
   "cell_type": "markdown",
   "metadata": {},
   "source": [
    "Bathrooms and bedrooms may not add as much value to the dataset when over 75% of the column is just 1. \n",
    "\n",
    "Beds can be filled with the median, 1.0"
   ]
  },
  {
   "cell_type": "markdown",
   "metadata": {},
   "source": [
    "# Security Deposit"
   ]
  },
  {
   "cell_type": "code",
   "execution_count": null,
   "metadata": {},
   "outputs": [],
   "source": [
    "listings['security_deposit'] = listings['security_deposit'].dropna(axis=0).str.strip('$').str.replace(',', '').astype('float')"
   ]
  },
  {
   "cell_type": "code",
   "execution_count": null,
   "metadata": {},
   "outputs": [],
   "source": [
    "tmp = listings[[\"price\", \"security_deposit\"]]\n",
    "tmp = tmp.dropna()\n",
    "tmp.corr()"
   ]
  },
  {
   "cell_type": "code",
   "execution_count": null,
   "metadata": {},
   "outputs": [],
   "source": [
    "f, ax = plt.subplots(1, 1, figsize=(25, 8))\n",
    "sns.distplot(tmp[\"price\"], ax=ax, hist=False, kde=True, color=\"blue\")\n",
    "sns.distplot(tmp[\"security_deposit\"], ax=ax, hist=False, kde=True, color=\"green\")"
   ]
  },
  {
   "cell_type": "markdown",
   "metadata": {},
   "source": [
    "Definitely have to fill with median. Nothing else can really help over here."
   ]
  },
  {
   "cell_type": "markdown",
   "metadata": {},
   "source": [
    "# Cleaning Fee"
   ]
  },
  {
   "cell_type": "code",
   "execution_count": null,
   "metadata": {},
   "outputs": [],
   "source": [
    "listings['cleaning_fee'] = listings['cleaning_fee'].str.strip('$').str.replace(',', '').astype('float')"
   ]
  },
  {
   "cell_type": "code",
   "execution_count": null,
   "metadata": {},
   "outputs": [],
   "source": [
    "tmp = listings[[\"price\", \"cleaning_fee\"]]\n",
    "tmp = tmp.dropna()\n",
    "tmp.corr()"
   ]
  },
  {
   "cell_type": "code",
   "execution_count": null,
   "metadata": {},
   "outputs": [],
   "source": [
    "f, ax = plt.subplots(1, 1, figsize=(25, 8))\n",
    "sns.distplot(tmp[\"price\"], ax=ax, hist=True, kde=False)\n",
    "sns.distplot(tmp[\"cleaning_fee\"], ax=ax, hist=True, kde=False, color=\"green\")"
   ]
  },
  {
   "cell_type": "markdown",
   "metadata": {},
   "source": [
    "Definitely have to fill with median. Nothing else can really help over here."
   ]
  },
  {
   "cell_type": "markdown",
   "metadata": {},
   "source": [
    "# Neighbourhood Group"
   ]
  },
  {
   "cell_type": "code",
   "execution_count": null,
   "metadata": {},
   "outputs": [],
   "source": [
    "listings[\"neighbourhood_group_cleansed\"].unique()"
   ]
  },
  {
   "cell_type": "code",
   "execution_count": null,
   "metadata": {
    "scrolled": false
   },
   "outputs": [],
   "source": [
    "f, ax = plt.subplots(1,3,figsize=(30, 8))\n",
    "g = sns.violinplot(x=\"neighbourhood_group_cleansed\", y=\"price\", data=listings, ax=ax[0])\n",
    "t = g.set_title(\"Price vs.Neighbourhood Group\")\n",
    "t = g.set_ylabel(\"Price\")\n",
    "t = g.set_xlabel(\"Neighbourhood Group\")\n",
    "matching_ylim = g.get_ylim()\n",
    "g = sns.boxplot(x=\"neighbourhood_group_cleansed\", y=\"security_deposit\", data=listings, ax=ax[1])\n",
    "t = g.set_title(\"Neighbourhood Group vs. Security Deposit\")\n",
    "t = g.set_ylim([0, 2000])\n",
    "g = sns.violinplot(x=\"neighbourhood_group_cleansed\", y=\"cleaning_fee\", data=listings, ax=ax[2])\n",
    "t = g.set_title(\"Neighbourhood Group vs. Cleaning Fee\")\n",
    "t = g.set_ylim(matching_ylim)"
   ]
  },
  {
   "cell_type": "markdown",
   "metadata": {},
   "source": [
    "# Property Type and Bedrooms"
   ]
  },
  {
   "cell_type": "markdown",
   "metadata": {},
   "source": [
    "Club the lower frequency elements together"
   ]
  },
  {
   "cell_type": "code",
   "execution_count": null,
   "metadata": {},
   "outputs": [],
   "source": [
    "strings = (\"Apartment\", \"House\", \"Townhouse\", \"Loft\", \"Condominium\", \"Serviced apartment\")\n",
    "apartment_list = list([])\n",
    "for line in listings['property_type']:\n",
    "    if any(s in line for s in strings):\n",
    "        apartment_list.append('yes')\n",
    "    else:\n",
    "        apartment_list.append('no')\n",
    "\n",
    "listings['prop'] = apartment_list\n",
    "listings.loc[listings['prop'] == 'no', 'property_type'] = 'Other'\n",
    "listings.loc[listings['property_type'] == 'Houseboat', 'property_type'] = 'Other'\n",
    "listings.drop(['prop'], axis=1, inplace=True)"
   ]
  },
  {
   "cell_type": "code",
   "execution_count": null,
   "metadata": {},
   "outputs": [],
   "source": [
    "f, ax = plt.subplots(1,2,figsize=(25, 10))\n",
    "plot_box(x=\"bedrooms\", y=\"price\", data=listings, agg_rule=\"median\", ax=ax[0], title=\"price vs Bedrooms\")\n",
    "g = sns.violinplot(x=\"property_type\", y=\"price\", data=listings, ax=ax[1])\n",
    "ty = g.set(title=\"Price vs Property Type\")\n",
    "t = g.set_ylabel(\"Price\")\n",
    "t = g.set_xlabel(\"Property Type\")"
   ]
  },
  {
   "cell_type": "code",
   "execution_count": null,
   "metadata": {},
   "outputs": [],
   "source": [
    "f, ax = plt.subplots(1,2,figsize=(30, 8))\n",
    "plot_box(x=\"bedrooms\", y=\"security_deposit\", data=listings, agg_rule=\"median\", ax=ax[0], ylim=2000, title=\"Security Deposit vs Bedrooms\")\n",
    "g = sns.boxplot(x=\"property_type\", y=\"security_deposit\", data=listings, ax=ax[1])\n",
    "g.set(title=\"Security deposit vs Property Type\")\n",
    "yl = g.set_ylim(0,2000)"
   ]
  },
  {
   "cell_type": "code",
   "execution_count": null,
   "metadata": {},
   "outputs": [],
   "source": [
    "f, ax = plt.subplots(1,2,figsize=(30, 8))\n",
    "plot_box(x=\"bedrooms\", y=\"cleaning_fee\", data=listings, agg_rule=\"median\", ax=ax[0], title=\"cleaning_fee vs Bedrooms\")\n",
    "g = sns.boxplot(x=\"property_type\", y=\"cleaning_fee\", data=listings, ax=ax[1])\n",
    "g.set(title=\"cleaning_fee vs Property Type\")\n",
    "yl = g.set_ylim(0,500)"
   ]
  }
 ],
 "metadata": {
  "kernelspec": {
   "display_name": "Python 3",
   "language": "python",
   "name": "python3"
  },
  "language_info": {
   "codemirror_mode": {
    "name": "ipython",
    "version": 3
   },
   "file_extension": ".py",
   "mimetype": "text/x-python",
   "name": "python",
   "nbconvert_exporter": "python",
   "pygments_lexer": "ipython3",
   "version": "3.7.2"
  }
 },
 "nbformat": 4,
 "nbformat_minor": 2
}
