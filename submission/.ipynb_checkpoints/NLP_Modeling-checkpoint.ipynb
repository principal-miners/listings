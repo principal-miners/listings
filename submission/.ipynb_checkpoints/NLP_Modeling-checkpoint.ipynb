{
 "cells": [
  {
   "cell_type": "code",
   "execution_count": 1,
   "metadata": {},
   "outputs": [],
   "source": [
    "import pandas as pd\n",
    "import numpy as np\n",
    "import matplotlib.pyplot as plt\n",
    "%matplotlib inline"
   ]
  },
  {
   "cell_type": "code",
   "execution_count": 9,
   "metadata": {},
   "outputs": [
    {
     "name": "stderr",
     "output_type": "stream",
     "text": [
      "/home/twang/anaconda3/lib/python3.6/site-packages/IPython/core/interactiveshell.py:3020: DtypeWarning: Columns (61,87,88) have mixed types. Specify dtype option on import or set low_memory=False.\n",
      "  interactivity=interactivity, compiler=compiler, result=result)\n"
     ]
    }
   ],
   "source": [
    "data = pd.read_csv('data/listings.csv')"
   ]
  },
  {
   "cell_type": "code",
   "execution_count": 29,
   "metadata": {},
   "outputs": [],
   "source": [
    "# Concat text columns\n",
    "text = data[['name', 'summary', 'description']].astype('U').apply(lambda x: \" \".join(x), axis=1)"
   ]
  },
  {
   "cell_type": "code",
   "execution_count": 31,
   "metadata": {},
   "outputs": [],
   "source": [
    "# Clean text, get rid of punctuations and numbers, and lower letter case\n",
    "from nltk.corpus import stopwords \n",
    "stop_words = set(stopwords.words('english')) \n",
    "\n",
    "def Clean_text(str_input):\n",
    "    from re import sub\n",
    "    # from nltk.stem.porter import PorterStemmer\n",
    "    from string import punctuation\n",
    "    \n",
    "    # Remove punctuations\n",
    "    str_input = ''.join((char for char in str_input if char not in punctuation))\n",
    "    \n",
    "    # Remove any word containing a number (of which there are many)\n",
    "    words = sub(u'(?ui)\\\\b[a-zA-Z0-9]*[0-9]+[a-zA-Z0-9]*\\\\b', \" \", str_input).lower().split()\n",
    "    \n",
    "    # porter_stemmer=PorterStemmer()\n",
    "    # words = [porter_stemmer.stem(word) for word in words if not word in stop_words]\n",
    "    return \" \".join(word for word in words if not word in stop_words)"
   ]
  },
  {
   "cell_type": "code",
   "execution_count": 32,
   "metadata": {},
   "outputs": [],
   "source": [
    "text=text.apply(Clean_text)"
   ]
  },
  {
   "cell_type": "code",
   "execution_count": 41,
   "metadata": {},
   "outputs": [],
   "source": [
    "# Vectorize using tfidf\n",
    "\n",
    "from sklearn.decomposition import TruncatedSVD\n",
    "from sklearn.feature_extraction.text import TfidfVectorizer\n",
    "from sklearn.pipeline import make_pipeline\n",
    "\n",
    "tfidf = TfidfVectorizer(max_df=0.9, \\\n",
    "                             min_df=0.01,\\\n",
    "                             ngram_range=(1,3))\n",
    "svd = TruncatedSVD(n_components=100)\n",
    "pipeline = make_pipeline(tfidf, svd)\n"
   ]
  },
  {
   "cell_type": "code",
   "execution_count": 43,
   "metadata": {},
   "outputs": [],
   "source": [
    "text_vec = pipeline.fit_transform(text)"
   ]
  },
  {
   "cell_type": "code",
   "execution_count": 109,
   "metadata": {},
   "outputs": [],
   "source": [
    "text_vec_df = pd.DataFrame(text_vec, index=data.id)"
   ]
  },
  {
   "cell_type": "code",
   "execution_count": 49,
   "metadata": {},
   "outputs": [],
   "source": [
    "# Now, lets select dimensions most correlated with \n",
    "\n",
    "prices = data.price.apply(lambda x: np.NaN if x == 'NaN' else float(str(x).lstrip('$').replace(',', '')))"
   ]
  },
  {
   "cell_type": "code",
   "execution_count": 125,
   "metadata": {},
   "outputs": [],
   "source": [
    "corrs = []\n",
    "\n",
    "for column in text_vec_df:\n",
    "    corrs.append((column, np.corrcoef(text_vec_df[column], prices)[0,1]))"
   ]
  },
  {
   "cell_type": "code",
   "execution_count": 126,
   "metadata": {
    "scrolled": true
   },
   "outputs": [
    {
     "data": {
      "text/plain": [
       "[(0, -0.06648791206665025),\n",
       " (1, -0.028831301490426873),\n",
       " (2, 0.1376116399887893),\n",
       " (3, -0.14064679796341056),\n",
       " (4, -0.015045949884558632),\n",
       " (5, -0.017338075788816746),\n",
       " (6, -0.15018636924743195),\n",
       " (7, -0.03251137010051627),\n",
       " (8, -0.03402721371523929),\n",
       " (9, 0.002502574276354029),\n",
       " (10, -0.017603960019613424),\n",
       " (11, -0.012825034604486103),\n",
       " (12, 0.015011891979576192),\n",
       " (13, -0.008502979562095274),\n",
       " (14, -0.021421223808995887),\n",
       " (15, 0.08916933204700668),\n",
       " (16, 0.03600523544519698),\n",
       " (17, 0.05221572799303739),\n",
       " (18, 0.07873021129446113),\n",
       " (19, 0.011867421119916746),\n",
       " (20, 0.050264781453772285),\n",
       " (21, 0.016328650401338),\n",
       " (22, -0.023041526614087107),\n",
       " (23, 0.007163785092989041),\n",
       " (24, -0.05372302180046413),\n",
       " (25, 0.028769593114069476),\n",
       " (26, -0.002068799053746501),\n",
       " (27, -0.04916627297359621),\n",
       " (28, -0.0004196683923920686),\n",
       " (29, -0.02974407472508948),\n",
       " (30, -0.007991298003364173),\n",
       " (31, -0.04840642745832762),\n",
       " (32, -0.01297797239798859),\n",
       " (33, 0.01077324704680081),\n",
       " (34, -0.005706772667570209),\n",
       " (35, -0.01297813348984873),\n",
       " (36, 0.018010278946382637),\n",
       " (37, 0.025920769912921828),\n",
       " (38, -0.032771052078919144),\n",
       " (39, 0.04263869690905868),\n",
       " (40, -0.008555313194179646),\n",
       " (41, -0.009311971328155018),\n",
       " (42, -0.017734121126540513),\n",
       " (43, 0.039781485148615466),\n",
       " (44, -0.018513620658297248),\n",
       " (45, 0.017864244542088334),\n",
       " (46, -0.012827968751135026),\n",
       " (47, -0.019639043877067296),\n",
       " (48, -0.000274989709712092),\n",
       " (49, 0.003116213590060039),\n",
       " (50, -0.017844624664323655),\n",
       " (51, 0.0033172822112238287),\n",
       " (52, -0.00729603234959022),\n",
       " (53, 0.0034372776058483835),\n",
       " (54, -0.004416926371662354),\n",
       " (55, 0.012699537417123643),\n",
       " (56, 2.5398855462708548e-05),\n",
       " (57, 0.006836692066396786),\n",
       " (58, -0.008202598082885747),\n",
       " (59, 0.005711089332491095),\n",
       " (60, 0.015289223272587133),\n",
       " (61, -0.04557676220467689),\n",
       " (62, 0.01693496495356078),\n",
       " (63, -0.004650687103149484),\n",
       " (64, -0.011553471752620758),\n",
       " (65, 0.009768059169967378),\n",
       " (66, 0.0015324943957154872),\n",
       " (67, 0.005447986580645949),\n",
       " (68, 0.007896862221087798),\n",
       " (69, -0.01730925919421424),\n",
       " (70, -0.013634636901016515),\n",
       " (71, 0.020608677065321896),\n",
       " (72, -0.008885662358524699),\n",
       " (73, 0.03014363249498105),\n",
       " (74, 0.013021317046995239),\n",
       " (75, 0.0029194679646748693),\n",
       " (76, 0.03099588240061504),\n",
       " (77, 0.0019203389102928113),\n",
       " (78, 0.003238007200361227),\n",
       " (79, 0.011908471312451475),\n",
       " (80, 0.00878500281505807),\n",
       " (81, -0.01667386515684004),\n",
       " (82, -0.015287268522483397),\n",
       " (83, 5.45577393077286e-05),\n",
       " (84, 0.01978257475373329),\n",
       " (85, 0.012114297425879194),\n",
       " (86, -0.028703620400704382),\n",
       " (87, 0.0008104411641023274),\n",
       " (88, 0.007599272956793026),\n",
       " (89, 7.406307679533199e-05),\n",
       " (90, -0.02606473509478068),\n",
       " (91, 0.008392008271182852),\n",
       " (92, -0.002309504372035838),\n",
       " (93, -0.019265610817757725),\n",
       " (94, -0.011504048209485333),\n",
       " (95, -0.0027087935992170537),\n",
       " (96, -0.0009602331902111419),\n",
       " (97, 0.00042031738359810594),\n",
       " (98, -0.013961887889297671),\n",
       " (99, 0.003311598358716396)]"
      ]
     },
     "execution_count": 126,
     "metadata": {},
     "output_type": "execute_result"
    }
   ],
   "source": [
    "corrs"
   ]
  },
  {
   "cell_type": "code",
   "execution_count": 127,
   "metadata": {
    "scrolled": true
   },
   "outputs": [],
   "source": [
    "# Take the top 10 most correlated columns by absolute value\n",
    "best_cols = [item[0] for item in sorted([(item[0], abs(item[1])) for item in corrs], key = lambda x: x[1], reverse=True)[:10]]"
   ]
  },
  {
   "cell_type": "code",
   "execution_count": 128,
   "metadata": {},
   "outputs": [
    {
     "data": {
      "text/plain": [
       "[6, 3, 2, 15, 18, 0, 24, 17, 20, 27]"
      ]
     },
     "execution_count": 128,
     "metadata": {},
     "output_type": "execute_result"
    }
   ],
   "source": [
    "best_cols"
   ]
  },
  {
   "cell_type": "markdown",
   "metadata": {},
   "source": [
    "__________________\n",
    "\n",
    "### Quick analysis of the most useful dimensions of svd\n",
    "\n",
    "\n",
    "**NOTE**: Check with people knowledgeable with the matter.  I am not sure what is the correct interpretation of weights in a factor."
   ]
  },
  {
   "cell_type": "code",
   "execution_count": 102,
   "metadata": {},
   "outputs": [],
   "source": [
    "vocab = [item[0] for item in sorted(tfidf.vocabulary_.items(), key = operator.itemgetter(1))]"
   ]
  },
  {
   "cell_type": "code",
   "execution_count": 131,
   "metadata": {},
   "outputs": [],
   "source": [
    "# The best column has over 0.1 correlation\n",
    "voc_weight_6 = sorted(zip(vocab, svd.components_[6,:]), key = lambda x:x[1], reverse=True)"
   ]
  },
  {
   "cell_type": "code",
   "execution_count": 135,
   "metadata": {
    "scrolled": true
   },
   "outputs": [
    {
     "data": {
      "text/plain": [
       "[('center', -0.07272840672472593),\n",
       " ('high', -0.07314626498261155),\n",
       " ('brownstone', -0.07491977130806952),\n",
       " ('studio', -0.0783623473510409),\n",
       " ('beautiful', -0.08270145726799635),\n",
       " ('luxury', -0.08282724873363825),\n",
       " ('garden', -0.08313558721756222),\n",
       " ('new york city', -0.08584393989391555),\n",
       " ('york city', -0.08585334043852712),\n",
       " ('views', -0.09038845236272569),\n",
       " ('building', -0.09170300233121975),\n",
       " ('modern', -0.09791023397410266),\n",
       " ('city', -0.09839316504879354),\n",
       " ('prospect park', -0.10030319935963242),\n",
       " ('prospect', -0.12129553554707352),\n",
       " ('loft', -0.12883929977176176),\n",
       " ('new york', -0.15294873544812715),\n",
       " ('york', -0.1537952360737561),\n",
       " ('new', -0.20245435856556063),\n",
       " ('brooklyn', -0.23794178814603853)]"
      ]
     },
     "execution_count": 135,
     "metadata": {},
     "output_type": "execute_result"
    }
   ],
   "source": [
    "voc_weight_6[-20:]"
   ]
  },
  {
   "cell_type": "code",
   "execution_count": 141,
   "metadata": {},
   "outputs": [],
   "source": [
    "# Top 20 words by weight\n",
    "vocab_weights = []\n",
    "\n",
    "for col in best_cols:\n",
    "    vocab_weights.append(sorted(zip(vocab, svd.components_[col,:]), key = lambda x:x[1], reverse=True))"
   ]
  },
  {
   "cell_type": "markdown",
   "metadata": {},
   "source": [
    "Hopefully from the loadings in these best factors we can gain insight into what makes an apartment pricey.\n",
    "\n",
    "______________________________"
   ]
  },
  {
   "cell_type": "code",
   "execution_count": 142,
   "metadata": {},
   "outputs": [],
   "source": [
    "# Select best columns\n",
    "text_vec_df = text_vec_df[best_cols]"
   ]
  },
  {
   "cell_type": "code",
   "execution_count": 143,
   "metadata": {},
   "outputs": [],
   "source": [
    "text_vec_df.columns = ['descVec_'+str(x) for x in best_cols]"
   ]
  },
  {
   "cell_type": "code",
   "execution_count": 162,
   "metadata": {},
   "outputs": [],
   "source": [
    "# Join to cleaned dataset\n",
    "cleaned_data = pd.read_csv('data/cleaned_with_nlp_listings_2.csv')"
   ]
  },
  {
   "cell_type": "code",
   "execution_count": 146,
   "metadata": {},
   "outputs": [],
   "source": [
    "cleaned_with_desc = pd.merge(cleaned_data, text_vec_df.reset_index(), on='id', how='left')"
   ]
  },
  {
   "cell_type": "code",
   "execution_count": 147,
   "metadata": {
    "scrolled": true
   },
   "outputs": [
    {
     "data": {
      "text/plain": [
       "id                                     0\n",
       "host_response_rate                     0\n",
       "host_is_superhost                      0\n",
       "host_listings_count                    0\n",
       "host_total_listings_count              0\n",
       "host_has_profile_pic                   0\n",
       "host_identity_verified                 0\n",
       "is_location_exact                      0\n",
       "accommodates                           0\n",
       "bathrooms                              0\n",
       "bedrooms                               0\n",
       "beds                                   0\n",
       "price                                  0\n",
       "security_deposit                       0\n",
       "cleaning_fee                           0\n",
       "guests_included                        0\n",
       "extra_people                           0\n",
       "minimum_nights                         0\n",
       "maximum_nights                         0\n",
       "minimum_minimum_nights                 0\n",
       "maximum_minimum_nights                 0\n",
       "minimum_maximum_nights                 0\n",
       "maximum_maximum_nights                 0\n",
       "minimum_nights_avg_ntm                 0\n",
       "maximum_nights_avg_ntm                 0\n",
       "availability_30                        0\n",
       "availability_60                        0\n",
       "availability_90                        0\n",
       "availability_365                       0\n",
       "number_of_reviews                      0\n",
       "                                    ... \n",
       "property_type_Condominium              0\n",
       "property_type_House                    0\n",
       "property_type_Loft                     0\n",
       "property_type_Other                    0\n",
       "property_type_Serviced apartment       0\n",
       "property_type_Townhouse                0\n",
       "room_type_Private room                 0\n",
       "room_type_Shared room                  0\n",
       "bed_type_Couch                         0\n",
       "bed_type_Futon                         0\n",
       "bed_type_Pull-out Sofa                 0\n",
       "bed_type_Real Bed                      0\n",
       "cancellation_policy_moderate           0\n",
       "cancellation_policy_strict             0\n",
       "topic_0                                0\n",
       "topic_1                                0\n",
       "topic_2                                0\n",
       "topic_3                                0\n",
       "topic_4                                0\n",
       "topic_5                                0\n",
       "descVec_6                           3590\n",
       "descVec_3                           3590\n",
       "descVec_2                           3590\n",
       "descVec_15                          3590\n",
       "descVec_18                          3590\n",
       "descVec_0                           3590\n",
       "descVec_24                          3590\n",
       "descVec_17                          3590\n",
       "descVec_20                          3590\n",
       "descVec_27                          3590\n",
       "Length: 97, dtype: int64"
      ]
     },
     "execution_count": 147,
     "metadata": {},
     "output_type": "execute_result"
    }
   ],
   "source": [
    "cleaned_with_desc.isnull().sum()"
   ]
  },
  {
   "cell_type": "code",
   "execution_count": 151,
   "metadata": {},
   "outputs": [
    {
     "name": "stdout",
     "output_type": "stream",
     "text": [
      "Imputing row 1/39926 with 10 missing, elapsed time: 524.312\n",
      "Imputing row 101/39926 with 0 missing, elapsed time: 524.319\n",
      "Imputing row 201/39926 with 0 missing, elapsed time: 524.324\n",
      "Imputing row 301/39926 with 0 missing, elapsed time: 524.328\n",
      "Imputing row 401/39926 with 0 missing, elapsed time: 524.334\n",
      "Imputing row 501/39926 with 0 missing, elapsed time: 524.343\n",
      "Imputing row 601/39926 with 0 missing, elapsed time: 524.350\n",
      "Imputing row 701/39926 with 0 missing, elapsed time: 524.354\n",
      "Imputing row 801/39926 with 0 missing, elapsed time: 524.359\n",
      "Imputing row 901/39926 with 0 missing, elapsed time: 524.363\n",
      "Imputing row 1001/39926 with 0 missing, elapsed time: 524.365\n",
      "Imputing row 1101/39926 with 0 missing, elapsed time: 524.372\n",
      "Imputing row 1201/39926 with 0 missing, elapsed time: 524.374\n",
      "Imputing row 1301/39926 with 0 missing, elapsed time: 524.383\n",
      "Imputing row 1401/39926 with 0 missing, elapsed time: 524.387\n",
      "Imputing row 1501/39926 with 0 missing, elapsed time: 524.391\n",
      "Imputing row 1601/39926 with 0 missing, elapsed time: 524.398\n",
      "Imputing row 1701/39926 with 0 missing, elapsed time: 524.404\n",
      "Imputing row 1801/39926 with 10 missing, elapsed time: 524.406\n",
      "Imputing row 1901/39926 with 0 missing, elapsed time: 524.413\n",
      "Imputing row 2001/39926 with 0 missing, elapsed time: 524.418\n",
      "Imputing row 2101/39926 with 10 missing, elapsed time: 524.423\n",
      "Imputing row 2201/39926 with 0 missing, elapsed time: 524.430\n",
      "Imputing row 2301/39926 with 0 missing, elapsed time: 524.435\n",
      "Imputing row 2401/39926 with 0 missing, elapsed time: 524.443\n",
      "Imputing row 2501/39926 with 0 missing, elapsed time: 524.446\n",
      "Imputing row 2601/39926 with 0 missing, elapsed time: 524.452\n",
      "Imputing row 2701/39926 with 0 missing, elapsed time: 524.458\n",
      "Imputing row 2801/39926 with 0 missing, elapsed time: 524.461\n",
      "Imputing row 2901/39926 with 0 missing, elapsed time: 524.464\n",
      "Imputing row 3001/39926 with 10 missing, elapsed time: 524.469\n",
      "Imputing row 3101/39926 with 0 missing, elapsed time: 524.477\n",
      "Imputing row 3201/39926 with 0 missing, elapsed time: 524.481\n",
      "Imputing row 3301/39926 with 0 missing, elapsed time: 524.484\n",
      "Imputing row 3401/39926 with 0 missing, elapsed time: 524.487\n",
      "Imputing row 3501/39926 with 0 missing, elapsed time: 524.494\n",
      "Imputing row 3601/39926 with 0 missing, elapsed time: 524.499\n",
      "Imputing row 3701/39926 with 0 missing, elapsed time: 524.502\n",
      "Imputing row 3801/39926 with 0 missing, elapsed time: 524.505\n",
      "Imputing row 3901/39926 with 0 missing, elapsed time: 524.510\n",
      "Imputing row 4001/39926 with 0 missing, elapsed time: 524.517\n",
      "Imputing row 4101/39926 with 0 missing, elapsed time: 524.521\n",
      "Imputing row 4201/39926 with 0 missing, elapsed time: 524.525\n",
      "Imputing row 4301/39926 with 0 missing, elapsed time: 524.526\n",
      "Imputing row 4401/39926 with 0 missing, elapsed time: 524.528\n",
      "Imputing row 4501/39926 with 0 missing, elapsed time: 524.535\n",
      "Imputing row 4601/39926 with 0 missing, elapsed time: 524.536\n",
      "Imputing row 4701/39926 with 0 missing, elapsed time: 524.539\n",
      "Imputing row 4801/39926 with 0 missing, elapsed time: 524.546\n",
      "Imputing row 4901/39926 with 0 missing, elapsed time: 524.551\n",
      "Imputing row 5001/39926 with 0 missing, elapsed time: 524.554\n",
      "Imputing row 5101/39926 with 0 missing, elapsed time: 524.559\n",
      "Imputing row 5201/39926 with 0 missing, elapsed time: 524.561\n",
      "Imputing row 5301/39926 with 0 missing, elapsed time: 524.565\n",
      "Imputing row 5401/39926 with 0 missing, elapsed time: 524.569\n",
      "Imputing row 5501/39926 with 0 missing, elapsed time: 524.575\n",
      "Imputing row 5601/39926 with 0 missing, elapsed time: 524.583\n",
      "Imputing row 5701/39926 with 0 missing, elapsed time: 524.588\n",
      "Imputing row 5801/39926 with 0 missing, elapsed time: 524.591\n",
      "Imputing row 5901/39926 with 0 missing, elapsed time: 524.596\n",
      "Imputing row 6001/39926 with 0 missing, elapsed time: 524.600\n",
      "Imputing row 6101/39926 with 0 missing, elapsed time: 524.603\n",
      "Imputing row 6201/39926 with 0 missing, elapsed time: 524.607\n",
      "Imputing row 6301/39926 with 0 missing, elapsed time: 524.610\n",
      "Imputing row 6401/39926 with 0 missing, elapsed time: 524.613\n",
      "Imputing row 6501/39926 with 0 missing, elapsed time: 524.615\n",
      "Imputing row 6601/39926 with 0 missing, elapsed time: 524.618\n",
      "Imputing row 6701/39926 with 0 missing, elapsed time: 524.628\n",
      "Imputing row 6801/39926 with 0 missing, elapsed time: 524.636\n",
      "Imputing row 6901/39926 with 0 missing, elapsed time: 524.642\n",
      "Imputing row 7001/39926 with 0 missing, elapsed time: 524.647\n",
      "Imputing row 7101/39926 with 0 missing, elapsed time: 524.650\n",
      "Imputing row 7201/39926 with 0 missing, elapsed time: 524.655\n",
      "Imputing row 7301/39926 with 0 missing, elapsed time: 524.660\n",
      "Imputing row 7401/39926 with 0 missing, elapsed time: 524.669\n",
      "Imputing row 7501/39926 with 0 missing, elapsed time: 524.672\n",
      "Imputing row 7601/39926 with 0 missing, elapsed time: 524.677\n",
      "Imputing row 7701/39926 with 0 missing, elapsed time: 524.680\n",
      "Imputing row 7801/39926 with 10 missing, elapsed time: 524.685\n",
      "Imputing row 7901/39926 with 0 missing, elapsed time: 524.689\n",
      "Imputing row 8001/39926 with 0 missing, elapsed time: 524.690\n",
      "Imputing row 8101/39926 with 0 missing, elapsed time: 524.693\n",
      "Imputing row 8201/39926 with 0 missing, elapsed time: 524.695\n",
      "Imputing row 8301/39926 with 10 missing, elapsed time: 524.699\n",
      "Imputing row 8401/39926 with 0 missing, elapsed time: 524.701\n",
      "Imputing row 8501/39926 with 0 missing, elapsed time: 524.707\n",
      "Imputing row 8601/39926 with 0 missing, elapsed time: 524.710\n",
      "Imputing row 8701/39926 with 0 missing, elapsed time: 524.714\n",
      "Imputing row 8801/39926 with 0 missing, elapsed time: 524.716\n",
      "Imputing row 8901/39926 with 0 missing, elapsed time: 524.722\n",
      "Imputing row 9001/39926 with 0 missing, elapsed time: 524.728\n",
      "Imputing row 9101/39926 with 0 missing, elapsed time: 524.731\n",
      "Imputing row 9201/39926 with 0 missing, elapsed time: 524.737\n",
      "Imputing row 9301/39926 with 0 missing, elapsed time: 524.739\n",
      "Imputing row 9401/39926 with 0 missing, elapsed time: 524.741\n",
      "Imputing row 9501/39926 with 0 missing, elapsed time: 524.744\n",
      "Imputing row 9601/39926 with 0 missing, elapsed time: 524.746\n",
      "Imputing row 9701/39926 with 0 missing, elapsed time: 524.753\n",
      "Imputing row 9801/39926 with 0 missing, elapsed time: 524.755\n",
      "Imputing row 9901/39926 with 10 missing, elapsed time: 524.755\n",
      "Imputing row 10001/39926 with 0 missing, elapsed time: 524.760\n",
      "Imputing row 10101/39926 with 0 missing, elapsed time: 524.765\n",
      "Imputing row 10201/39926 with 0 missing, elapsed time: 524.768\n",
      "Imputing row 10301/39926 with 0 missing, elapsed time: 524.772\n",
      "Imputing row 10401/39926 with 0 missing, elapsed time: 524.776\n",
      "Imputing row 10501/39926 with 0 missing, elapsed time: 524.779\n",
      "Imputing row 10601/39926 with 0 missing, elapsed time: 524.784\n",
      "Imputing row 10701/39926 with 0 missing, elapsed time: 524.784\n",
      "Imputing row 10801/39926 with 0 missing, elapsed time: 524.790\n",
      "Imputing row 10901/39926 with 0 missing, elapsed time: 524.793\n",
      "Imputing row 11001/39926 with 0 missing, elapsed time: 524.799\n",
      "Imputing row 11101/39926 with 0 missing, elapsed time: 524.801\n",
      "Imputing row 11201/39926 with 0 missing, elapsed time: 524.808\n",
      "Imputing row 11301/39926 with 0 missing, elapsed time: 524.814\n",
      "Imputing row 11401/39926 with 0 missing, elapsed time: 524.816\n",
      "Imputing row 11501/39926 with 0 missing, elapsed time: 524.823\n",
      "Imputing row 11601/39926 with 0 missing, elapsed time: 524.826\n",
      "Imputing row 11701/39926 with 0 missing, elapsed time: 524.830\n",
      "Imputing row 11801/39926 with 0 missing, elapsed time: 524.832\n",
      "Imputing row 11901/39926 with 0 missing, elapsed time: 524.836\n",
      "Imputing row 12001/39926 with 0 missing, elapsed time: 524.838\n",
      "Imputing row 12101/39926 with 0 missing, elapsed time: 524.843\n",
      "Imputing row 12201/39926 with 0 missing, elapsed time: 524.846\n",
      "Imputing row 12301/39926 with 0 missing, elapsed time: 524.848\n",
      "Imputing row 12401/39926 with 0 missing, elapsed time: 524.853\n",
      "Imputing row 12501/39926 with 0 missing, elapsed time: 524.854\n",
      "Imputing row 12601/39926 with 0 missing, elapsed time: 524.855\n",
      "Imputing row 12701/39926 with 0 missing, elapsed time: 524.873\n",
      "Imputing row 12801/39926 with 0 missing, elapsed time: 524.875\n",
      "Imputing row 12901/39926 with 0 missing, elapsed time: 524.887\n",
      "Imputing row 13001/39926 with 0 missing, elapsed time: 524.892\n",
      "Imputing row 13101/39926 with 0 missing, elapsed time: 524.899\n",
      "Imputing row 13201/39926 with 0 missing, elapsed time: 524.902\n",
      "Imputing row 13301/39926 with 0 missing, elapsed time: 524.907\n",
      "Imputing row 13401/39926 with 0 missing, elapsed time: 524.910\n",
      "Imputing row 13501/39926 with 0 missing, elapsed time: 524.914\n",
      "Imputing row 13601/39926 with 0 missing, elapsed time: 524.917\n",
      "Imputing row 13701/39926 with 0 missing, elapsed time: 524.920\n"
     ]
    },
    {
     "name": "stdout",
     "output_type": "stream",
     "text": [
      "Imputing row 13801/39926 with 0 missing, elapsed time: 524.929\n",
      "Imputing row 13901/39926 with 0 missing, elapsed time: 524.940\n",
      "Imputing row 14001/39926 with 0 missing, elapsed time: 524.942\n",
      "Imputing row 14101/39926 with 0 missing, elapsed time: 524.947\n",
      "Imputing row 14201/39926 with 0 missing, elapsed time: 524.949\n",
      "Imputing row 14301/39926 with 0 missing, elapsed time: 524.957\n",
      "Imputing row 14401/39926 with 0 missing, elapsed time: 524.961\n",
      "Imputing row 14501/39926 with 0 missing, elapsed time: 524.966\n",
      "Imputing row 14601/39926 with 0 missing, elapsed time: 524.971\n",
      "Imputing row 14701/39926 with 0 missing, elapsed time: 524.979\n",
      "Imputing row 14801/39926 with 0 missing, elapsed time: 524.986\n",
      "Imputing row 14901/39926 with 0 missing, elapsed time: 524.989\n",
      "Imputing row 15001/39926 with 0 missing, elapsed time: 524.992\n",
      "Imputing row 15101/39926 with 0 missing, elapsed time: 524.999\n",
      "Imputing row 15201/39926 with 0 missing, elapsed time: 525.004\n",
      "Imputing row 15301/39926 with 0 missing, elapsed time: 525.009\n",
      "Imputing row 15401/39926 with 0 missing, elapsed time: 525.014\n",
      "Imputing row 15501/39926 with 0 missing, elapsed time: 525.022\n",
      "Imputing row 15601/39926 with 0 missing, elapsed time: 525.022\n",
      "Imputing row 15701/39926 with 0 missing, elapsed time: 525.028\n",
      "Imputing row 15801/39926 with 0 missing, elapsed time: 525.034\n",
      "Imputing row 15901/39926 with 0 missing, elapsed time: 525.038\n",
      "Imputing row 16001/39926 with 0 missing, elapsed time: 525.043\n",
      "Imputing row 16101/39926 with 0 missing, elapsed time: 525.045\n",
      "Imputing row 16201/39926 with 0 missing, elapsed time: 525.048\n",
      "Imputing row 16301/39926 with 0 missing, elapsed time: 525.054\n",
      "Imputing row 16401/39926 with 0 missing, elapsed time: 525.057\n",
      "Imputing row 16501/39926 with 0 missing, elapsed time: 525.059\n",
      "Imputing row 16601/39926 with 0 missing, elapsed time: 525.064\n",
      "Imputing row 16701/39926 with 0 missing, elapsed time: 525.075\n",
      "Imputing row 16801/39926 with 0 missing, elapsed time: 525.080\n",
      "Imputing row 16901/39926 with 0 missing, elapsed time: 525.085\n",
      "Imputing row 17001/39926 with 0 missing, elapsed time: 525.089\n",
      "Imputing row 17101/39926 with 0 missing, elapsed time: 525.092\n",
      "Imputing row 17201/39926 with 0 missing, elapsed time: 525.098\n",
      "Imputing row 17301/39926 with 0 missing, elapsed time: 525.106\n",
      "Imputing row 17401/39926 with 0 missing, elapsed time: 525.109\n",
      "Imputing row 17501/39926 with 0 missing, elapsed time: 525.114\n",
      "Imputing row 17601/39926 with 0 missing, elapsed time: 525.120\n",
      "Imputing row 17701/39926 with 0 missing, elapsed time: 525.126\n",
      "Imputing row 17801/39926 with 0 missing, elapsed time: 525.131\n",
      "Imputing row 17901/39926 with 0 missing, elapsed time: 525.139\n",
      "Imputing row 18001/39926 with 0 missing, elapsed time: 525.143\n",
      "Imputing row 18101/39926 with 0 missing, elapsed time: 525.147\n",
      "Imputing row 18201/39926 with 0 missing, elapsed time: 525.155\n",
      "Imputing row 18301/39926 with 0 missing, elapsed time: 525.162\n",
      "Imputing row 18401/39926 with 0 missing, elapsed time: 525.168\n",
      "Imputing row 18501/39926 with 0 missing, elapsed time: 525.178\n",
      "Imputing row 18601/39926 with 10 missing, elapsed time: 525.185\n",
      "Imputing row 18701/39926 with 0 missing, elapsed time: 525.194\n",
      "Imputing row 18801/39926 with 0 missing, elapsed time: 525.200\n",
      "Imputing row 18901/39926 with 0 missing, elapsed time: 525.204\n",
      "Imputing row 19001/39926 with 0 missing, elapsed time: 525.205\n",
      "Imputing row 19101/39926 with 0 missing, elapsed time: 525.209\n",
      "Imputing row 19201/39926 with 0 missing, elapsed time: 525.215\n",
      "Imputing row 19301/39926 with 0 missing, elapsed time: 525.219\n",
      "Imputing row 19401/39926 with 0 missing, elapsed time: 525.225\n",
      "Imputing row 19501/39926 with 0 missing, elapsed time: 525.232\n",
      "Imputing row 19601/39926 with 0 missing, elapsed time: 525.237\n",
      "Imputing row 19701/39926 with 0 missing, elapsed time: 525.243\n",
      "Imputing row 19801/39926 with 0 missing, elapsed time: 525.250\n",
      "Imputing row 19901/39926 with 0 missing, elapsed time: 525.258\n",
      "Imputing row 20001/39926 with 0 missing, elapsed time: 525.271\n",
      "Imputing row 20101/39926 with 10 missing, elapsed time: 525.280\n",
      "Imputing row 20201/39926 with 0 missing, elapsed time: 525.291\n",
      "Imputing row 20301/39926 with 0 missing, elapsed time: 525.295\n",
      "Imputing row 20401/39926 with 0 missing, elapsed time: 525.304\n",
      "Imputing row 20501/39926 with 0 missing, elapsed time: 525.307\n",
      "Imputing row 20601/39926 with 0 missing, elapsed time: 525.314\n",
      "Imputing row 20701/39926 with 0 missing, elapsed time: 525.321\n",
      "Imputing row 20801/39926 with 0 missing, elapsed time: 525.329\n",
      "Imputing row 20901/39926 with 0 missing, elapsed time: 525.339\n",
      "Imputing row 21001/39926 with 0 missing, elapsed time: 525.346\n",
      "Imputing row 21101/39926 with 0 missing, elapsed time: 525.352\n",
      "Imputing row 21201/39926 with 0 missing, elapsed time: 525.358\n",
      "Imputing row 21301/39926 with 0 missing, elapsed time: 525.363\n",
      "Imputing row 21401/39926 with 0 missing, elapsed time: 525.368\n",
      "Imputing row 21501/39926 with 0 missing, elapsed time: 525.373\n",
      "Imputing row 21601/39926 with 0 missing, elapsed time: 525.381\n",
      "Imputing row 21701/39926 with 0 missing, elapsed time: 525.383\n",
      "Imputing row 21801/39926 with 0 missing, elapsed time: 525.389\n",
      "Imputing row 21901/39926 with 0 missing, elapsed time: 525.393\n",
      "Imputing row 22001/39926 with 0 missing, elapsed time: 525.397\n",
      "Imputing row 22101/39926 with 0 missing, elapsed time: 525.400\n",
      "Imputing row 22201/39926 with 0 missing, elapsed time: 525.405\n",
      "Imputing row 22301/39926 with 0 missing, elapsed time: 525.411\n",
      "Imputing row 22401/39926 with 0 missing, elapsed time: 525.417\n",
      "Imputing row 22501/39926 with 0 missing, elapsed time: 525.425\n",
      "Imputing row 22601/39926 with 0 missing, elapsed time: 525.429\n",
      "Imputing row 22701/39926 with 0 missing, elapsed time: 525.435\n",
      "Imputing row 22801/39926 with 0 missing, elapsed time: 525.439\n",
      "Imputing row 22901/39926 with 0 missing, elapsed time: 525.442\n",
      "Imputing row 23001/39926 with 10 missing, elapsed time: 525.449\n",
      "Imputing row 23101/39926 with 0 missing, elapsed time: 525.452\n",
      "Imputing row 23201/39926 with 0 missing, elapsed time: 525.455\n",
      "Imputing row 23301/39926 with 0 missing, elapsed time: 525.462\n",
      "Imputing row 23401/39926 with 0 missing, elapsed time: 525.470\n",
      "Imputing row 23501/39926 with 0 missing, elapsed time: 525.473\n",
      "Imputing row 23601/39926 with 0 missing, elapsed time: 525.475\n",
      "Imputing row 23701/39926 with 0 missing, elapsed time: 525.484\n",
      "Imputing row 23801/39926 with 0 missing, elapsed time: 525.492\n",
      "Imputing row 23901/39926 with 0 missing, elapsed time: 525.495\n",
      "Imputing row 24001/39926 with 0 missing, elapsed time: 525.500\n",
      "Imputing row 24101/39926 with 0 missing, elapsed time: 525.505\n",
      "Imputing row 24201/39926 with 0 missing, elapsed time: 525.508\n",
      "Imputing row 24301/39926 with 0 missing, elapsed time: 525.513\n",
      "Imputing row 24401/39926 with 0 missing, elapsed time: 525.517\n",
      "Imputing row 24501/39926 with 0 missing, elapsed time: 525.523\n",
      "Imputing row 24601/39926 with 0 missing, elapsed time: 525.527\n",
      "Imputing row 24701/39926 with 0 missing, elapsed time: 525.531\n",
      "Imputing row 24801/39926 with 0 missing, elapsed time: 525.537\n",
      "Imputing row 24901/39926 with 0 missing, elapsed time: 525.543\n",
      "Imputing row 25001/39926 with 0 missing, elapsed time: 525.553\n",
      "Imputing row 25101/39926 with 0 missing, elapsed time: 525.559\n",
      "Imputing row 25201/39926 with 0 missing, elapsed time: 525.563\n",
      "Imputing row 25301/39926 with 0 missing, elapsed time: 525.569\n",
      "Imputing row 25401/39926 with 0 missing, elapsed time: 525.580\n",
      "Imputing row 25501/39926 with 0 missing, elapsed time: 525.581\n",
      "Imputing row 25601/39926 with 0 missing, elapsed time: 525.585\n",
      "Imputing row 25701/39926 with 0 missing, elapsed time: 525.593\n",
      "Imputing row 25801/39926 with 0 missing, elapsed time: 525.601\n",
      "Imputing row 25901/39926 with 0 missing, elapsed time: 525.604\n",
      "Imputing row 26001/39926 with 0 missing, elapsed time: 525.614\n",
      "Imputing row 26101/39926 with 0 missing, elapsed time: 525.619\n",
      "Imputing row 26201/39926 with 0 missing, elapsed time: 525.622\n",
      "Imputing row 26301/39926 with 0 missing, elapsed time: 525.629\n",
      "Imputing row 26401/39926 with 0 missing, elapsed time: 525.637\n",
      "Imputing row 26501/39926 with 0 missing, elapsed time: 525.643\n",
      "Imputing row 26601/39926 with 0 missing, elapsed time: 525.645\n",
      "Imputing row 26701/39926 with 0 missing, elapsed time: 525.651\n",
      "Imputing row 26801/39926 with 0 missing, elapsed time: 525.657\n",
      "Imputing row 26901/39926 with 0 missing, elapsed time: 525.665\n",
      "Imputing row 27001/39926 with 0 missing, elapsed time: 525.669\n",
      "Imputing row 27101/39926 with 0 missing, elapsed time: 525.674\n",
      "Imputing row 27201/39926 with 0 missing, elapsed time: 525.678\n",
      "Imputing row 27301/39926 with 0 missing, elapsed time: 525.683\n",
      "Imputing row 27401/39926 with 0 missing, elapsed time: 525.687\n",
      "Imputing row 27501/39926 with 0 missing, elapsed time: 525.695\n",
      "Imputing row 27601/39926 with 0 missing, elapsed time: 525.698\n",
      "Imputing row 27701/39926 with 0 missing, elapsed time: 525.709\n",
      "Imputing row 27801/39926 with 0 missing, elapsed time: 525.718\n",
      "Imputing row 27901/39926 with 0 missing, elapsed time: 525.729\n",
      "Imputing row 28001/39926 with 0 missing, elapsed time: 525.738\n"
     ]
    },
    {
     "name": "stdout",
     "output_type": "stream",
     "text": [
      "Imputing row 28101/39926 with 10 missing, elapsed time: 525.745\n",
      "Imputing row 28201/39926 with 0 missing, elapsed time: 525.758\n",
      "Imputing row 28301/39926 with 0 missing, elapsed time: 525.767\n",
      "Imputing row 28401/39926 with 0 missing, elapsed time: 525.772\n",
      "Imputing row 28501/39926 with 0 missing, elapsed time: 525.786\n",
      "Imputing row 28601/39926 with 10 missing, elapsed time: 525.790\n",
      "Imputing row 28701/39926 with 0 missing, elapsed time: 525.803\n",
      "Imputing row 28801/39926 with 0 missing, elapsed time: 525.815\n",
      "Imputing row 28901/39926 with 0 missing, elapsed time: 525.824\n",
      "Imputing row 29001/39926 with 10 missing, elapsed time: 525.829\n",
      "Imputing row 29101/39926 with 0 missing, elapsed time: 525.837\n",
      "Imputing row 29201/39926 with 0 missing, elapsed time: 525.845\n",
      "Imputing row 29301/39926 with 0 missing, elapsed time: 525.849\n",
      "Imputing row 29401/39926 with 0 missing, elapsed time: 525.854\n",
      "Imputing row 29501/39926 with 0 missing, elapsed time: 525.857\n",
      "Imputing row 29601/39926 with 0 missing, elapsed time: 525.864\n",
      "Imputing row 29701/39926 with 0 missing, elapsed time: 525.872\n",
      "Imputing row 29801/39926 with 0 missing, elapsed time: 525.879\n",
      "Imputing row 29901/39926 with 0 missing, elapsed time: 525.883\n",
      "Imputing row 30001/39926 with 0 missing, elapsed time: 525.893\n",
      "Imputing row 30101/39926 with 0 missing, elapsed time: 525.896\n",
      "Imputing row 30201/39926 with 0 missing, elapsed time: 525.904\n",
      "Imputing row 30301/39926 with 0 missing, elapsed time: 525.912\n",
      "Imputing row 30401/39926 with 0 missing, elapsed time: 525.924\n",
      "Imputing row 30501/39926 with 0 missing, elapsed time: 525.935\n",
      "Imputing row 30601/39926 with 10 missing, elapsed time: 525.939\n",
      "Imputing row 30701/39926 with 0 missing, elapsed time: 525.949\n",
      "Imputing row 30801/39926 with 0 missing, elapsed time: 525.957\n",
      "Imputing row 30901/39926 with 0 missing, elapsed time: 525.964\n",
      "Imputing row 31001/39926 with 0 missing, elapsed time: 525.969\n",
      "Imputing row 31101/39926 with 0 missing, elapsed time: 525.971\n",
      "Imputing row 31201/39926 with 0 missing, elapsed time: 525.975\n",
      "Imputing row 31301/39926 with 0 missing, elapsed time: 525.980\n",
      "Imputing row 31401/39926 with 0 missing, elapsed time: 525.992\n",
      "Imputing row 31501/39926 with 0 missing, elapsed time: 525.999\n",
      "Imputing row 31601/39926 with 0 missing, elapsed time: 526.008\n",
      "Imputing row 31701/39926 with 0 missing, elapsed time: 526.014\n",
      "Imputing row 31801/39926 with 0 missing, elapsed time: 526.024\n",
      "Imputing row 31901/39926 with 0 missing, elapsed time: 526.037\n",
      "Imputing row 32001/39926 with 0 missing, elapsed time: 526.040\n",
      "Imputing row 32101/39926 with 0 missing, elapsed time: 526.051\n",
      "Imputing row 32201/39926 with 10 missing, elapsed time: 526.058\n",
      "Imputing row 32301/39926 with 0 missing, elapsed time: 526.065\n",
      "Imputing row 32401/39926 with 0 missing, elapsed time: 526.072\n",
      "Imputing row 32501/39926 with 0 missing, elapsed time: 526.079\n",
      "Imputing row 32601/39926 with 0 missing, elapsed time: 526.092\n",
      "Imputing row 32701/39926 with 0 missing, elapsed time: 526.100\n",
      "Imputing row 32801/39926 with 0 missing, elapsed time: 526.106\n",
      "Imputing row 32901/39926 with 0 missing, elapsed time: 526.115\n",
      "Imputing row 33001/39926 with 0 missing, elapsed time: 526.126\n",
      "Imputing row 33101/39926 with 0 missing, elapsed time: 526.132\n",
      "Imputing row 33201/39926 with 0 missing, elapsed time: 526.138\n",
      "Imputing row 33301/39926 with 0 missing, elapsed time: 526.152\n",
      "Imputing row 33401/39926 with 0 missing, elapsed time: 526.160\n",
      "Imputing row 33501/39926 with 0 missing, elapsed time: 526.176\n",
      "Imputing row 33601/39926 with 0 missing, elapsed time: 526.184\n",
      "Imputing row 33701/39926 with 10 missing, elapsed time: 526.190\n",
      "Imputing row 33801/39926 with 0 missing, elapsed time: 526.202\n",
      "Imputing row 33901/39926 with 0 missing, elapsed time: 526.212\n",
      "Imputing row 34001/39926 with 0 missing, elapsed time: 526.219\n",
      "Imputing row 34101/39926 with 0 missing, elapsed time: 526.230\n",
      "Imputing row 34201/39926 with 0 missing, elapsed time: 526.234\n",
      "Imputing row 34301/39926 with 0 missing, elapsed time: 526.245\n",
      "Imputing row 34401/39926 with 0 missing, elapsed time: 526.251\n",
      "Imputing row 34501/39926 with 0 missing, elapsed time: 526.262\n",
      "Imputing row 34601/39926 with 0 missing, elapsed time: 526.269\n",
      "Imputing row 34701/39926 with 0 missing, elapsed time: 526.277\n",
      "Imputing row 34801/39926 with 0 missing, elapsed time: 526.289\n",
      "Imputing row 34901/39926 with 0 missing, elapsed time: 526.298\n",
      "Imputing row 35001/39926 with 0 missing, elapsed time: 526.310\n",
      "Imputing row 35101/39926 with 0 missing, elapsed time: 526.317\n",
      "Imputing row 35201/39926 with 0 missing, elapsed time: 526.328\n",
      "Imputing row 35301/39926 with 0 missing, elapsed time: 526.334\n",
      "Imputing row 35401/39926 with 0 missing, elapsed time: 526.339\n",
      "Imputing row 35501/39926 with 0 missing, elapsed time: 526.350\n",
      "Imputing row 35601/39926 with 0 missing, elapsed time: 526.358\n",
      "Imputing row 35701/39926 with 0 missing, elapsed time: 526.364\n",
      "Imputing row 35801/39926 with 0 missing, elapsed time: 526.370\n",
      "Imputing row 35901/39926 with 0 missing, elapsed time: 526.381\n",
      "Imputing row 36001/39926 with 0 missing, elapsed time: 526.390\n",
      "Imputing row 36101/39926 with 0 missing, elapsed time: 526.395\n",
      "Imputing row 36201/39926 with 0 missing, elapsed time: 526.401\n",
      "Imputing row 36301/39926 with 0 missing, elapsed time: 526.411\n",
      "Imputing row 36401/39926 with 0 missing, elapsed time: 526.421\n",
      "Imputing row 36501/39926 with 0 missing, elapsed time: 526.427\n",
      "Imputing row 36601/39926 with 0 missing, elapsed time: 526.435\n",
      "Imputing row 36701/39926 with 10 missing, elapsed time: 526.440\n",
      "Imputing row 36801/39926 with 0 missing, elapsed time: 526.450\n",
      "Imputing row 36901/39926 with 0 missing, elapsed time: 526.453\n",
      "Imputing row 37001/39926 with 0 missing, elapsed time: 526.460\n",
      "Imputing row 37101/39926 with 0 missing, elapsed time: 526.467\n",
      "Imputing row 37201/39926 with 0 missing, elapsed time: 526.474\n",
      "Imputing row 37301/39926 with 0 missing, elapsed time: 526.480\n",
      "Imputing row 37401/39926 with 0 missing, elapsed time: 526.487\n",
      "Imputing row 37501/39926 with 10 missing, elapsed time: 526.498\n",
      "Imputing row 37601/39926 with 10 missing, elapsed time: 526.505\n",
      "Imputing row 37701/39926 with 0 missing, elapsed time: 526.518\n",
      "Imputing row 37801/39926 with 0 missing, elapsed time: 526.530\n",
      "Imputing row 37901/39926 with 0 missing, elapsed time: 526.540\n",
      "Imputing row 38001/39926 with 0 missing, elapsed time: 526.547\n",
      "Imputing row 38101/39926 with 0 missing, elapsed time: 526.562\n",
      "Imputing row 38201/39926 with 0 missing, elapsed time: 526.574\n",
      "Imputing row 38301/39926 with 10 missing, elapsed time: 526.589\n",
      "Imputing row 38401/39926 with 0 missing, elapsed time: 526.605\n",
      "Imputing row 38501/39926 with 10 missing, elapsed time: 526.619\n",
      "Imputing row 38601/39926 with 0 missing, elapsed time: 526.637\n",
      "Imputing row 38701/39926 with 0 missing, elapsed time: 526.655\n",
      "Imputing row 38801/39926 with 10 missing, elapsed time: 526.693\n",
      "Imputing row 38901/39926 with 10 missing, elapsed time: 526.787\n",
      "Imputing row 39001/39926 with 10 missing, elapsed time: 526.878\n",
      "Imputing row 39101/39926 with 10 missing, elapsed time: 526.968\n",
      "Imputing row 39201/39926 with 10 missing, elapsed time: 527.057\n",
      "Imputing row 39301/39926 with 10 missing, elapsed time: 527.144\n",
      "Imputing row 39401/39926 with 10 missing, elapsed time: 527.231\n",
      "Imputing row 39501/39926 with 10 missing, elapsed time: 527.318\n",
      "Imputing row 39601/39926 with 10 missing, elapsed time: 527.404\n",
      "Imputing row 39701/39926 with 10 missing, elapsed time: 527.490\n",
      "Imputing row 39801/39926 with 10 missing, elapsed time: 527.576\n",
      "Imputing row 39901/39926 with 10 missing, elapsed time: 527.661\n",
      "CPU times: user 40min 13s, sys: 10.3 s, total: 40min 23s\n",
      "Wall time: 8min 48s\n"
     ]
    }
   ],
   "source": [
    "%%time\n",
    "# Make imputer for the missing values using KNN\n",
    "\n",
    "from fancyimpute import KNN\n",
    "\n",
    "cleaned_with_desc_filled = KNN(k=5).fit_transform(cleaned_with_desc)"
   ]
  },
  {
   "cell_type": "code",
   "execution_count": 159,
   "metadata": {},
   "outputs": [],
   "source": [
    "cleaned_with_desc_filled = pd.DataFrame(cleaned_with_desc_filled, columns=cleaned_with_desc.columns)"
   ]
  },
  {
   "cell_type": "code",
   "execution_count": 160,
   "metadata": {},
   "outputs": [],
   "source": [
    "cleaned_with_desc_filled.to_csv('cleaned_with_desc_filled.csv')"
   ]
  },
  {
   "cell_type": "code",
   "execution_count": 161,
   "metadata": {},
   "outputs": [],
   "source": [
    "del cleaned_with_desc, data"
   ]
  },
  {
   "cell_type": "markdown",
   "metadata": {},
   "source": [
    "### Model building"
   ]
  },
  {
   "cell_type": "code",
   "execution_count": 175,
   "metadata": {},
   "outputs": [],
   "source": [
    "# Make a pipeline to train with random search tuning\n",
    "\n",
    "from sklearn.model_selection import train_test_split\n",
    "from sklearn.model_selection import cross_val_score\n",
    "from sklearn import metrics\n",
    "from sklearn.model_selection import RandomizedSearchCV\n",
    "from sklearn.preprocessing import StandardScaler\n",
    "import xgboost as xgb"
   ]
  },
  {
   "cell_type": "markdown",
   "metadata": {},
   "source": [
    "**Baseline**: see performance without appended columns"
   ]
  },
  {
   "cell_type": "code",
   "execution_count": 164,
   "metadata": {},
   "outputs": [
    {
     "data": {
      "text/plain": [
       "0    137.0\n",
       "1    149.0\n",
       "2    225.0\n",
       "3     70.0\n",
       "4     89.0\n",
       "Name: price, dtype: float64"
      ]
     },
     "execution_count": 164,
     "metadata": {},
     "output_type": "execute_result"
    }
   ],
   "source": [
    "cleaned_data.price.head()"
   ]
  },
  {
   "cell_type": "code",
   "execution_count": null,
   "metadata": {},
   "outputs": [],
   "source": [
    "cleaned_data.set_index('id', inplace=True)"
   ]
  },
  {
   "cell_type": "code",
   "execution_count": 176,
   "metadata": {},
   "outputs": [],
   "source": [
    "scaler_baseline = StandardScaler()"
   ]
  },
  {
   "cell_type": "code",
   "execution_count": 166,
   "metadata": {},
   "outputs": [],
   "source": [
    "y_baseline = cleaned_data.price\n",
    "X_baseline = cleaned_data.loc[:, cleaned_data.columns != 'price']"
   ]
  },
  {
   "cell_type": "code",
   "execution_count": 177,
   "metadata": {},
   "outputs": [
    {
     "name": "stderr",
     "output_type": "stream",
     "text": [
      "/home/twang/anaconda3/lib/python3.6/site-packages/sklearn/preprocessing/data.py:625: DataConversionWarning: Data with input dtype int64, float64 were all converted to float64 by StandardScaler.\n",
      "  return self.partial_fit(X, y)\n",
      "/home/twang/anaconda3/lib/python3.6/site-packages/sklearn/base.py:462: DataConversionWarning: Data with input dtype int64, float64 were all converted to float64 by StandardScaler.\n",
      "  return self.fit(X, **fit_params).transform(X)\n"
     ]
    }
   ],
   "source": [
    "fit_baseline = xgb.XGBRegressor(objective='reg:linear', random_state = 23)\n",
    "cv_baseline = cross_val_score(fit_baseline, scaler_baseline.fit_transform(X_baseline), y_baseline, cv = 5, scoring='neg_mean_squared_error')"
   ]
  },
  {
   "cell_type": "code",
   "execution_count": 178,
   "metadata": {},
   "outputs": [
    {
     "data": {
      "text/plain": [
       "171.53075105041998"
      ]
     },
     "execution_count": 178,
     "metadata": {},
     "output_type": "execute_result"
    }
   ],
   "source": [
    "np.sqrt(-cv_baseline.mean())"
   ]
  },
  {
   "cell_type": "markdown",
   "metadata": {},
   "source": [
    "**Lift**: with new columns, see how much lift is generated"
   ]
  },
  {
   "cell_type": "code",
   "execution_count": 171,
   "metadata": {},
   "outputs": [],
   "source": [
    "cleaned_with_desc_filled.set_index('id', inplace=True)"
   ]
  },
  {
   "cell_type": "code",
   "execution_count": 179,
   "metadata": {},
   "outputs": [],
   "source": [
    "scaler_lift = StandardScaler()"
   ]
  },
  {
   "cell_type": "code",
   "execution_count": 172,
   "metadata": {},
   "outputs": [],
   "source": [
    "y_lift = cleaned_with_desc_filled.price\n",
    "X_lift = cleaned_with_desc_filled.loc[:, cleaned_with_desc_filled.columns != 'price']"
   ]
  },
  {
   "cell_type": "code",
   "execution_count": 181,
   "metadata": {},
   "outputs": [],
   "source": [
    "fit_lift = xgb.XGBRegressor(objective='reg:linear', random_state = 23)\n",
    "cv_lift = cross_val_score(fit_lift, scaler_lift.fit_transform(X_lift), y_lift, cv = 5, scoring='neg_mean_squared_error')"
   ]
  },
  {
   "cell_type": "code",
   "execution_count": 182,
   "metadata": {},
   "outputs": [
    {
     "data": {
      "text/plain": [
       "172.6613213053378"
      ]
     },
     "execution_count": 182,
     "metadata": {},
     "output_type": "execute_result"
    }
   ],
   "source": [
    "np.sqrt(-cv_lift.mean())"
   ]
  },
  {
   "cell_type": "markdown",
   "metadata": {},
   "source": [
    "### Conclusion\n",
    "\n",
    "It does seem that the new columns did not add predictive power to the model.  This is surprising, but understandable, as these new vectors did not really have a strong correlation with price (in the 10% range).  It seems we just don't have enough information in these vectors to really explain variations in price."
   ]
  },
  {
   "cell_type": "markdown",
   "metadata": {},
   "source": [
    "I also looked at collinearity and found that we can further process the data to remove some of the super highly collinear columns potentially, and this might merit further investigation.  Perhaps these could be result of mistakes in data cleaning."
   ]
  },
  {
   "cell_type": "code",
   "execution_count": 184,
   "metadata": {},
   "outputs": [
    {
     "data": {
      "image/png": "[encoded data removed]",
      "text/plain": [
       "<Figure size 288x288 with 1 Axes>"
      ]
     },
     "metadata": {
      "needs_background": "light"
     },
     "output_type": "display_data"
    }
   ],
   "source": [
    "plt.matshow(X_lift.corr())\n",
    "plt.show()"
   ]
  },
  {
   "cell_type": "code",
   "execution_count": 186,
   "metadata": {},
   "outputs": [
    {
     "data": {
      "image/png": "[encoded data removed]",
      "text/plain": [
       "<Figure size 288x288 with 1 Axes>"
      ]
     },
     "metadata": {
      "needs_background": "light"
     },
     "output_type": "display_data"
    }
   ],
   "source": [
    "plt.matshow(X_lift.iloc[:, 5:40].corr())\n",
    "plt.show()"
   ]
  },
  {
   "cell_type": "code",
   "execution_count": 188,
   "metadata": {},
   "outputs": [
    {
     "data": {
      "image/png": "[encoded data removed]",
      "text/plain": [
       "<Figure size 288x288 with 1 Axes>"
      ]
     },
     "metadata": {
      "needs_background": "light"
     },
     "output_type": "display_data"
    }
   ],
   "source": [
    "plt.matshow(X_lift.iloc[:, 15:23].corr())\n",
    "plt.show()"
   ]
  },
  {
   "cell_type": "code",
   "execution_count": 189,
   "metadata": {},
   "outputs": [
    {
     "data": {
      "text/plain": [
       "Index(['minimum_nights', 'maximum_nights', 'minimum_minimum_nights',\n",
       "       'maximum_minimum_nights', 'minimum_maximum_nights',\n",
       "       'maximum_maximum_nights', 'minimum_nights_avg_ntm',\n",
       "       'maximum_nights_avg_ntm'],\n",
       "      dtype='object')"
      ]
     },
     "execution_count": 189,
     "metadata": {},
     "output_type": "execute_result"
    }
   ],
   "source": [
    "X_lift.iloc[:, 15:23].columns"
   ]
  },
  {
   "cell_type": "code",
   "execution_count": 192,
   "metadata": {},
   "outputs": [
    {
     "data": {
      "image/png": "[encoded data removed]",
      "text/plain": [
       "<Figure size 288x288 with 1 Axes>"
      ]
     },
     "metadata": {
      "needs_background": "light"
     },
     "output_type": "display_data"
    }
   ],
   "source": [
    "plt.matshow(X_lift.iloc[:, 23:29].corr())\n",
    "plt.show()"
   ]
  },
  {
   "cell_type": "code",
   "execution_count": 193,
   "metadata": {},
   "outputs": [
    {
     "data": {
      "text/plain": [
       "Index(['availability_30', 'availability_60', 'availability_90',\n",
       "       'availability_365', 'number_of_reviews', 'number_of_reviews_ltm'],\n",
       "      dtype='object')"
      ]
     },
     "execution_count": 193,
     "metadata": {},
     "output_type": "execute_result"
    }
   ],
   "source": [
    "X_lift.iloc[:, 23:29].columns"
   ]
  },
  {
   "cell_type": "code",
   "execution_count": null,
   "metadata": {},
   "outputs": [],
   "source": []
  }
 ],
 "metadata": {
  "kernelspec": {
   "display_name": "Python 3",
   "language": "python",
   "name": "python3"
  },
  "language_info": {
   "codemirror_mode": {
    "name": "ipython",
    "version": 3
   },
   "file_extension": ".py",
   "mimetype": "text/x-python",
   "name": "python",
   "nbconvert_exporter": "python",
   "pygments_lexer": "ipython3",
   "version": "3.7.2"
  }
 },
 "nbformat": 4,
 "nbformat_minor": 2
}
